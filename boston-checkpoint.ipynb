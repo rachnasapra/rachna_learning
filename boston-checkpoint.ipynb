{
 "cells": [
  {
   "cell_type": "code",
   "execution_count": 6,
   "metadata": {},
   "outputs": [
    {
     "data": {
      "text/html": [
       "<div>\n",
       "<style scoped>\n",
       "    .dataframe tbody tr th:only-of-type {\n",
       "        vertical-align: middle;\n",
       "    }\n",
       "\n",
       "    .dataframe tbody tr th {\n",
       "        vertical-align: top;\n",
       "    }\n",
       "\n",
       "    .dataframe thead th {\n",
       "        text-align: right;\n",
       "    }\n",
       "</style>\n",
       "<table border=\"1\" class=\"dataframe\">\n",
       "  <thead>\n",
       "    <tr style=\"text-align: right;\">\n",
       "      <th></th>\n",
       "      <th>id</th>\n",
       "      <th>listing_url</th>\n",
       "      <th>scrape_id</th>\n",
       "      <th>last_scraped</th>\n",
       "      <th>name</th>\n",
       "      <th>summary</th>\n",
       "      <th>space</th>\n",
       "      <th>description</th>\n",
       "      <th>experiences_offered</th>\n",
       "      <th>neighborhood_overview</th>\n",
       "      <th>...</th>\n",
       "      <th>review_scores_value</th>\n",
       "      <th>requires_license</th>\n",
       "      <th>license</th>\n",
       "      <th>jurisdiction_names</th>\n",
       "      <th>instant_bookable</th>\n",
       "      <th>cancellation_policy</th>\n",
       "      <th>require_guest_profile_picture</th>\n",
       "      <th>require_guest_phone_verification</th>\n",
       "      <th>calculated_host_listings_count</th>\n",
       "      <th>reviews_per_month</th>\n",
       "    </tr>\n",
       "  </thead>\n",
       "  <tbody>\n",
       "    <tr>\n",
       "      <td>0</td>\n",
       "      <td>12147973</td>\n",
       "      <td>https://www.airbnb.com/rooms/12147973</td>\n",
       "      <td>20160906204935</td>\n",
       "      <td>2016-09-07</td>\n",
       "      <td>Sunny Bungalow in the City</td>\n",
       "      <td>Cozy, sunny, family home.  Master bedroom high...</td>\n",
       "      <td>The house has an open and cozy feel at the sam...</td>\n",
       "      <td>Cozy, sunny, family home.  Master bedroom high...</td>\n",
       "      <td>none</td>\n",
       "      <td>Roslindale is quiet, convenient and friendly. ...</td>\n",
       "      <td>...</td>\n",
       "      <td>NaN</td>\n",
       "      <td>f</td>\n",
       "      <td>NaN</td>\n",
       "      <td>NaN</td>\n",
       "      <td>f</td>\n",
       "      <td>moderate</td>\n",
       "      <td>f</td>\n",
       "      <td>f</td>\n",
       "      <td>1</td>\n",
       "      <td>NaN</td>\n",
       "    </tr>\n",
       "    <tr>\n",
       "      <td>1</td>\n",
       "      <td>3075044</td>\n",
       "      <td>https://www.airbnb.com/rooms/3075044</td>\n",
       "      <td>20160906204935</td>\n",
       "      <td>2016-09-07</td>\n",
       "      <td>Charming room in pet friendly apt</td>\n",
       "      <td>Charming and quiet room in a second floor 1910...</td>\n",
       "      <td>Small but cozy and quite room with a full size...</td>\n",
       "      <td>Charming and quiet room in a second floor 1910...</td>\n",
       "      <td>none</td>\n",
       "      <td>The room is in Roslindale, a diverse and prima...</td>\n",
       "      <td>...</td>\n",
       "      <td>9.0</td>\n",
       "      <td>f</td>\n",
       "      <td>NaN</td>\n",
       "      <td>NaN</td>\n",
       "      <td>t</td>\n",
       "      <td>moderate</td>\n",
       "      <td>f</td>\n",
       "      <td>f</td>\n",
       "      <td>1</td>\n",
       "      <td>1.30</td>\n",
       "    </tr>\n",
       "    <tr>\n",
       "      <td>2</td>\n",
       "      <td>6976</td>\n",
       "      <td>https://www.airbnb.com/rooms/6976</td>\n",
       "      <td>20160906204935</td>\n",
       "      <td>2016-09-07</td>\n",
       "      <td>Mexican Folk Art Haven in Boston</td>\n",
       "      <td>Come stay with a friendly, middle-aged guy in ...</td>\n",
       "      <td>Come stay with a friendly, middle-aged guy in ...</td>\n",
       "      <td>Come stay with a friendly, middle-aged guy in ...</td>\n",
       "      <td>none</td>\n",
       "      <td>The LOCATION: Roslindale is a safe and diverse...</td>\n",
       "      <td>...</td>\n",
       "      <td>10.0</td>\n",
       "      <td>f</td>\n",
       "      <td>NaN</td>\n",
       "      <td>NaN</td>\n",
       "      <td>f</td>\n",
       "      <td>moderate</td>\n",
       "      <td>t</td>\n",
       "      <td>f</td>\n",
       "      <td>1</td>\n",
       "      <td>0.47</td>\n",
       "    </tr>\n",
       "    <tr>\n",
       "      <td>3</td>\n",
       "      <td>1436513</td>\n",
       "      <td>https://www.airbnb.com/rooms/1436513</td>\n",
       "      <td>20160906204935</td>\n",
       "      <td>2016-09-07</td>\n",
       "      <td>Spacious Sunny Bedroom Suite in Historic Home</td>\n",
       "      <td>Come experience the comforts of home away from...</td>\n",
       "      <td>Most places you find in Boston are small howev...</td>\n",
       "      <td>Come experience the comforts of home away from...</td>\n",
       "      <td>none</td>\n",
       "      <td>Roslindale is a lovely little neighborhood loc...</td>\n",
       "      <td>...</td>\n",
       "      <td>10.0</td>\n",
       "      <td>f</td>\n",
       "      <td>NaN</td>\n",
       "      <td>NaN</td>\n",
       "      <td>f</td>\n",
       "      <td>moderate</td>\n",
       "      <td>f</td>\n",
       "      <td>f</td>\n",
       "      <td>1</td>\n",
       "      <td>1.00</td>\n",
       "    </tr>\n",
       "    <tr>\n",
       "      <td>4</td>\n",
       "      <td>7651065</td>\n",
       "      <td>https://www.airbnb.com/rooms/7651065</td>\n",
       "      <td>20160906204935</td>\n",
       "      <td>2016-09-07</td>\n",
       "      <td>Come Home to Boston</td>\n",
       "      <td>My comfy, clean and relaxing home is one block...</td>\n",
       "      <td>Clean, attractive, private room, one block fro...</td>\n",
       "      <td>My comfy, clean and relaxing home is one block...</td>\n",
       "      <td>none</td>\n",
       "      <td>I love the proximity to downtown, the neighbor...</td>\n",
       "      <td>...</td>\n",
       "      <td>10.0</td>\n",
       "      <td>f</td>\n",
       "      <td>NaN</td>\n",
       "      <td>NaN</td>\n",
       "      <td>f</td>\n",
       "      <td>flexible</td>\n",
       "      <td>f</td>\n",
       "      <td>f</td>\n",
       "      <td>1</td>\n",
       "      <td>2.25</td>\n",
       "    </tr>\n",
       "  </tbody>\n",
       "</table>\n",
       "<p>5 rows × 95 columns</p>\n",
       "</div>"
      ],
      "text/plain": [
       "         id                            listing_url       scrape_id  \\\n",
       "0  12147973  https://www.airbnb.com/rooms/12147973  20160906204935   \n",
       "1   3075044   https://www.airbnb.com/rooms/3075044  20160906204935   \n",
       "2      6976      https://www.airbnb.com/rooms/6976  20160906204935   \n",
       "3   1436513   https://www.airbnb.com/rooms/1436513  20160906204935   \n",
       "4   7651065   https://www.airbnb.com/rooms/7651065  20160906204935   \n",
       "\n",
       "  last_scraped                                           name  \\\n",
       "0   2016-09-07                     Sunny Bungalow in the City   \n",
       "1   2016-09-07              Charming room in pet friendly apt   \n",
       "2   2016-09-07               Mexican Folk Art Haven in Boston   \n",
       "3   2016-09-07  Spacious Sunny Bedroom Suite in Historic Home   \n",
       "4   2016-09-07                            Come Home to Boston   \n",
       "\n",
       "                                             summary  \\\n",
       "0  Cozy, sunny, family home.  Master bedroom high...   \n",
       "1  Charming and quiet room in a second floor 1910...   \n",
       "2  Come stay with a friendly, middle-aged guy in ...   \n",
       "3  Come experience the comforts of home away from...   \n",
       "4  My comfy, clean and relaxing home is one block...   \n",
       "\n",
       "                                               space  \\\n",
       "0  The house has an open and cozy feel at the sam...   \n",
       "1  Small but cozy and quite room with a full size...   \n",
       "2  Come stay with a friendly, middle-aged guy in ...   \n",
       "3  Most places you find in Boston are small howev...   \n",
       "4  Clean, attractive, private room, one block fro...   \n",
       "\n",
       "                                         description experiences_offered  \\\n",
       "0  Cozy, sunny, family home.  Master bedroom high...                none   \n",
       "1  Charming and quiet room in a second floor 1910...                none   \n",
       "2  Come stay with a friendly, middle-aged guy in ...                none   \n",
       "3  Come experience the comforts of home away from...                none   \n",
       "4  My comfy, clean and relaxing home is one block...                none   \n",
       "\n",
       "                               neighborhood_overview  ... review_scores_value  \\\n",
       "0  Roslindale is quiet, convenient and friendly. ...  ...                 NaN   \n",
       "1  The room is in Roslindale, a diverse and prima...  ...                 9.0   \n",
       "2  The LOCATION: Roslindale is a safe and diverse...  ...                10.0   \n",
       "3  Roslindale is a lovely little neighborhood loc...  ...                10.0   \n",
       "4  I love the proximity to downtown, the neighbor...  ...                10.0   \n",
       "\n",
       "  requires_license license jurisdiction_names instant_bookable  \\\n",
       "0                f     NaN                NaN                f   \n",
       "1                f     NaN                NaN                t   \n",
       "2                f     NaN                NaN                f   \n",
       "3                f     NaN                NaN                f   \n",
       "4                f     NaN                NaN                f   \n",
       "\n",
       "  cancellation_policy require_guest_profile_picture  \\\n",
       "0            moderate                             f   \n",
       "1            moderate                             f   \n",
       "2            moderate                             t   \n",
       "3            moderate                             f   \n",
       "4            flexible                             f   \n",
       "\n",
       "  require_guest_phone_verification calculated_host_listings_count  \\\n",
       "0                                f                              1   \n",
       "1                                f                              1   \n",
       "2                                f                              1   \n",
       "3                                f                              1   \n",
       "4                                f                              1   \n",
       "\n",
       "   reviews_per_month  \n",
       "0                NaN  \n",
       "1               1.30  \n",
       "2               0.47  \n",
       "3               1.00  \n",
       "4               2.25  \n",
       "\n",
       "[5 rows x 95 columns]"
      ]
     },
     "execution_count": 6,
     "metadata": {},
     "output_type": "execute_result"
    }
   ],
   "source": [
    "                 #Business Understanding\n",
    "#understanding the business model and came up with below questions to answer.\n",
    "#Q1:What are the most common amenities and most popular and least popular among them?\n",
    "#Q2: What attracts the guests most for renting a property in 30, 60, 90 booking days buckets?\n",
    "#Q3: What are the most influential features of the dataset to estimate the price of a listing  \n",
    "\n",
    "import numpy as np\n",
    "import pandas as pd\n",
    "import matplotlib.pyplot as plt\n",
    "from sklearn.linear_model import LinearRegression\n",
    "from sklearn.model_selection import train_test_split\n",
    "from sklearn.metrics import r2_score, mean_squared_error\n",
    "import seaborn as sns\n",
    "from collections import defaultdict\n",
    "from sklearn.feature_selection import SelectKBest\n",
    "from sklearn.feature_selection import f_regression\n",
    "import math\n",
    "%matplotlib inline\n",
    "\n",
    "# Data Understanding\n",
    "df_boston = pd.read_csv('listings_boston.csv')\n",
    "\n",
    "df_boston.head()"
   ]
  },
  {
   "cell_type": "markdown",
   "metadata": {},
   "source": [
    "First I would like to know about the dimentions of each dataset."
   ]
  },
  {
   "cell_type": "code",
   "execution_count": 2,
   "metadata": {
    "scrolled": true
   },
   "outputs": [
    {
     "name": "stdout",
     "output_type": "stream",
     "text": [
      "(3585, 95)\n"
     ]
    }
   ],
   "source": [
    "#Below code gives information about the number of columns and number of rows.\n",
    "print(df_boston.shape)"
   ]
  },
  {
   "cell_type": "markdown",
   "metadata": {},
   "source": [
    "The listings show each house's informations so I would like to know more about this dataset, starting with the column names and data types of each house."
   ]
  },
  {
   "cell_type": "code",
   "execution_count": 3,
   "metadata": {},
   "outputs": [
    {
     "data": {
      "text/plain": [
       "object     62\n",
       "float64    18\n",
       "int64      15\n",
       "dtype: int64"
      ]
     },
     "execution_count": 3,
     "metadata": {},
     "output_type": "execute_result"
    }
   ],
   "source": [
    "#Below code show the data types and the number of these data types in the dataset\n",
    "df_boston.dtypes.value_counts()"
   ]
  },
  {
   "cell_type": "code",
   "execution_count": 4,
   "metadata": {
    "scrolled": true
   },
   "outputs": [
    {
     "data": {
      "text/html": [
       "<div>\n",
       "<style scoped>\n",
       "    .dataframe tbody tr th:only-of-type {\n",
       "        vertical-align: middle;\n",
       "    }\n",
       "\n",
       "    .dataframe tbody tr th {\n",
       "        vertical-align: top;\n",
       "    }\n",
       "\n",
       "    .dataframe thead th {\n",
       "        text-align: right;\n",
       "    }\n",
       "</style>\n",
       "<table border=\"1\" class=\"dataframe\">\n",
       "  <thead>\n",
       "    <tr style=\"text-align: right;\">\n",
       "      <th></th>\n",
       "      <th>id</th>\n",
       "      <th>scrape_id</th>\n",
       "      <th>host_id</th>\n",
       "      <th>host_listings_count</th>\n",
       "      <th>host_total_listings_count</th>\n",
       "      <th>neighbourhood_group_cleansed</th>\n",
       "      <th>latitude</th>\n",
       "      <th>longitude</th>\n",
       "      <th>accommodates</th>\n",
       "      <th>bathrooms</th>\n",
       "      <th>...</th>\n",
       "      <th>review_scores_accuracy</th>\n",
       "      <th>review_scores_cleanliness</th>\n",
       "      <th>review_scores_checkin</th>\n",
       "      <th>review_scores_communication</th>\n",
       "      <th>review_scores_location</th>\n",
       "      <th>review_scores_value</th>\n",
       "      <th>license</th>\n",
       "      <th>jurisdiction_names</th>\n",
       "      <th>calculated_host_listings_count</th>\n",
       "      <th>reviews_per_month</th>\n",
       "    </tr>\n",
       "  </thead>\n",
       "  <tbody>\n",
       "    <tr>\n",
       "      <td>count</td>\n",
       "      <td>3.585000e+03</td>\n",
       "      <td>3.585000e+03</td>\n",
       "      <td>3.585000e+03</td>\n",
       "      <td>3585.000000</td>\n",
       "      <td>3585.000000</td>\n",
       "      <td>0.0</td>\n",
       "      <td>3585.000000</td>\n",
       "      <td>3585.000000</td>\n",
       "      <td>3585.000000</td>\n",
       "      <td>3571.000000</td>\n",
       "      <td>...</td>\n",
       "      <td>2762.000000</td>\n",
       "      <td>2767.000000</td>\n",
       "      <td>2765.000000</td>\n",
       "      <td>2767.000000</td>\n",
       "      <td>2763.000000</td>\n",
       "      <td>2764.000000</td>\n",
       "      <td>0.0</td>\n",
       "      <td>0.0</td>\n",
       "      <td>3585.000000</td>\n",
       "      <td>2829.000000</td>\n",
       "    </tr>\n",
       "    <tr>\n",
       "      <td>mean</td>\n",
       "      <td>8.440875e+06</td>\n",
       "      <td>2.016091e+13</td>\n",
       "      <td>2.492311e+07</td>\n",
       "      <td>58.902371</td>\n",
       "      <td>58.902371</td>\n",
       "      <td>NaN</td>\n",
       "      <td>42.340032</td>\n",
       "      <td>-71.084818</td>\n",
       "      <td>3.041283</td>\n",
       "      <td>1.221647</td>\n",
       "      <td>...</td>\n",
       "      <td>9.431571</td>\n",
       "      <td>9.258041</td>\n",
       "      <td>9.646293</td>\n",
       "      <td>9.646549</td>\n",
       "      <td>9.414043</td>\n",
       "      <td>9.168234</td>\n",
       "      <td>NaN</td>\n",
       "      <td>NaN</td>\n",
       "      <td>12.733891</td>\n",
       "      <td>1.970908</td>\n",
       "    </tr>\n",
       "    <tr>\n",
       "      <td>std</td>\n",
       "      <td>4.500787e+06</td>\n",
       "      <td>8.516813e-01</td>\n",
       "      <td>2.292781e+07</td>\n",
       "      <td>171.119663</td>\n",
       "      <td>171.119663</td>\n",
       "      <td>NaN</td>\n",
       "      <td>0.024403</td>\n",
       "      <td>0.031565</td>\n",
       "      <td>1.778929</td>\n",
       "      <td>0.501487</td>\n",
       "      <td>...</td>\n",
       "      <td>0.931863</td>\n",
       "      <td>1.168977</td>\n",
       "      <td>0.762753</td>\n",
       "      <td>0.735507</td>\n",
       "      <td>0.903436</td>\n",
       "      <td>1.011116</td>\n",
       "      <td>NaN</td>\n",
       "      <td>NaN</td>\n",
       "      <td>29.415076</td>\n",
       "      <td>2.120561</td>\n",
       "    </tr>\n",
       "    <tr>\n",
       "      <td>min</td>\n",
       "      <td>3.353000e+03</td>\n",
       "      <td>2.016091e+13</td>\n",
       "      <td>4.240000e+03</td>\n",
       "      <td>0.000000</td>\n",
       "      <td>0.000000</td>\n",
       "      <td>NaN</td>\n",
       "      <td>42.235942</td>\n",
       "      <td>-71.171789</td>\n",
       "      <td>1.000000</td>\n",
       "      <td>0.000000</td>\n",
       "      <td>...</td>\n",
       "      <td>2.000000</td>\n",
       "      <td>2.000000</td>\n",
       "      <td>2.000000</td>\n",
       "      <td>4.000000</td>\n",
       "      <td>2.000000</td>\n",
       "      <td>2.000000</td>\n",
       "      <td>NaN</td>\n",
       "      <td>NaN</td>\n",
       "      <td>1.000000</td>\n",
       "      <td>0.010000</td>\n",
       "    </tr>\n",
       "    <tr>\n",
       "      <td>25%</td>\n",
       "      <td>4.679319e+06</td>\n",
       "      <td>2.016091e+13</td>\n",
       "      <td>6.103425e+06</td>\n",
       "      <td>1.000000</td>\n",
       "      <td>1.000000</td>\n",
       "      <td>NaN</td>\n",
       "      <td>42.329995</td>\n",
       "      <td>-71.105083</td>\n",
       "      <td>2.000000</td>\n",
       "      <td>1.000000</td>\n",
       "      <td>...</td>\n",
       "      <td>9.000000</td>\n",
       "      <td>9.000000</td>\n",
       "      <td>9.000000</td>\n",
       "      <td>9.000000</td>\n",
       "      <td>9.000000</td>\n",
       "      <td>9.000000</td>\n",
       "      <td>NaN</td>\n",
       "      <td>NaN</td>\n",
       "      <td>1.000000</td>\n",
       "      <td>0.480000</td>\n",
       "    </tr>\n",
       "    <tr>\n",
       "      <td>50%</td>\n",
       "      <td>8.577620e+06</td>\n",
       "      <td>2.016091e+13</td>\n",
       "      <td>1.928100e+07</td>\n",
       "      <td>2.000000</td>\n",
       "      <td>2.000000</td>\n",
       "      <td>NaN</td>\n",
       "      <td>42.345201</td>\n",
       "      <td>-71.078429</td>\n",
       "      <td>2.000000</td>\n",
       "      <td>1.000000</td>\n",
       "      <td>...</td>\n",
       "      <td>10.000000</td>\n",
       "      <td>10.000000</td>\n",
       "      <td>10.000000</td>\n",
       "      <td>10.000000</td>\n",
       "      <td>10.000000</td>\n",
       "      <td>9.000000</td>\n",
       "      <td>NaN</td>\n",
       "      <td>NaN</td>\n",
       "      <td>2.000000</td>\n",
       "      <td>1.170000</td>\n",
       "    </tr>\n",
       "    <tr>\n",
       "      <td>75%</td>\n",
       "      <td>1.278953e+07</td>\n",
       "      <td>2.016091e+13</td>\n",
       "      <td>3.622147e+07</td>\n",
       "      <td>7.000000</td>\n",
       "      <td>7.000000</td>\n",
       "      <td>NaN</td>\n",
       "      <td>42.354685</td>\n",
       "      <td>-71.062155</td>\n",
       "      <td>4.000000</td>\n",
       "      <td>1.000000</td>\n",
       "      <td>...</td>\n",
       "      <td>10.000000</td>\n",
       "      <td>10.000000</td>\n",
       "      <td>10.000000</td>\n",
       "      <td>10.000000</td>\n",
       "      <td>10.000000</td>\n",
       "      <td>10.000000</td>\n",
       "      <td>NaN</td>\n",
       "      <td>NaN</td>\n",
       "      <td>6.000000</td>\n",
       "      <td>2.720000</td>\n",
       "    </tr>\n",
       "    <tr>\n",
       "      <td>max</td>\n",
       "      <td>1.493346e+07</td>\n",
       "      <td>2.016091e+13</td>\n",
       "      <td>9.385411e+07</td>\n",
       "      <td>749.000000</td>\n",
       "      <td>749.000000</td>\n",
       "      <td>NaN</td>\n",
       "      <td>42.389982</td>\n",
       "      <td>-71.000100</td>\n",
       "      <td>16.000000</td>\n",
       "      <td>6.000000</td>\n",
       "      <td>...</td>\n",
       "      <td>10.000000</td>\n",
       "      <td>10.000000</td>\n",
       "      <td>10.000000</td>\n",
       "      <td>10.000000</td>\n",
       "      <td>10.000000</td>\n",
       "      <td>10.000000</td>\n",
       "      <td>NaN</td>\n",
       "      <td>NaN</td>\n",
       "      <td>136.000000</td>\n",
       "      <td>19.150000</td>\n",
       "    </tr>\n",
       "  </tbody>\n",
       "</table>\n",
       "<p>8 rows × 33 columns</p>\n",
       "</div>"
      ],
      "text/plain": [
       "                 id     scrape_id       host_id  host_listings_count  \\\n",
       "count  3.585000e+03  3.585000e+03  3.585000e+03          3585.000000   \n",
       "mean   8.440875e+06  2.016091e+13  2.492311e+07            58.902371   \n",
       "std    4.500787e+06  8.516813e-01  2.292781e+07           171.119663   \n",
       "min    3.353000e+03  2.016091e+13  4.240000e+03             0.000000   \n",
       "25%    4.679319e+06  2.016091e+13  6.103425e+06             1.000000   \n",
       "50%    8.577620e+06  2.016091e+13  1.928100e+07             2.000000   \n",
       "75%    1.278953e+07  2.016091e+13  3.622147e+07             7.000000   \n",
       "max    1.493346e+07  2.016091e+13  9.385411e+07           749.000000   \n",
       "\n",
       "       host_total_listings_count  neighbourhood_group_cleansed     latitude  \\\n",
       "count                3585.000000                           0.0  3585.000000   \n",
       "mean                   58.902371                           NaN    42.340032   \n",
       "std                   171.119663                           NaN     0.024403   \n",
       "min                     0.000000                           NaN    42.235942   \n",
       "25%                     1.000000                           NaN    42.329995   \n",
       "50%                     2.000000                           NaN    42.345201   \n",
       "75%                     7.000000                           NaN    42.354685   \n",
       "max                   749.000000                           NaN    42.389982   \n",
       "\n",
       "         longitude  accommodates    bathrooms  ...  review_scores_accuracy  \\\n",
       "count  3585.000000   3585.000000  3571.000000  ...             2762.000000   \n",
       "mean    -71.084818      3.041283     1.221647  ...                9.431571   \n",
       "std       0.031565      1.778929     0.501487  ...                0.931863   \n",
       "min     -71.171789      1.000000     0.000000  ...                2.000000   \n",
       "25%     -71.105083      2.000000     1.000000  ...                9.000000   \n",
       "50%     -71.078429      2.000000     1.000000  ...               10.000000   \n",
       "75%     -71.062155      4.000000     1.000000  ...               10.000000   \n",
       "max     -71.000100     16.000000     6.000000  ...               10.000000   \n",
       "\n",
       "       review_scores_cleanliness  review_scores_checkin  \\\n",
       "count                2767.000000            2765.000000   \n",
       "mean                    9.258041               9.646293   \n",
       "std                     1.168977               0.762753   \n",
       "min                     2.000000               2.000000   \n",
       "25%                     9.000000               9.000000   \n",
       "50%                    10.000000              10.000000   \n",
       "75%                    10.000000              10.000000   \n",
       "max                    10.000000              10.000000   \n",
       "\n",
       "       review_scores_communication  review_scores_location  \\\n",
       "count                  2767.000000             2763.000000   \n",
       "mean                      9.646549                9.414043   \n",
       "std                       0.735507                0.903436   \n",
       "min                       4.000000                2.000000   \n",
       "25%                       9.000000                9.000000   \n",
       "50%                      10.000000               10.000000   \n",
       "75%                      10.000000               10.000000   \n",
       "max                      10.000000               10.000000   \n",
       "\n",
       "       review_scores_value  license  jurisdiction_names  \\\n",
       "count          2764.000000      0.0                 0.0   \n",
       "mean              9.168234      NaN                 NaN   \n",
       "std               1.011116      NaN                 NaN   \n",
       "min               2.000000      NaN                 NaN   \n",
       "25%               9.000000      NaN                 NaN   \n",
       "50%               9.000000      NaN                 NaN   \n",
       "75%              10.000000      NaN                 NaN   \n",
       "max              10.000000      NaN                 NaN   \n",
       "\n",
       "       calculated_host_listings_count  reviews_per_month  \n",
       "count                     3585.000000        2829.000000  \n",
       "mean                        12.733891           1.970908  \n",
       "std                         29.415076           2.120561  \n",
       "min                          1.000000           0.010000  \n",
       "25%                          1.000000           0.480000  \n",
       "50%                          2.000000           1.170000  \n",
       "75%                          6.000000           2.720000  \n",
       "max                        136.000000          19.150000  \n",
       "\n",
       "[8 rows x 33 columns]"
      ]
     },
     "execution_count": 4,
     "metadata": {},
     "output_type": "execute_result"
    }
   ],
   "source": [
    "#Below code describe the data\n",
    "df_boston.describe()"
   ]
  },
  {
   "cell_type": "code",
   "execution_count": 5,
   "metadata": {},
   "outputs": [
    {
     "data": {
      "text/plain": [
       "neighbourhood_group_cleansed    3585\n",
       "jurisdiction_names              3585\n",
       "license                         3585\n",
       "has_availability                3585\n",
       "square_feet                     3529\n",
       "                                ... \n",
       "state                              0\n",
       "neighbourhood_cleansed             0\n",
       "street                             0\n",
       "host_identity_verified             0\n",
       "id                                 0\n",
       "Length: 95, dtype: int64"
      ]
     },
     "execution_count": 5,
     "metadata": {},
     "output_type": "execute_result"
    }
   ],
   "source": [
    "#Below code shows the number of missing values in each column in descending order\n",
    "df_boston.isnull().sum().sort_values(ascending=False)"
   ]
  },
  {
   "cell_type": "code",
   "execution_count": 7,
   "metadata": {},
   "outputs": [
    {
     "data": {
      "text/plain": [
       "id             3585\n",
       "listing_url    3585\n",
       "picture_url    3585\n",
       "latitude       3585\n",
       "longitude      3585\n",
       "dtype: int64"
      ]
     },
     "execution_count": 7,
     "metadata": {},
     "output_type": "execute_result"
    }
   ],
   "source": [
    "#Below code shows the columns names that do not have any missing values and all values are unique (different from each other) \n",
    "df_boston.nunique()[df_boston.nunique()==len(df_boston)]"
   ]
  },
  {
   "cell_type": "code",
   "execution_count": 8,
   "metadata": {},
   "outputs": [
    {
     "data": {
      "text/plain": [
       "name                            3504\n",
       "description                     3423\n",
       "summary                         3113\n",
       "amenities                       3092\n",
       "thumbnail_url                   2986\n",
       "                                ... \n",
       "scrape_id                          1\n",
       "neighbourhood_group_cleansed       0\n",
       "has_availability                   0\n",
       "license                            0\n",
       "jurisdiction_names                 0\n",
       "Length: 90, dtype: int64"
      ]
     },
     "execution_count": 8,
     "metadata": {},
     "output_type": "execute_result"
    }
   ],
   "source": [
    "#Below code shows the columns names that have some missing values and number of unique values in that column\n",
    "df_boston.nunique()[df_boston.nunique() != len(df_boston)].sort_values(ascending=False)"
   ]
  },
  {
   "cell_type": "markdown",
   "metadata": {},
   "source": [
    "EValuation and Visulaization is complete in below step with detaliled understanding of problem.\n",
    "Q1\n",
    "What are the most common amenities and most popular and least popular among them?"
   ]
  },
  {
   "cell_type": "markdown",
   "metadata": {},
   "source": [
    "The code in the below cell creates the list of amenties available."
   ]
  },
  {
   "cell_type": "code",
   "execution_count": 9,
   "metadata": {},
   "outputs": [],
   "source": [
    "#I first create an empty list to fill with amenities available.\n",
    "list_of_amenities = []\n",
    "\n",
    "#I create a for loop to append all amenities values from the dataset into the list.\n",
    "for i in range(len(df_boston)):\n",
    "    list_of_amenities.append(df_boston['amenities'][i])\n",
    "\n",
    "    \n",
    "#In the dataset, every listing has a list of amenities, so in order to take unique amenities from the whole dataset\n",
    "#I use the below code. I use the \"set\" function to make the amenities unique and than convert the set into a list\n",
    "#to remain consistency of data type.\n",
    "list_of_amenities = list((s.strip('\\'\\{\\}') for s in list_of_amenities))\n",
    "list_of_amenities_string = \",\".join(list_of_amenities)\n",
    "list_of_amenities = list(set(list_of_amenities_string.split(\",\")))\n",
    "\n",
    "#After execution the above lines in this cell, we have an empty string in the list of amenties.\n",
    "#We have to remove that one from the list.\n",
    "without_empty_list_of_amenities = []\n",
    "for string in list_of_amenities:\n",
    "    if (string != \"\"):\n",
    "        without_empty_list_of_amenities.append(string)\n",
    "list_of_amenities = without_empty_list_of_amenities"
   ]
  },
  {
   "cell_type": "markdown",
   "metadata": {},
   "source": [
    "The code in the below cell is taken from one of the Udacity lecture notes (named: HowToBreakIntoTheField.py).\n",
    "This function is used to count the number of listings that contains each amenity in the amenities list."
   ]
  },
  {
   "cell_type": "code",
   "execution_count": 11,
   "metadata": {},
   "outputs": [],
   "source": [
    "def total_count(df, col1, col2, look_for):\n",
    "    '''\n",
    "    INPUT:\n",
    "    df - the pandas dataframe you want to search\n",
    "    col1 - the column name you want to look through\n",
    "    col2 - the column you want to count values from\n",
    "    look_for - a list of strings you want to search for in each row of df[col]\n",
    "\n",
    "    OUTPUT:\n",
    "    new_df - a dataframe of each look_for with the count of how often it shows up\n",
    "    '''\n",
    "    new_df = defaultdict(int)\n",
    "    #loop through list of amenities\n",
    "    for val in look_for:\n",
    "        #loop through rows\n",
    "        for idx in range(df.shape[0]):\n",
    "            #if the amenity is in the row add 1\n",
    "            if val in df[col1][idx]:\n",
    "                new_df[val] += int(df[col2][idx])\n",
    "    new_df = pd.DataFrame(pd.Series(new_df)).reset_index()\n",
    "    new_df.columns = [col1, col2]\n",
    "    new_df.sort_values('count', ascending=False, inplace=True)\n",
    "    return new_df"
   ]
  },
  {
   "cell_type": "code",
   "execution_count": 12,
   "metadata": {
    "scrolled": true
   },
   "outputs": [
    {
     "data": {
      "image/png": "[encoded data removed]",
      "text/plain": [
       "<Figure size 432x288 with 1 Axes>"
      ]
     },
     "metadata": {
      "needs_background": "light"
     },
     "output_type": "display_data"
    },
    {
     "data": {
      "image/png": "[encoded data removed]",
      "text/plain": [
       "<Figure size 432x288 with 1 Axes>"
      ]
     },
     "metadata": {
      "needs_background": "light"
     },
     "output_type": "display_data"
    }
   ],
   "source": [
    "#I create a dataframe named study, which has lists of amenities as one column and the count of these amenities lists\n",
    "#in our main (df_lis)\n",
    "study = df_boston['amenities'].value_counts().reset_index()\n",
    "study.rename(columns={'index': 'amenities', 'amenities': 'count'}, inplace=True)\n",
    "\n",
    "#Here with the total_count function, I count the number of listings that contains each amenity in the amenities list.\n",
    "study_df = total_count(study, 'amenities', 'count', list_of_amenities)\n",
    "study_df.set_index('amenities', inplace=True)\n",
    "\n",
    "#Here I create a bar chart to show the percentage of each amenity from the most common to the least common.\n",
    "(study_df/len(df_boston))[:20].plot(kind='bar', legend=None);\n",
    "plt.title('Top 20 Most Common Amenities in The Dataset');\n",
    "plt.ylabel('How many percent of listings has the amenity')\n",
    "plt.show()\n",
    "\n",
    "(study_df/len(df_boston))[:-20].plot(kind='bar', legend=None);\n",
    "plt.title('bottom 20 Most Common Amenities in The Dataset');\n",
    "plt.ylabel('How many percent of listings has the amenity')\n",
    "plt.show()\n"
   ]
  },
  {
   "cell_type": "markdown",
   "metadata": {},
   "source": [
    "EValuation and Visulaization is complete in below step with detaliled understanding of problem.\n",
    "Q2\n",
    "\n",
    "When I deepdive into the dataset different columns, I see some important features of listigs. Some of these features have separate columns (for example property_type or room_type) and some of these features are in **amenities** column. What I would like to know about this dataset is, \"What attracts the guests most for renting a property?\". I will try to answer this question below.\n",
    "\n",
    "In order to understand the popularity of a listing I will use the following mentioned column :\n",
    "**Availability_30**, \n",
    "**Availability_60** \n",
    "**Availability_90** \n",
    "\n",
    "It will give 2 Aspects:\n",
    "\n",
    "1.It helps us to differentiate: Which Availibility performed better?\n",
    "2.It gives an idea about:  What is the booking ratio (or popularity) of the property?"
   ]
  },
  {
   "cell_type": "code",
   "execution_count": 11,
   "metadata": {},
   "outputs": [
    {
     "data": {
      "text/plain": [
       "0"
      ]
     },
     "execution_count": 11,
     "metadata": {},
     "output_type": "execute_result"
    }
   ],
   "source": [
    "#Check if availability_30 column has an missing values. I will use this columns for booking_ratio_30.\n",
    "df_boston['availability_30'].isnull().sum()\n"
   ]
  },
  {
   "cell_type": "code",
   "execution_count": 12,
   "metadata": {},
   "outputs": [
    {
     "data": {
      "text/plain": [
       "0"
      ]
     },
     "execution_count": 12,
     "metadata": {},
     "output_type": "execute_result"
    }
   ],
   "source": [
    "#Check if availability_60 column has an missing values. I will use this columns for booking_ratio_30.\n",
    "df_boston['availability_60'].isnull().sum()\n"
   ]
  },
  {
   "cell_type": "code",
   "execution_count": 13,
   "metadata": {},
   "outputs": [
    {
     "data": {
      "text/plain": [
       "0"
      ]
     },
     "execution_count": 13,
     "metadata": {},
     "output_type": "execute_result"
    }
   ],
   "source": [
    "#Check if availability_90 column has an missing values. I will use this columns for booking_ratio_30.\n",
    "\n",
    "df_boston['availability_90'].isnull().sum()"
   ]
  },
  {
   "cell_type": "code",
   "execution_count": 14,
   "metadata": {},
   "outputs": [],
   "source": [
    "#Below code, creates the column 'booking_ratio_30' which gives info about the booking percentage in the next 30 days\n",
    "df_boston['booking_ratio_30'] = 1 - (df_boston['availability_30']/30)"
   ]
  },
  {
   "cell_type": "code",
   "execution_count": 15,
   "metadata": {},
   "outputs": [],
   "source": [
    "df_boston['booking_ratio_60'] = 1 - (df_boston['availability_60']/60)\n"
   ]
  },
  {
   "cell_type": "code",
   "execution_count": 16,
   "metadata": {},
   "outputs": [],
   "source": [
    "df_boston['booking_ratio_90'] = 1 - (df_boston['availability_90']/90)"
   ]
  },
  {
   "cell_type": "code",
   "execution_count": 17,
   "metadata": {},
   "outputs": [
    {
     "data": {
      "text/plain": [
       "0    1.000000\n",
       "1    0.133333\n",
       "2    0.366667\n",
       "3    0.800000\n",
       "4    0.566667\n",
       "Name: booking_ratio_30, dtype: float64"
      ]
     },
     "execution_count": 17,
     "metadata": {},
     "output_type": "execute_result"
    }
   ],
   "source": [
    "#Show the first five rows of the new column\n",
    "df_boston['booking_ratio_30'].head()"
   ]
  },
  {
   "cell_type": "code",
   "execution_count": 18,
   "metadata": {},
   "outputs": [
    {
     "data": {
      "text/plain": [
       "0    1.000000\n",
       "1    0.100000\n",
       "2    0.233333\n",
       "3    0.733333\n",
       "4    0.433333\n",
       "Name: booking_ratio_60, dtype: float64"
      ]
     },
     "execution_count": 18,
     "metadata": {},
     "output_type": "execute_result"
    }
   ],
   "source": [
    "df_boston['booking_ratio_60'].head()"
   ]
  },
  {
   "cell_type": "code",
   "execution_count": 19,
   "metadata": {},
   "outputs": [
    {
     "data": {
      "text/plain": [
       "0    1.000000\n",
       "1    0.066667\n",
       "2    0.322222\n",
       "3    0.711111\n",
       "4    0.344444\n",
       "Name: booking_ratio_90, dtype: float64"
      ]
     },
     "execution_count": 19,
     "metadata": {},
     "output_type": "execute_result"
    }
   ],
   "source": [
    "df_boston['booking_ratio_90'].head()"
   ]
  },
  {
   "cell_type": "markdown",
   "metadata": {},
   "source": [
    "Above, I found a percantage on booking ratio of each listing. Now I will have to make seperate columns for each of the features that I will investige whether they attract the guests for choosing the listing to rent.\n",
    "\n",
    "First feature I would like to investigate is **room_type**."
   ]
  },
  {
   "cell_type": "code",
   "execution_count": 20,
   "metadata": {},
   "outputs": [
    {
     "data": {
      "text/plain": [
       "0"
      ]
     },
     "execution_count": 20,
     "metadata": {},
     "output_type": "execute_result"
    }
   ],
   "source": [
    "#Below code checks if the 'room_type' column has any missing values.\n",
    "#Since the result of the code is zero, the column does not have any missing values. \n",
    "df_boston['room_type'].isnull().sum()"
   ]
  },
  {
   "cell_type": "code",
   "execution_count": 21,
   "metadata": {},
   "outputs": [
    {
     "data": {
      "text/plain": [
       "Entire home/apt    2127\n",
       "Private room       1378\n",
       "Shared room          80\n",
       "Name: room_type, dtype: int64"
      ]
     },
     "execution_count": 21,
     "metadata": {},
     "output_type": "execute_result"
    }
   ],
   "source": [
    "#Below code shows the number of each unique values in the 'room_type' column.\n",
    "df_boston['room_type'].value_counts().sort_values(ascending=False)"
   ]
  },
  {
   "cell_type": "markdown",
   "metadata": {},
   "source": [
    "Above, I found that there is not any missing values in the room_type column and also there are three different types of rooms. How about these different rooms booking ratios?"
   ]
  },
  {
   "cell_type": "code",
   "execution_count": 22,
   "metadata": {},
   "outputs": [
    {
     "data": {
      "text/plain": [
       "room_type\n",
       "Private room       0.739332\n",
       "Entire home/apt    0.699091\n",
       "Shared room        0.569583\n",
       "Name: booking_ratio_30, dtype: float64"
      ]
     },
     "execution_count": 22,
     "metadata": {},
     "output_type": "execute_result"
    }
   ],
   "source": [
    "#Below code shows information about booking ratios of different room types for next 30 days\n",
    "booking_30=df_boston.groupby(['room_type'])['booking_ratio_30'].mean().sort_values(ascending=False)\n",
    "booking_30.head()"
   ]
  },
  {
   "cell_type": "code",
   "execution_count": 23,
   "metadata": {},
   "outputs": [
    {
     "data": {
      "text/plain": [
       "room_type\n",
       "Private room       0.651959\n",
       "Entire home/apt    0.631202\n",
       "Shared room        0.493750\n",
       "Name: booking_ratio_60, dtype: float64"
      ]
     },
     "execution_count": 23,
     "metadata": {},
     "output_type": "execute_result"
    }
   ],
   "source": [
    "#Below code shows information about booking ratios of different room types for next 60 days\n",
    "booking_60=df_boston.groupby(['room_type'])['booking_ratio_60'].mean().sort_values(ascending=False)\n",
    "booking_60.head()"
   ]
  },
  {
   "cell_type": "code",
   "execution_count": 24,
   "metadata": {},
   "outputs": [
    {
     "data": {
      "text/plain": [
       "room_type\n",
       "Private room       0.584906\n",
       "Entire home/apt    0.567105\n",
       "Shared room        0.460833\n",
       "Name: booking_ratio_90, dtype: float64"
      ]
     },
     "execution_count": 24,
     "metadata": {},
     "output_type": "execute_result"
    }
   ],
   "source": [
    "#Below code shows information about booking ratios of different room types for next 90 days\n",
    "booking_90= df_boston.groupby(['room_type'])['booking_ratio_90'].mean().sort_values(ascending=False)\n",
    "booking_90.head()"
   ]
  },
  {
   "cell_type": "code",
   "execution_count": 25,
   "metadata": {},
   "outputs": [
    {
     "data": {
      "image/png": "[encoded data removed]",
      "text/plain": [
       "<Figure size 432x288 with 1 Axes>"
      ]
     },
     "metadata": {
      "needs_background": "light"
     },
     "output_type": "display_data"
    }
   ],
   "source": [
    "#Below code plots a Trend Line chart to visualize booking ratios of different room types for next 30, 60, 90 days\n",
    "\n",
    "plt.plot(booking_30, Label='Booking 30 days')\n",
    "plt.plot(booking_60, Label= \"Booking 60 days\")\n",
    "plt.plot(booking_90, label= \"Booking 90 days\" )\n",
    "plt.title('Booking Ratio Analysis for different Days bucket on basis of  room_type')\n",
    "plt.legend()\n",
    "plt.show()"
   ]
  },
  {
   "cell_type": "code",
   "execution_count": 26,
   "metadata": {},
   "outputs": [],
   "source": [
    "#The above trend line answers both the question that we were looking answer above:\n",
    "    \n",
    "\n",
    "#1.It helps us to differentiate: Which Availibility performed better? Answer to this question is 30 day bucket\n",
    "#2. In second question we looked only room feature and still to dig on further features for coming into conclusion."
   ]
  },
  {
   "cell_type": "code",
   "execution_count": 27,
   "metadata": {},
   "outputs": [
    {
     "data": {
      "text/plain": [
       "Apartment          2612\n",
       "House               562\n",
       "Condominium         231\n",
       "Townhouse            54\n",
       "Bed & Breakfast      41\n",
       "Loft                 39\n",
       "Other                17\n",
       "Boat                 12\n",
       "Villa                 6\n",
       "Entire Floor          4\n",
       "Dorm                  2\n",
       "Camper/RV             1\n",
       "Guesthouse            1\n",
       "Name: property_type, dtype: int64"
      ]
     },
     "execution_count": 27,
     "metadata": {},
     "output_type": "execute_result"
    }
   ],
   "source": [
    "#Below code shows the unique property types and count of each one\n",
    "df_boston['property_type'].value_counts().sort_values(ascending=False)"
   ]
  },
  {
   "cell_type": "code",
   "execution_count": 28,
   "metadata": {},
   "outputs": [],
   "source": [
    "#Below code shows information about booking ratios of different property types for next 30 days\n",
    "booking_30_prop =df_boston.groupby(['property_type'])['booking_ratio_30'].mean().sort_values(ascending=False)"
   ]
  },
  {
   "cell_type": "code",
   "execution_count": 29,
   "metadata": {},
   "outputs": [],
   "source": [
    "#Below code shows information about booking ratios of different property types for next 60 days\n",
    "booking_60_prop = df_boston.groupby(['property_type'])['booking_ratio_60'].mean().sort_values(ascending=False)"
   ]
  },
  {
   "cell_type": "code",
   "execution_count": 30,
   "metadata": {},
   "outputs": [],
   "source": [
    "#Below code shows information about booking ratios of different property types for next 90 days\n",
    "booking_90_prop= df_boston.groupby(['property_type'])['booking_ratio_90'].mean().sort_values(ascending=False)"
   ]
  },
  {
   "cell_type": "code",
   "execution_count": 31,
   "metadata": {},
   "outputs": [
    {
     "data": {
      "image/png": "[encoded data removed]",
      "text/plain": [
       "<Figure size 432x288 with 1 Axes>"
      ]
     },
     "metadata": {
      "needs_background": "light"
     },
     "output_type": "display_data"
    }
   ],
   "source": [
    "#Below code plots the booking ratios of different property types for next 30 days\n",
    "(df_boston.groupby(['property_type'])['booking_ratio_30'].mean().sort_values(ascending=False)).plot(kind='bar', legend=None)\n",
    "plt.title('Booking Ratio for Next 30 Days Depending On property_type');\n",
    "plt.show()\n",
    "\n"
   ]
  },
  {
   "cell_type": "code",
   "execution_count": 32,
   "metadata": {},
   "outputs": [
    {
     "data": {
      "image/png": "[encoded data removed]",
      "text/plain": [
       "<Figure size 432x288 with 1 Axes>"
      ]
     },
     "metadata": {
      "needs_background": "light"
     },
     "output_type": "display_data"
    }
   ],
   "source": [
    "barWidth = 0.25\n",
    "\n",
    "# Set position of bar on X axis\n",
    "r1 = np.arange(len(booking_30_prop))\n",
    "r2 =np.arange(len(booking_60_prop))\n",
    "r3 = np.arange(len(booking_90_prop))\n",
    "\n",
    "\n",
    "booking_30_prop[:5].plot(kind= 'bar',color='#7f6d5f', width=barWidth, edgecolor='white')\n",
    "booking_60_prop[:5].plot(kind= 'bar',color='#557f2d', width=barWidth, edgecolor='white')\n",
    "booking_90_prop[:5].plot(kind= 'bar',color='#2d7f5e', width=barWidth, edgecolor='white'  )\n",
    "plt.title('Booking Ratio Analysis for different Days bucket on basis of Property Type ')\n",
    "plt.legend()\n",
    "plt.show()"
   ]
  },
  {
   "cell_type": "markdown",
   "metadata": {},
   "source": [
    "How about the **amenities** and their effect for attracting the guest? In order to answer the first question I had created the list of amenities which will be useful here to answer the second question."
   ]
  },
  {
   "cell_type": "code",
   "execution_count": 33,
   "metadata": {
    "scrolled": true
   },
   "outputs": [
    {
     "data": {
      "text/plain": [
       "0"
      ]
     },
     "execution_count": 33,
     "metadata": {},
     "output_type": "execute_result"
    }
   ],
   "source": [
    "#Check if amenities column has an missing values.\n",
    "df_boston['amenities'].isnull().sum()"
   ]
  },
  {
   "cell_type": "code",
   "execution_count": 34,
   "metadata": {},
   "outputs": [],
   "source": [
    "#Here I create new columns for each of the amenities and fill them all with zeros.\n",
    "for i in range(len(list_of_amenities)):\n",
    "    df_boston[list_of_amenities[i]] = 0"
   ]
  },
  {
   "cell_type": "markdown",
   "metadata": {},
   "source": [
    "*\"Below cell, takes about **3 minutes** to work on my machine.\"*"
   ]
  },
  {
   "cell_type": "code",
   "execution_count": 35,
   "metadata": {},
   "outputs": [],
   "source": [
    "#Here I fill the new amenities columns, by first checking if the listing has that amenity.\n",
    "#If the listing has that amenity I fill it with 1 and if it does not have it, I fill it with zero.\n",
    "for i in range(len(list_of_amenities)):\n",
    "    for t in range(len(df_boston)):\n",
    "        if list_of_amenities[i] in df_boston['amenities'][t]:\n",
    "            df_boston.loc[t , list_of_amenities[i]] = 1\n",
    "        else:\n",
    "            df_boston.loc[t , list_of_amenities[i]] = 0"
   ]
  },
  {
   "cell_type": "code",
   "execution_count": 36,
   "metadata": {},
   "outputs": [],
   "source": [
    "#Here I create a dataframe that will contain information about booking ratio of listings that contain the amenity.\n",
    "amenities_importance = pd.DataFrame(index=range(0,len(list_of_amenities)), columns = [\"Amenity_Name\", \"Booking Ratio for HAVING the Amenity\", \"Booking Ratio for NOT HAVING the Amenity\", \"Booking Difference\"])\n",
    "\n",
    "\n",
    "#In the below for loop, I write the name of the amenity, calculate the booking ratio of listings that contain the amenitiy\n",
    "#and calculate the booking ratio of listings that do not contain the amenitiy\n",
    "#and calculate the difference between booking ratios for each amenity. \n",
    "for i in range(len(list_of_amenities)):\n",
    "    amenities_importance['Amenity_Name'][i] = list_of_amenities[i]\n",
    "    amenities_importance['Booking Ratio for HAVING the Amenity'][i] = df_boston.groupby([list_of_amenities[i]])['booking_ratio_30'].mean()[1]\n",
    "    amenities_importance['Booking Ratio for NOT HAVING the Amenity'][i] = df_boston.groupby([list_of_amenities[i]])['booking_ratio_30'].mean()[0]\n",
    "    amenities_importance['Booking Difference'][i] = amenities_importance['Booking Ratio for HAVING the Amenity'][i] - amenities_importance['Booking Ratio for NOT HAVING the Amenity'][i]\n",
    "\n",
    "amenities_importance.set_index('Amenity_Name', inplace=True)"
   ]
  },
  {
   "cell_type": "code",
   "execution_count": 37,
   "metadata": {},
   "outputs": [],
   "source": [
    "#Here I create a dataframe that will contain information about booking ratio of listings that contain the amenity.\n",
    "amenities_importance60 = pd.DataFrame(index=range(0,len(list_of_amenities)), columns = [\"Amenity_Name\", \"Booking Ratio for HAVING the Amenity\", \"Booking Ratio for NOT HAVING the Amenity\", \"Booking Difference\"])\n",
    "\n",
    "\n",
    "#In the below for loop, I write the name of the amenity, calculate the booking ratio of listings that contain the amenitiy\n",
    "#and calculate the booking ratio of listings that do not contain the amenitiy\n",
    "#and calculate the difference between booking ratios for each amenity. \n",
    "for i in range(len(list_of_amenities)):\n",
    "    amenities_importance60['Amenity_Name'][i] = list_of_amenities[i]\n",
    "    amenities_importance60['Booking Ratio for HAVING the Amenity'][i] = df_boston.groupby([list_of_amenities[i]])['booking_ratio_60'].mean()[1]\n",
    "    amenities_importance60['Booking Ratio for NOT HAVING the Amenity'][i] = df_boston.groupby([list_of_amenities[i]])['booking_ratio_60'].mean()[0]\n",
    "    amenities_importance60['Booking Difference'][i] = amenities_importance['Booking Ratio for HAVING the Amenity'][i] - amenities_importance['Booking Ratio for NOT HAVING the Amenity'][i]\n",
    "\n",
    "amenities_importance60.set_index('Amenity_Name', inplace=True)"
   ]
  },
  {
   "cell_type": "code",
   "execution_count": 38,
   "metadata": {},
   "outputs": [],
   "source": [
    "#Here I create a dataframe that will contain information about booking ratio of listings that contain the amenity.\n",
    "amenities_importance90 = pd.DataFrame(index=range(0,len(list_of_amenities)), columns = [\"Amenity_Name\", \"Booking Ratio for HAVING the Amenity\", \"Booking Ratio for NOT HAVING the Amenity\", \"Booking Difference\"])\n",
    "\n",
    "\n",
    "#In the below for loop, I write the name of the amenity, calculate the booking ratio of listings that contain the amenitiy\n",
    "#and calculate the booking ratio of listings that do not contain the amenitiy\n",
    "#and calculate the difference between booking ratios for each amenity. \n",
    "for i in range(len(list_of_amenities)):\n",
    "    amenities_importance90['Amenity_Name'][i] = list_of_amenities[i]\n",
    "    amenities_importance90['Booking Ratio for HAVING the Amenity'][i] = df_boston.groupby([list_of_amenities[i]])['booking_ratio_90'].mean()[1]\n",
    "    amenities_importance90['Booking Ratio for NOT HAVING the Amenity'][i] = df_boston.groupby([list_of_amenities[i]])['booking_ratio_90'].mean()[0]\n",
    "    amenities_importance90['Booking Difference'][i] = amenities_importance['Booking Ratio for HAVING the Amenity'][i] - amenities_importance['Booking Ratio for NOT HAVING the Amenity'][i]\n",
    "\n",
    "amenities_importance90.set_index('Amenity_Name', inplace=True)"
   ]
  },
  {
   "cell_type": "code",
   "execution_count": 39,
   "metadata": {},
   "outputs": [
    {
     "data": {
      "text/html": [
       "<div>\n",
       "<style scoped>\n",
       "    .dataframe tbody tr th:only-of-type {\n",
       "        vertical-align: middle;\n",
       "    }\n",
       "\n",
       "    .dataframe tbody tr th {\n",
       "        vertical-align: top;\n",
       "    }\n",
       "\n",
       "    .dataframe thead th {\n",
       "        text-align: right;\n",
       "    }\n",
       "</style>\n",
       "<table border=\"1\" class=\"dataframe\">\n",
       "  <thead>\n",
       "    <tr style=\"text-align: right;\">\n",
       "      <th></th>\n",
       "      <th>Booking Ratio for HAVING the Amenity</th>\n",
       "      <th>Booking Ratio for NOT HAVING the Amenity</th>\n",
       "      <th>Booking Difference</th>\n",
       "    </tr>\n",
       "    <tr>\n",
       "      <th>Amenity_Name</th>\n",
       "      <th></th>\n",
       "      <th></th>\n",
       "      <th></th>\n",
       "    </tr>\n",
       "  </thead>\n",
       "  <tbody>\n",
       "    <tr>\n",
       "      <td>\"Smoke Detector\"</td>\n",
       "      <td>0.741028</td>\n",
       "      <td>0.584866</td>\n",
       "      <td>0.156162</td>\n",
       "    </tr>\n",
       "    <tr>\n",
       "      <td>\"translation missing: en.hosting_amenity_49\"</td>\n",
       "      <td>0.777402</td>\n",
       "      <td>0.702377</td>\n",
       "      <td>0.0750252</td>\n",
       "    </tr>\n",
       "    <tr>\n",
       "      <td>\"Buzzer/Wireless Intercom\"</td>\n",
       "      <td>0.762376</td>\n",
       "      <td>0.696176</td>\n",
       "      <td>0.0661996</td>\n",
       "    </tr>\n",
       "    <tr>\n",
       "      <td>\"Fire Extinguisher\"</td>\n",
       "      <td>0.748335</td>\n",
       "      <td>0.682709</td>\n",
       "      <td>0.0656262</td>\n",
       "    </tr>\n",
       "    <tr>\n",
       "      <td>\"Carbon Monoxide Detector\"</td>\n",
       "      <td>0.731791</td>\n",
       "      <td>0.668679</td>\n",
       "      <td>0.063112</td>\n",
       "    </tr>\n",
       "    <tr>\n",
       "      <td>\"Wireless Internet\"</td>\n",
       "      <td>0.714362</td>\n",
       "      <td>0.655488</td>\n",
       "      <td>0.0588745</td>\n",
       "    </tr>\n",
       "    <tr>\n",
       "      <td>\"Hot Tub\"</td>\n",
       "      <td>0.763872</td>\n",
       "      <td>0.709118</td>\n",
       "      <td>0.0547539</td>\n",
       "    </tr>\n",
       "    <tr>\n",
       "      <td>\"Other pet(s)\"</td>\n",
       "      <td>0.760417</td>\n",
       "      <td>0.71145</td>\n",
       "      <td>0.0489662</td>\n",
       "    </tr>\n",
       "    <tr>\n",
       "      <td>\"Lock on Bedroom Door\"</td>\n",
       "      <td>0.752602</td>\n",
       "      <td>0.705432</td>\n",
       "      <td>0.0471696</td>\n",
       "    </tr>\n",
       "    <tr>\n",
       "      <td>\"Suitable for Events\"</td>\n",
       "      <td>0.747101</td>\n",
       "      <td>0.71025</td>\n",
       "      <td>0.036851</td>\n",
       "    </tr>\n",
       "  </tbody>\n",
       "</table>\n",
       "</div>"
      ],
      "text/plain": [
       "                                             Booking Ratio for HAVING the Amenity  \\\n",
       "Amenity_Name                                                                        \n",
       "\"Smoke Detector\"                                                         0.741028   \n",
       "\"translation missing: en.hosting_amenity_49\"                             0.777402   \n",
       "\"Buzzer/Wireless Intercom\"                                               0.762376   \n",
       "\"Fire Extinguisher\"                                                      0.748335   \n",
       "\"Carbon Monoxide Detector\"                                               0.731791   \n",
       "\"Wireless Internet\"                                                      0.714362   \n",
       "\"Hot Tub\"                                                                0.763872   \n",
       "\"Other pet(s)\"                                                           0.760417   \n",
       "\"Lock on Bedroom Door\"                                                   0.752602   \n",
       "\"Suitable for Events\"                                                    0.747101   \n",
       "\n",
       "                                             Booking Ratio for NOT HAVING the Amenity  \\\n",
       "Amenity_Name                                                                            \n",
       "\"Smoke Detector\"                                                             0.584866   \n",
       "\"translation missing: en.hosting_amenity_49\"                                 0.702377   \n",
       "\"Buzzer/Wireless Intercom\"                                                   0.696176   \n",
       "\"Fire Extinguisher\"                                                          0.682709   \n",
       "\"Carbon Monoxide Detector\"                                                   0.668679   \n",
       "\"Wireless Internet\"                                                          0.655488   \n",
       "\"Hot Tub\"                                                                    0.709118   \n",
       "\"Other pet(s)\"                                                                0.71145   \n",
       "\"Lock on Bedroom Door\"                                                       0.705432   \n",
       "\"Suitable for Events\"                                                         0.71025   \n",
       "\n",
       "                                             Booking Difference  \n",
       "Amenity_Name                                                     \n",
       "\"Smoke Detector\"                                       0.156162  \n",
       "\"translation missing: en.hosting_amenity_49\"          0.0750252  \n",
       "\"Buzzer/Wireless Intercom\"                            0.0661996  \n",
       "\"Fire Extinguisher\"                                   0.0656262  \n",
       "\"Carbon Monoxide Detector\"                             0.063112  \n",
       "\"Wireless Internet\"                                   0.0588745  \n",
       "\"Hot Tub\"                                             0.0547539  \n",
       "\"Other pet(s)\"                                        0.0489662  \n",
       "\"Lock on Bedroom Door\"                                0.0471696  \n",
       "\"Suitable for Events\"                                  0.036851  "
      ]
     },
     "execution_count": 39,
     "metadata": {},
     "output_type": "execute_result"
    }
   ],
   "source": [
    "#Here I list the Top 10 booking difference to see which amenities are most prefered by guests.\n",
    "amenities_importance.sort_values(by='Booking Difference', ascending = False)[:10]\n"
   ]
  },
  {
   "cell_type": "code",
   "execution_count": 40,
   "metadata": {},
   "outputs": [
    {
     "data": {
      "text/html": [
       "<div>\n",
       "<style scoped>\n",
       "    .dataframe tbody tr th:only-of-type {\n",
       "        vertical-align: middle;\n",
       "    }\n",
       "\n",
       "    .dataframe tbody tr th {\n",
       "        vertical-align: top;\n",
       "    }\n",
       "\n",
       "    .dataframe thead th {\n",
       "        text-align: right;\n",
       "    }\n",
       "</style>\n",
       "<table border=\"1\" class=\"dataframe\">\n",
       "  <thead>\n",
       "    <tr style=\"text-align: right;\">\n",
       "      <th></th>\n",
       "      <th>Booking Ratio for HAVING the Amenity</th>\n",
       "      <th>Booking Ratio for NOT HAVING the Amenity</th>\n",
       "      <th>Booking Difference</th>\n",
       "    </tr>\n",
       "    <tr>\n",
       "      <th>Amenity_Name</th>\n",
       "      <th></th>\n",
       "      <th></th>\n",
       "      <th></th>\n",
       "    </tr>\n",
       "  </thead>\n",
       "  <tbody>\n",
       "    <tr>\n",
       "      <td>\"Smoke Detector\"</td>\n",
       "      <td>0.663157</td>\n",
       "      <td>0.519313</td>\n",
       "      <td>0.156162</td>\n",
       "    </tr>\n",
       "    <tr>\n",
       "      <td>\"translation missing: en.hosting_amenity_49\"</td>\n",
       "      <td>0.685698</td>\n",
       "      <td>0.629104</td>\n",
       "      <td>0.0750252</td>\n",
       "    </tr>\n",
       "    <tr>\n",
       "      <td>\"Buzzer/Wireless Intercom\"</td>\n",
       "      <td>0.698093</td>\n",
       "      <td>0.617176</td>\n",
       "      <td>0.0661996</td>\n",
       "    </tr>\n",
       "    <tr>\n",
       "      <td>\"Fire Extinguisher\"</td>\n",
       "      <td>0.668089</td>\n",
       "      <td>0.610859</td>\n",
       "      <td>0.0656262</td>\n",
       "    </tr>\n",
       "    <tr>\n",
       "      <td>\"Carbon Monoxide Detector\"</td>\n",
       "      <td>0.65073</td>\n",
       "      <td>0.604885</td>\n",
       "      <td>0.063112</td>\n",
       "    </tr>\n",
       "    <tr>\n",
       "      <td>\"Wireless Internet\"</td>\n",
       "      <td>0.63801</td>\n",
       "      <td>0.596545</td>\n",
       "      <td>0.0588745</td>\n",
       "    </tr>\n",
       "    <tr>\n",
       "      <td>\"Hot Tub\"</td>\n",
       "      <td>0.677345</td>\n",
       "      <td>0.634099</td>\n",
       "      <td>0.0547539</td>\n",
       "    </tr>\n",
       "    <tr>\n",
       "      <td>\"Other pet(s)\"</td>\n",
       "      <td>0.73125</td>\n",
       "      <td>0.635687</td>\n",
       "      <td>0.0489662</td>\n",
       "    </tr>\n",
       "    <tr>\n",
       "      <td>\"Lock on Bedroom Door\"</td>\n",
       "      <td>0.66853</td>\n",
       "      <td>0.631174</td>\n",
       "      <td>0.0471696</td>\n",
       "    </tr>\n",
       "    <tr>\n",
       "      <td>\"Suitable for Events\"</td>\n",
       "      <td>0.665821</td>\n",
       "      <td>0.634924</td>\n",
       "      <td>0.036851</td>\n",
       "    </tr>\n",
       "  </tbody>\n",
       "</table>\n",
       "</div>"
      ],
      "text/plain": [
       "                                             Booking Ratio for HAVING the Amenity  \\\n",
       "Amenity_Name                                                                        \n",
       "\"Smoke Detector\"                                                         0.663157   \n",
       "\"translation missing: en.hosting_amenity_49\"                             0.685698   \n",
       "\"Buzzer/Wireless Intercom\"                                               0.698093   \n",
       "\"Fire Extinguisher\"                                                      0.668089   \n",
       "\"Carbon Monoxide Detector\"                                                0.65073   \n",
       "\"Wireless Internet\"                                                       0.63801   \n",
       "\"Hot Tub\"                                                                0.677345   \n",
       "\"Other pet(s)\"                                                            0.73125   \n",
       "\"Lock on Bedroom Door\"                                                    0.66853   \n",
       "\"Suitable for Events\"                                                    0.665821   \n",
       "\n",
       "                                             Booking Ratio for NOT HAVING the Amenity  \\\n",
       "Amenity_Name                                                                            \n",
       "\"Smoke Detector\"                                                             0.519313   \n",
       "\"translation missing: en.hosting_amenity_49\"                                 0.629104   \n",
       "\"Buzzer/Wireless Intercom\"                                                   0.617176   \n",
       "\"Fire Extinguisher\"                                                          0.610859   \n",
       "\"Carbon Monoxide Detector\"                                                   0.604885   \n",
       "\"Wireless Internet\"                                                          0.596545   \n",
       "\"Hot Tub\"                                                                    0.634099   \n",
       "\"Other pet(s)\"                                                               0.635687   \n",
       "\"Lock on Bedroom Door\"                                                       0.631174   \n",
       "\"Suitable for Events\"                                                        0.634924   \n",
       "\n",
       "                                             Booking Difference  \n",
       "Amenity_Name                                                     \n",
       "\"Smoke Detector\"                                       0.156162  \n",
       "\"translation missing: en.hosting_amenity_49\"          0.0750252  \n",
       "\"Buzzer/Wireless Intercom\"                            0.0661996  \n",
       "\"Fire Extinguisher\"                                   0.0656262  \n",
       "\"Carbon Monoxide Detector\"                             0.063112  \n",
       "\"Wireless Internet\"                                   0.0588745  \n",
       "\"Hot Tub\"                                             0.0547539  \n",
       "\"Other pet(s)\"                                        0.0489662  \n",
       "\"Lock on Bedroom Door\"                                0.0471696  \n",
       "\"Suitable for Events\"                                  0.036851  "
      ]
     },
     "execution_count": 40,
     "metadata": {},
     "output_type": "execute_result"
    }
   ],
   "source": [
    "amenities_importance60.sort_values(by='Booking Difference', ascending = False)[:10]\n"
   ]
  },
  {
   "cell_type": "code",
   "execution_count": 41,
   "metadata": {},
   "outputs": [
    {
     "data": {
      "text/html": [
       "<div>\n",
       "<style scoped>\n",
       "    .dataframe tbody tr th:only-of-type {\n",
       "        vertical-align: middle;\n",
       "    }\n",
       "\n",
       "    .dataframe tbody tr th {\n",
       "        vertical-align: top;\n",
       "    }\n",
       "\n",
       "    .dataframe thead th {\n",
       "        text-align: right;\n",
       "    }\n",
       "</style>\n",
       "<table border=\"1\" class=\"dataframe\">\n",
       "  <thead>\n",
       "    <tr style=\"text-align: right;\">\n",
       "      <th></th>\n",
       "      <th>Booking Ratio for HAVING the Amenity</th>\n",
       "      <th>Booking Ratio for NOT HAVING the Amenity</th>\n",
       "      <th>Booking Difference</th>\n",
       "    </tr>\n",
       "    <tr>\n",
       "      <th>Amenity_Name</th>\n",
       "      <th></th>\n",
       "      <th></th>\n",
       "      <th></th>\n",
       "    </tr>\n",
       "  </thead>\n",
       "  <tbody>\n",
       "    <tr>\n",
       "      <td>\"Smoke Detector\"</td>\n",
       "      <td>0.59571</td>\n",
       "      <td>0.467343</td>\n",
       "      <td>0.156162</td>\n",
       "    </tr>\n",
       "    <tr>\n",
       "      <td>\"translation missing: en.hosting_amenity_49\"</td>\n",
       "      <td>0.595771</td>\n",
       "      <td>0.568156</td>\n",
       "      <td>0.0750252</td>\n",
       "    </tr>\n",
       "    <tr>\n",
       "      <td>\"Buzzer/Wireless Intercom\"</td>\n",
       "      <td>0.639041</td>\n",
       "      <td>0.550963</td>\n",
       "      <td>0.0661996</td>\n",
       "    </tr>\n",
       "    <tr>\n",
       "      <td>\"Fire Extinguisher\"</td>\n",
       "      <td>0.596411</td>\n",
       "      <td>0.551961</td>\n",
       "      <td>0.0656262</td>\n",
       "    </tr>\n",
       "    <tr>\n",
       "      <td>\"Carbon Monoxide Detector\"</td>\n",
       "      <td>0.581108</td>\n",
       "      <td>0.55121</td>\n",
       "      <td>0.063112</td>\n",
       "    </tr>\n",
       "    <tr>\n",
       "      <td>\"Wireless Internet\"</td>\n",
       "      <td>0.572493</td>\n",
       "      <td>0.552439</td>\n",
       "      <td>0.0588745</td>\n",
       "    </tr>\n",
       "    <tr>\n",
       "      <td>\"Hot Tub\"</td>\n",
       "      <td>0.625416</td>\n",
       "      <td>0.568945</td>\n",
       "      <td>0.0547539</td>\n",
       "    </tr>\n",
       "    <tr>\n",
       "      <td>\"Other pet(s)\"</td>\n",
       "      <td>0.7375</td>\n",
       "      <td>0.570832</td>\n",
       "      <td>0.0489662</td>\n",
       "    </tr>\n",
       "    <tr>\n",
       "      <td>\"Lock on Bedroom Door\"</td>\n",
       "      <td>0.607431</td>\n",
       "      <td>0.566113</td>\n",
       "      <td>0.0471696</td>\n",
       "    </tr>\n",
       "    <tr>\n",
       "      <td>\"Suitable for Events\"</td>\n",
       "      <td>0.592351</td>\n",
       "      <td>0.570744</td>\n",
       "      <td>0.036851</td>\n",
       "    </tr>\n",
       "  </tbody>\n",
       "</table>\n",
       "</div>"
      ],
      "text/plain": [
       "                                             Booking Ratio for HAVING the Amenity  \\\n",
       "Amenity_Name                                                                        \n",
       "\"Smoke Detector\"                                                          0.59571   \n",
       "\"translation missing: en.hosting_amenity_49\"                             0.595771   \n",
       "\"Buzzer/Wireless Intercom\"                                               0.639041   \n",
       "\"Fire Extinguisher\"                                                      0.596411   \n",
       "\"Carbon Monoxide Detector\"                                               0.581108   \n",
       "\"Wireless Internet\"                                                      0.572493   \n",
       "\"Hot Tub\"                                                                0.625416   \n",
       "\"Other pet(s)\"                                                             0.7375   \n",
       "\"Lock on Bedroom Door\"                                                   0.607431   \n",
       "\"Suitable for Events\"                                                    0.592351   \n",
       "\n",
       "                                             Booking Ratio for NOT HAVING the Amenity  \\\n",
       "Amenity_Name                                                                            \n",
       "\"Smoke Detector\"                                                             0.467343   \n",
       "\"translation missing: en.hosting_amenity_49\"                                 0.568156   \n",
       "\"Buzzer/Wireless Intercom\"                                                   0.550963   \n",
       "\"Fire Extinguisher\"                                                          0.551961   \n",
       "\"Carbon Monoxide Detector\"                                                    0.55121   \n",
       "\"Wireless Internet\"                                                          0.552439   \n",
       "\"Hot Tub\"                                                                    0.568945   \n",
       "\"Other pet(s)\"                                                               0.570832   \n",
       "\"Lock on Bedroom Door\"                                                       0.566113   \n",
       "\"Suitable for Events\"                                                        0.570744   \n",
       "\n",
       "                                             Booking Difference  \n",
       "Amenity_Name                                                     \n",
       "\"Smoke Detector\"                                       0.156162  \n",
       "\"translation missing: en.hosting_amenity_49\"          0.0750252  \n",
       "\"Buzzer/Wireless Intercom\"                            0.0661996  \n",
       "\"Fire Extinguisher\"                                   0.0656262  \n",
       "\"Carbon Monoxide Detector\"                             0.063112  \n",
       "\"Wireless Internet\"                                   0.0588745  \n",
       "\"Hot Tub\"                                             0.0547539  \n",
       "\"Other pet(s)\"                                        0.0489662  \n",
       "\"Lock on Bedroom Door\"                                0.0471696  \n",
       "\"Suitable for Events\"                                  0.036851  "
      ]
     },
     "execution_count": 41,
     "metadata": {},
     "output_type": "execute_result"
    }
   ],
   "source": [
    "amenities_importance90.sort_values(by='Booking Difference', ascending = False)[:10]"
   ]
  },
  {
   "cell_type": "code",
   "execution_count": 42,
   "metadata": {
    "scrolled": true
   },
   "outputs": [
    {
     "data": {
      "image/png": "[encoded data removed]",
      "text/plain": [
       "<Figure size 432x288 with 1 Axes>"
      ]
     },
     "metadata": {
      "needs_background": "light"
     },
     "output_type": "display_data"
    }
   ],
   "source": [
    "#Here I draw a bar chart to visualize which amenities are most prefered by guests.\n",
    "amenities_importance['Booking Difference'].sort_values(ascending = False)[:10].plot(kind='bar', legend=None)\n",
    "plt.title('Most Popular Amenities');\n",
    "plt.ylabel('Booking Ratio Difference for Next 30 Days')\n",
    "plt.show()"
   ]
  },
  {
   "cell_type": "code",
   "execution_count": 43,
   "metadata": {},
   "outputs": [
    {
     "data": {
      "image/png": "[encoded data removed]",
      "text/plain": [
       "<Figure size 432x288 with 1 Axes>"
      ]
     },
     "metadata": {
      "needs_background": "light"
     },
     "output_type": "display_data"
    }
   ],
   "source": [
    "#Here I draw a bar chart to visualize which amenities are least prefered by guests.\n",
    "amenities_importance['Booking Difference'].sort_values(ascending = True)[:10].plot(kind='bar', legend=None)\n",
    "plt.title('Least Popular Amenities');\n",
    "plt.ylabel('Booking Ratio Difference for Next 30 Days')\n",
    "plt.show()"
   ]
  },
  {
   "cell_type": "markdown",
   "metadata": {},
   "source": [
    "So for the answer of Question-2 (\"What attracts the guests most for renting a property?\") we can say that having a Washer/Dryer increases the booking rate for next 30 days more than 15%. Also having a kitchen and allowing pets are good ideas for increasing the popularity for a listing.\n",
    "\n",
    "Also when comparing different room_types, an \"Entire home/apt\" is more than 10% more popular than a private room or a shared room.\n",
    "It looks like having a pool or serving breakfast does not help a listing to be preferred, probably because of the increased price with these amenities."
   ]
  },
  {
   "cell_type": "markdown",
   "metadata": {},
   "source": [
    "EValuation and Visulaization is complete in below step with detaliled understanding of problem.\n",
    "Q3\n",
    "\n",
    "There are so many features in the dataset, that has effect on the price of the listing. In the third question I would like to train a model to estimate the price of a listing. So the question I would like to answer is: How can we estimate the price of a listing, what are the most influencial features of the dataset to estimate the price of a listing."
   ]
  },
  {
   "cell_type": "markdown",
   "metadata": {},
   "source": [
    "First I would like to know about the number of missing values in the features that are related to price."
   ]
  },
  {
   "cell_type": "code",
   "execution_count": 44,
   "metadata": {},
   "outputs": [
    {
     "name": "stdout",
     "output_type": "stream",
     "text": [
      "0\n",
      "2693\n",
      "2697\n",
      "2243\n",
      "1107\n"
     ]
    }
   ],
   "source": [
    "print(df_boston['price'].isnull().sum())\n",
    "print(df_boston['weekly_price'].isnull().sum())\n",
    "print(df_boston['monthly_price'].isnull().sum())\n",
    "print(df_boston['security_deposit'].isnull().sum())\n",
    "print(df_boston['cleaning_fee'].isnull().sum())"
   ]
  },
  {
   "cell_type": "markdown",
   "metadata": {},
   "source": [
    "There are five different prices in the dataset, which are listed below.\n",
    "- price\n",
    "- weekly_price\n",
    "- monthly_price\n",
    "- security_deposit\n",
    "- cleaning_fee\n",
    "\n",
    "In the code cell above, I find the number of null values in each column. As can be seen, some of the listings do not have weekly or monthly price. So it is a better idea to model the \"price\" because of larger sample size.\n",
    "I will not take into account the security deposit and cleaning fee."
   ]
  },
  {
   "cell_type": "code",
   "execution_count": 45,
   "metadata": {},
   "outputs": [
    {
     "data": {
      "text/html": [
       "<div>\n",
       "<style scoped>\n",
       "    .dataframe tbody tr th:only-of-type {\n",
       "        vertical-align: middle;\n",
       "    }\n",
       "\n",
       "    .dataframe tbody tr th {\n",
       "        vertical-align: top;\n",
       "    }\n",
       "\n",
       "    .dataframe thead th {\n",
       "        text-align: right;\n",
       "    }\n",
       "</style>\n",
       "<table border=\"1\" class=\"dataframe\">\n",
       "  <thead>\n",
       "    <tr style=\"text-align: right;\">\n",
       "      <th></th>\n",
       "      <th>bathrooms</th>\n",
       "      <th>bedrooms</th>\n",
       "      <th>beds</th>\n",
       "      <th>latitude</th>\n",
       "      <th>longitude</th>\n",
       "      <th>square_feet</th>\n",
       "      <th>reviews_per_month</th>\n",
       "      <th>booking_ratio_30</th>\n",
       "      <th>accommodates</th>\n",
       "      <th>guests_included</th>\n",
       "      <th>...</th>\n",
       "      <th>neighbourhood_group_cleansed</th>\n",
       "      <th>property_type</th>\n",
       "      <th>room_type</th>\n",
       "      <th>bed_type</th>\n",
       "      <th>price</th>\n",
       "      <th>security_deposit</th>\n",
       "      <th>cleaning_fee</th>\n",
       "      <th>extra_people</th>\n",
       "      <th>instant_bookable</th>\n",
       "      <th>cancellation_policy</th>\n",
       "    </tr>\n",
       "  </thead>\n",
       "  <tbody>\n",
       "    <tr>\n",
       "      <td>0</td>\n",
       "      <td>1.5</td>\n",
       "      <td>2.0</td>\n",
       "      <td>3.0</td>\n",
       "      <td>42.282619</td>\n",
       "      <td>-71.133068</td>\n",
       "      <td>NaN</td>\n",
       "      <td>NaN</td>\n",
       "      <td>1.000000</td>\n",
       "      <td>4</td>\n",
       "      <td>1</td>\n",
       "      <td>...</td>\n",
       "      <td>NaN</td>\n",
       "      <td>House</td>\n",
       "      <td>Entire home/apt</td>\n",
       "      <td>Real Bed</td>\n",
       "      <td>$250.00</td>\n",
       "      <td>NaN</td>\n",
       "      <td>$35.00</td>\n",
       "      <td>$0.00</td>\n",
       "      <td>f</td>\n",
       "      <td>moderate</td>\n",
       "    </tr>\n",
       "    <tr>\n",
       "      <td>1</td>\n",
       "      <td>1.0</td>\n",
       "      <td>1.0</td>\n",
       "      <td>1.0</td>\n",
       "      <td>42.286241</td>\n",
       "      <td>-71.134374</td>\n",
       "      <td>NaN</td>\n",
       "      <td>1.30</td>\n",
       "      <td>0.133333</td>\n",
       "      <td>2</td>\n",
       "      <td>0</td>\n",
       "      <td>...</td>\n",
       "      <td>NaN</td>\n",
       "      <td>Apartment</td>\n",
       "      <td>Private room</td>\n",
       "      <td>Real Bed</td>\n",
       "      <td>$65.00</td>\n",
       "      <td>$95.00</td>\n",
       "      <td>$10.00</td>\n",
       "      <td>$0.00</td>\n",
       "      <td>t</td>\n",
       "      <td>moderate</td>\n",
       "    </tr>\n",
       "    <tr>\n",
       "      <td>2</td>\n",
       "      <td>1.0</td>\n",
       "      <td>1.0</td>\n",
       "      <td>1.0</td>\n",
       "      <td>42.292438</td>\n",
       "      <td>-71.135765</td>\n",
       "      <td>NaN</td>\n",
       "      <td>0.47</td>\n",
       "      <td>0.366667</td>\n",
       "      <td>2</td>\n",
       "      <td>1</td>\n",
       "      <td>...</td>\n",
       "      <td>NaN</td>\n",
       "      <td>Apartment</td>\n",
       "      <td>Private room</td>\n",
       "      <td>Real Bed</td>\n",
       "      <td>$65.00</td>\n",
       "      <td>NaN</td>\n",
       "      <td>NaN</td>\n",
       "      <td>$20.00</td>\n",
       "      <td>f</td>\n",
       "      <td>moderate</td>\n",
       "    </tr>\n",
       "    <tr>\n",
       "      <td>3</td>\n",
       "      <td>1.0</td>\n",
       "      <td>1.0</td>\n",
       "      <td>2.0</td>\n",
       "      <td>42.281106</td>\n",
       "      <td>-71.121021</td>\n",
       "      <td>NaN</td>\n",
       "      <td>1.00</td>\n",
       "      <td>0.800000</td>\n",
       "      <td>4</td>\n",
       "      <td>2</td>\n",
       "      <td>...</td>\n",
       "      <td>NaN</td>\n",
       "      <td>House</td>\n",
       "      <td>Private room</td>\n",
       "      <td>Real Bed</td>\n",
       "      <td>$75.00</td>\n",
       "      <td>$100.00</td>\n",
       "      <td>$50.00</td>\n",
       "      <td>$25.00</td>\n",
       "      <td>f</td>\n",
       "      <td>moderate</td>\n",
       "    </tr>\n",
       "    <tr>\n",
       "      <td>4</td>\n",
       "      <td>1.5</td>\n",
       "      <td>1.0</td>\n",
       "      <td>2.0</td>\n",
       "      <td>42.284512</td>\n",
       "      <td>-71.136258</td>\n",
       "      <td>NaN</td>\n",
       "      <td>2.25</td>\n",
       "      <td>0.566667</td>\n",
       "      <td>2</td>\n",
       "      <td>1</td>\n",
       "      <td>...</td>\n",
       "      <td>NaN</td>\n",
       "      <td>House</td>\n",
       "      <td>Private room</td>\n",
       "      <td>Real Bed</td>\n",
       "      <td>$79.00</td>\n",
       "      <td>NaN</td>\n",
       "      <td>$15.00</td>\n",
       "      <td>$0.00</td>\n",
       "      <td>f</td>\n",
       "      <td>flexible</td>\n",
       "    </tr>\n",
       "  </tbody>\n",
       "</table>\n",
       "<p>5 rows × 62 columns</p>\n",
       "</div>"
      ],
      "text/plain": [
       "   bathrooms  bedrooms  beds   latitude  longitude  square_feet  \\\n",
       "0        1.5       2.0   3.0  42.282619 -71.133068          NaN   \n",
       "1        1.0       1.0   1.0  42.286241 -71.134374          NaN   \n",
       "2        1.0       1.0   1.0  42.292438 -71.135765          NaN   \n",
       "3        1.0       1.0   2.0  42.281106 -71.121021          NaN   \n",
       "4        1.5       1.0   2.0  42.284512 -71.136258          NaN   \n",
       "\n",
       "   reviews_per_month  booking_ratio_30  accommodates  guests_included  ...  \\\n",
       "0                NaN          1.000000             4                1  ...   \n",
       "1               1.30          0.133333             2                0  ...   \n",
       "2               0.47          0.366667             2                1  ...   \n",
       "3               1.00          0.800000             4                2  ...   \n",
       "4               2.25          0.566667             2                1  ...   \n",
       "\n",
       "   neighbourhood_group_cleansed  property_type        room_type  bed_type  \\\n",
       "0                           NaN          House  Entire home/apt  Real Bed   \n",
       "1                           NaN      Apartment     Private room  Real Bed   \n",
       "2                           NaN      Apartment     Private room  Real Bed   \n",
       "3                           NaN          House     Private room  Real Bed   \n",
       "4                           NaN          House     Private room  Real Bed   \n",
       "\n",
       "     price  security_deposit  cleaning_fee  extra_people  instant_bookable  \\\n",
       "0  $250.00               NaN        $35.00         $0.00                 f   \n",
       "1   $65.00            $95.00        $10.00         $0.00                 t   \n",
       "2   $65.00               NaN           NaN        $20.00                 f   \n",
       "3   $75.00           $100.00        $50.00        $25.00                 f   \n",
       "4   $79.00               NaN        $15.00         $0.00                 f   \n",
       "\n",
       "   cancellation_policy  \n",
       "0             moderate  \n",
       "1             moderate  \n",
       "2             moderate  \n",
       "3             moderate  \n",
       "4             flexible  \n",
       "\n",
       "[5 rows x 62 columns]"
      ]
     },
     "execution_count": 45,
     "metadata": {},
     "output_type": "execute_result"
    }
   ],
   "source": [
    "#Below, I made a list of important features in my opinion for estimating the price of a listing and created\n",
    "#a sub-dataframe of listings dataframe.\n",
    "\n",
    "\n",
    "#In order to answer the first question, I made columns for amenities categorical value, I will use all amenities columns\n",
    "#I created there.\n",
    "\n",
    "features_of_interest = ['bathrooms', 'bedrooms', 'beds', 'latitude', 'longitude', 'square_feet', 'reviews_per_month',\n",
    "        'booking_ratio_30', 'accommodates', 'guests_included', '\"24-Hour Check-in\"', '\"Suitable for Events\"',\n",
    "       '\"Pets live on this property\"', 'Dog(s)', '\"Smoking Allowed\"',\n",
    "       '\"Other pet(s)\"', 'Essentials', '\"Wireless Internet\"',\n",
    "       '\"Buzzer/Wireless Intercom\"', 'TV', 'Gym', 'Washer', 'Doorman', 'Dryer',\n",
    "       '\"Hot Tub\"', '\"Air Conditioning\"', '\"Pets Allowed\"', 'Pool',\n",
    "       '\"Hair Dryer\"', '\"Fire Extinguisher\"', 'Breakfast', '\"Washer / Dryer\"',\n",
    "       '\"Laptop Friendly Workspace\"', '\"Free Parking on Premises\"',\n",
    "       '\"Lock on Bedroom Door\"', 'Cat(s)', 'Hangers', '\"Family/Kid Friendly\"',\n",
    "       '\"Carbon Monoxide Detector\"', '\"Safety Card\"', 'Kitchen',\n",
    "       '\"Elevator in Building\"', 'Internet', 'Shampoo', '\"Smoke Detector\"',\n",
    "       '\"Wheelchair Accessible\"', 'Iron', '\"First Aid Kit\"',\n",
    "       '\"Indoor Fireplace\"', '\"Cable TV\"', 'Heating', 'host_is_superhost', 'neighbourhood_group_cleansed',\n",
    "        'property_type','room_type','bed_type','price','security_deposit',\n",
    "        'cleaning_fee', 'extra_people', 'instant_bookable', 'cancellation_policy']\n",
    "\n",
    "df_boston_ml = df_boston[features_of_interest]\n",
    "df_boston_ml.head()"
   ]
  },
  {
   "cell_type": "code",
   "execution_count": 46,
   "metadata": {},
   "outputs": [
    {
     "data": {
      "text/plain": [
       "bathrooms                         14\n",
       "bedrooms                          10\n",
       "beds                               9\n",
       "square_feet                     3529\n",
       "reviews_per_month                756\n",
       "neighbourhood_group_cleansed    3585\n",
       "property_type                      3\n",
       "security_deposit                2243\n",
       "cleaning_fee                    1107\n",
       "dtype: int64"
      ]
     },
     "execution_count": 46,
     "metadata": {},
     "output_type": "execute_result"
    }
   ],
   "source": [
    "#Now lets check the missing values in each columns and find a way to fill them.\n",
    "\n",
    "df_boston_ml.isnull().sum()[df_boston_ml.isnull().sum()>0]"
   ]
  },
  {
   "cell_type": "code",
   "execution_count": null,
   "metadata": {},
   "outputs": [],
   "source": [
    "Now i will do MIssing treatment as linear Regression will not accept NAN or missing values."
   ]
  },
  {
   "cell_type": "code",
   "execution_count": 73,
   "metadata": {},
   "outputs": [],
   "source": [
    "#Here I drop the 'square_feet' and  neighbourhood_group_cleansed column since there are many missing values and\n",
    "\n",
    "\n",
    "df_boston_ml = df_boston_ml.drop(columns='square_feet')\n",
    "df_boston_ml = df_boston_ml.drop(columns='neighbourhood_group_cleansed')\n"
   ]
  },
  {
   "cell_type": "code",
   "execution_count": 74,
   "metadata": {},
   "outputs": [],
   "source": [
    "#Below, I replace the missing values of 4 features (bathrooms, bedrooms, beds and reviews_per_month) with\n",
    "#mean values of each feature in the dataset.\n",
    "\n",
    "df_boston_ml['bathrooms'].fillna(df_boston_ml['bathrooms'].mean(), inplace=True)\n",
    "df_boston_ml['bedrooms'].fillna(df_boston_ml['bedrooms'].mean(), inplace=True)\n",
    "df_boston_ml['beds'].fillna(df_boston_ml['beds'].mean(), inplace=True)\n",
    "df_boston_ml['reviews_per_month'].fillna(df_boston_ml['reviews_per_month'].mean(), inplace=True)"
   ]
  },
  {
   "cell_type": "code",
   "execution_count": 49,
   "metadata": {},
   "outputs": [],
   "source": [
    "#Below, I replace the missing values of 2 features (host_is_superhost and property_type) with\n",
    "#mode values (most common) of each feature in the dataset.\n",
    "\n",
    "df_boston_ml['host_is_superhost'].fillna(df_boston_ml['host_is_superhost'].mode()[0], inplace=True)\n",
    "df_boston_ml['property_type'].fillna(df_boston_ml['property_type'].mode()[0], inplace=True)"
   ]
  },
  {
   "cell_type": "code",
   "execution_count": 75,
   "metadata": {},
   "outputs": [],
   "source": [
    "#Below, I replace the missing values of 2 features (security_deposit and cleaning_fee) with zeros.\n",
    "#The missing values in these features most probably mean they are equal to zero\n",
    "\n",
    "df_boston_ml['security_deposit'].fillna(0, inplace=True)\n",
    "df_boston_ml['cleaning_fee'].fillna(0, inplace=True)"
   ]
  },
  {
   "cell_type": "markdown",
   "metadata": {},
   "source": [
    "Now I will check the datatypes, make necessary changes for the datatypes. Also I will have to make new columns for categorical columns."
   ]
  },
  {
   "cell_type": "code",
   "execution_count": 76,
   "metadata": {},
   "outputs": [
    {
     "data": {
      "text/plain": [
       "bathrooms                              float64\n",
       "bedrooms                               float64\n",
       "beds                                   float64\n",
       "latitude                               float64\n",
       "longitude                              float64\n",
       "                                        ...   \n",
       "bed_type_Real Bed                        uint8\n",
       "instant_bookable_t                       uint8\n",
       "cancellation_policy_moderate             uint8\n",
       "cancellation_policy_strict               uint8\n",
       "cancellation_policy_super_strict_30      uint8\n",
       "Length: 77, dtype: object"
      ]
     },
     "execution_count": 76,
     "metadata": {},
     "output_type": "execute_result"
    }
   ],
   "source": [
    "df_boston_ml.dtypes\n"
   ]
  },
  {
   "cell_type": "code",
   "execution_count": 77,
   "metadata": {},
   "outputs": [
    {
     "data": {
      "text/plain": [
       "dtype('float64')"
      ]
     },
     "execution_count": 77,
     "metadata": {},
     "output_type": "execute_result"
    }
   ],
   "source": [
    "df_boston_ml['price'].dtypes#checked twice as most important part for Anlaysis"
   ]
  },
  {
   "cell_type": "markdown",
   "metadata": {},
   "source": [
    "The following columns have to change from object to float:\n",
    "- price\n",
    "- security_deposit\n",
    "- cleaning_fee"
   ]
  },
  {
   "cell_type": "code",
   "execution_count": 62,
   "metadata": {},
   "outputs": [],
   "source": [
    "#In the columns that have information about price, the $ signs and (comma) signs has to be removed. \n",
    "\n",
    "df_boston_ml['price'] = df_boston_ml['price'].str.replace('$', '')\n",
    "df_boston_ml['security_deposit'] = df_boston_ml['security_deposit'].str.replace('$', '')\n",
    "df_boston_ml['cleaning_fee'] = df_boston_ml['cleaning_fee'].str.replace('$', '')\n",
    "df_boston_ml['extra_people'] = df_boston_ml['extra_people'].str.replace('$', '')\n",
    "\n",
    "df_boston_ml['price'] = df_boston_ml['price'].str.replace(',', '')\n",
    "df_boston_ml['security_deposit'] = df_boston_ml['security_deposit'].str.replace(',', '')\n",
    "df_boston_ml['cleaning_fee'] = df_boston_ml['cleaning_fee'].str.replace(',', '')\n",
    "df_boston_ml['extra_people'] = df_boston_ml['extra_people'].str.replace(',', '')\n",
    "\n",
    "#Removing $ and , signs made 0 (zero) values NaN again. So I have to fillna with 0 again. \n",
    "df_boston_ml['security_deposit'].fillna(0, inplace=True)\n",
    "df_boston_ml['cleaning_fee'].fillna(0, inplace=True)"
   ]
  },
  {
   "cell_type": "code",
   "execution_count": 78,
   "metadata": {},
   "outputs": [
    {
     "data": {
      "text/plain": [
       "Series([], dtype: int64)"
      ]
     },
     "execution_count": 78,
     "metadata": {},
     "output_type": "execute_result"
    }
   ],
   "source": [
    "\n",
    "df_boston_ml.isnull().sum()[df_boston_ml.isnull().sum()>0]"
   ]
  },
  {
   "cell_type": "code",
   "execution_count": 64,
   "metadata": {},
   "outputs": [],
   "source": [
    "#Changing data type from string to float.\n",
    "df_boston_ml['price'] = df_boston_ml['price'].astype(float)\n",
    "df_boston_ml['security_deposit'] = df_boston_ml['security_deposit'].astype(float)\n",
    "df_boston_ml['cleaning_fee'] = df_boston_ml['cleaning_fee'].astype(float)\n",
    "df_boston_ml['extra_people'] = df_boston_ml['extra_people'].astype(float)"
   ]
  },
  {
   "cell_type": "code",
   "execution_count": 79,
   "metadata": {
    "scrolled": true
   },
   "outputs": [],
   "source": [
    "#creating a new dataframe which is a subset of categorical columns of out df_lis_ml dataframe\n",
    "cat_cols = df_boston_ml.select_dtypes(include=['object'])"
   ]
  },
  {
   "cell_type": "code",
   "execution_count": 80,
   "metadata": {},
   "outputs": [
    {
     "data": {
      "text/html": [
       "<div>\n",
       "<style scoped>\n",
       "    .dataframe tbody tr th:only-of-type {\n",
       "        vertical-align: middle;\n",
       "    }\n",
       "\n",
       "    .dataframe tbody tr th {\n",
       "        vertical-align: top;\n",
       "    }\n",
       "\n",
       "    .dataframe thead th {\n",
       "        text-align: right;\n",
       "    }\n",
       "</style>\n",
       "<table border=\"1\" class=\"dataframe\">\n",
       "  <thead>\n",
       "    <tr style=\"text-align: right;\">\n",
       "      <th></th>\n",
       "      <th>bathrooms</th>\n",
       "      <th>bedrooms</th>\n",
       "      <th>beds</th>\n",
       "      <th>latitude</th>\n",
       "      <th>longitude</th>\n",
       "      <th>reviews_per_month</th>\n",
       "      <th>booking_ratio_30</th>\n",
       "      <th>accommodates</th>\n",
       "      <th>guests_included</th>\n",
       "      <th>\"24-Hour Check-in\"</th>\n",
       "      <th>...</th>\n",
       "      <th>room_type_Private room</th>\n",
       "      <th>room_type_Shared room</th>\n",
       "      <th>bed_type_Couch</th>\n",
       "      <th>bed_type_Futon</th>\n",
       "      <th>bed_type_Pull-out Sofa</th>\n",
       "      <th>bed_type_Real Bed</th>\n",
       "      <th>instant_bookable_t</th>\n",
       "      <th>cancellation_policy_moderate</th>\n",
       "      <th>cancellation_policy_strict</th>\n",
       "      <th>cancellation_policy_super_strict_30</th>\n",
       "    </tr>\n",
       "  </thead>\n",
       "  <tbody>\n",
       "    <tr>\n",
       "      <td>0</td>\n",
       "      <td>1.5</td>\n",
       "      <td>2.0</td>\n",
       "      <td>3.0</td>\n",
       "      <td>42.282619</td>\n",
       "      <td>-71.133068</td>\n",
       "      <td>1.970908</td>\n",
       "      <td>1.000000</td>\n",
       "      <td>4</td>\n",
       "      <td>1</td>\n",
       "      <td>0</td>\n",
       "      <td>...</td>\n",
       "      <td>0</td>\n",
       "      <td>0</td>\n",
       "      <td>0</td>\n",
       "      <td>0</td>\n",
       "      <td>0</td>\n",
       "      <td>1</td>\n",
       "      <td>0</td>\n",
       "      <td>1</td>\n",
       "      <td>0</td>\n",
       "      <td>0</td>\n",
       "    </tr>\n",
       "    <tr>\n",
       "      <td>1</td>\n",
       "      <td>1.0</td>\n",
       "      <td>1.0</td>\n",
       "      <td>1.0</td>\n",
       "      <td>42.286241</td>\n",
       "      <td>-71.134374</td>\n",
       "      <td>1.300000</td>\n",
       "      <td>0.133333</td>\n",
       "      <td>2</td>\n",
       "      <td>0</td>\n",
       "      <td>0</td>\n",
       "      <td>...</td>\n",
       "      <td>1</td>\n",
       "      <td>0</td>\n",
       "      <td>0</td>\n",
       "      <td>0</td>\n",
       "      <td>0</td>\n",
       "      <td>1</td>\n",
       "      <td>1</td>\n",
       "      <td>1</td>\n",
       "      <td>0</td>\n",
       "      <td>0</td>\n",
       "    </tr>\n",
       "    <tr>\n",
       "      <td>2</td>\n",
       "      <td>1.0</td>\n",
       "      <td>1.0</td>\n",
       "      <td>1.0</td>\n",
       "      <td>42.292438</td>\n",
       "      <td>-71.135765</td>\n",
       "      <td>0.470000</td>\n",
       "      <td>0.366667</td>\n",
       "      <td>2</td>\n",
       "      <td>1</td>\n",
       "      <td>0</td>\n",
       "      <td>...</td>\n",
       "      <td>1</td>\n",
       "      <td>0</td>\n",
       "      <td>0</td>\n",
       "      <td>0</td>\n",
       "      <td>0</td>\n",
       "      <td>1</td>\n",
       "      <td>0</td>\n",
       "      <td>1</td>\n",
       "      <td>0</td>\n",
       "      <td>0</td>\n",
       "    </tr>\n",
       "    <tr>\n",
       "      <td>3</td>\n",
       "      <td>1.0</td>\n",
       "      <td>1.0</td>\n",
       "      <td>2.0</td>\n",
       "      <td>42.281106</td>\n",
       "      <td>-71.121021</td>\n",
       "      <td>1.000000</td>\n",
       "      <td>0.800000</td>\n",
       "      <td>4</td>\n",
       "      <td>2</td>\n",
       "      <td>0</td>\n",
       "      <td>...</td>\n",
       "      <td>1</td>\n",
       "      <td>0</td>\n",
       "      <td>0</td>\n",
       "      <td>0</td>\n",
       "      <td>0</td>\n",
       "      <td>1</td>\n",
       "      <td>0</td>\n",
       "      <td>1</td>\n",
       "      <td>0</td>\n",
       "      <td>0</td>\n",
       "    </tr>\n",
       "    <tr>\n",
       "      <td>4</td>\n",
       "      <td>1.5</td>\n",
       "      <td>1.0</td>\n",
       "      <td>2.0</td>\n",
       "      <td>42.284512</td>\n",
       "      <td>-71.136258</td>\n",
       "      <td>2.250000</td>\n",
       "      <td>0.566667</td>\n",
       "      <td>2</td>\n",
       "      <td>1</td>\n",
       "      <td>0</td>\n",
       "      <td>...</td>\n",
       "      <td>1</td>\n",
       "      <td>0</td>\n",
       "      <td>0</td>\n",
       "      <td>0</td>\n",
       "      <td>0</td>\n",
       "      <td>1</td>\n",
       "      <td>0</td>\n",
       "      <td>0</td>\n",
       "      <td>0</td>\n",
       "      <td>0</td>\n",
       "    </tr>\n",
       "  </tbody>\n",
       "</table>\n",
       "<p>5 rows × 77 columns</p>\n",
       "</div>"
      ],
      "text/plain": [
       "   bathrooms  bedrooms  beds   latitude  longitude  reviews_per_month  \\\n",
       "0        1.5       2.0   3.0  42.282619 -71.133068           1.970908   \n",
       "1        1.0       1.0   1.0  42.286241 -71.134374           1.300000   \n",
       "2        1.0       1.0   1.0  42.292438 -71.135765           0.470000   \n",
       "3        1.0       1.0   2.0  42.281106 -71.121021           1.000000   \n",
       "4        1.5       1.0   2.0  42.284512 -71.136258           2.250000   \n",
       "\n",
       "   booking_ratio_30  accommodates  guests_included  \"24-Hour Check-in\"  ...  \\\n",
       "0          1.000000             4                1                   0  ...   \n",
       "1          0.133333             2                0                   0  ...   \n",
       "2          0.366667             2                1                   0  ...   \n",
       "3          0.800000             4                2                   0  ...   \n",
       "4          0.566667             2                1                   0  ...   \n",
       "\n",
       "   room_type_Private room  room_type_Shared room  bed_type_Couch  \\\n",
       "0                       0                      0               0   \n",
       "1                       1                      0               0   \n",
       "2                       1                      0               0   \n",
       "3                       1                      0               0   \n",
       "4                       1                      0               0   \n",
       "\n",
       "   bed_type_Futon  bed_type_Pull-out Sofa  bed_type_Real Bed  \\\n",
       "0               0                       0                  1   \n",
       "1               0                       0                  1   \n",
       "2               0                       0                  1   \n",
       "3               0                       0                  1   \n",
       "4               0                       0                  1   \n",
       "\n",
       "   instant_bookable_t  cancellation_policy_moderate  \\\n",
       "0                   0                             1   \n",
       "1                   1                             1   \n",
       "2                   0                             1   \n",
       "3                   0                             1   \n",
       "4                   0                             0   \n",
       "\n",
       "   cancellation_policy_strict  cancellation_policy_super_strict_30  \n",
       "0                           0                                    0  \n",
       "1                           0                                    0  \n",
       "2                           0                                    0  \n",
       "3                           0                                    0  \n",
       "4                           0                                    0  \n",
       "\n",
       "[5 rows x 77 columns]"
      ]
     },
     "execution_count": 80,
     "metadata": {},
     "output_type": "execute_result"
    }
   ],
   "source": [
    "cat_cols.head()\n",
    "df_boston_ml.head()"
   ]
  },
  {
   "cell_type": "code",
   "execution_count": 81,
   "metadata": {},
   "outputs": [],
   "source": [
    "# Making new columns from categorical variables in order to use these features in ML regression algoritm.\n",
    "for col in cat_cols:\n",
    "    try:\n",
    "        df_boston_ml = pd.concat([df_boston_ml.drop(col, axis=1), pd.get_dummies(df_boston_ml[col], prefix=col, prefix_sep='_', drop_first=True)], axis=1)\n",
    "    except:\n",
    "        continue"
   ]
  },
  {
   "cell_type": "markdown",
   "metadata": {},
   "source": [
    "Since I made the data ready, I will try Linear Regression to estimate price depending on features I selected."
   ]
  },
  {
   "cell_type": "code",
   "execution_count": 82,
   "metadata": {},
   "outputs": [],
   "source": [
    "#Creating the X (feautures) and y (the variable to be modelled) dataframes\n",
    "y = df_boston_ml['price']\n",
    "X = df_boston_ml.drop(columns='price')"
   ]
  },
  {
   "cell_type": "code",
   "execution_count": 83,
   "metadata": {},
   "outputs": [
    {
     "data": {
      "text/html": [
       "<div>\n",
       "<style scoped>\n",
       "    .dataframe tbody tr th:only-of-type {\n",
       "        vertical-align: middle;\n",
       "    }\n",
       "\n",
       "    .dataframe tbody tr th {\n",
       "        vertical-align: top;\n",
       "    }\n",
       "\n",
       "    .dataframe thead th {\n",
       "        text-align: right;\n",
       "    }\n",
       "</style>\n",
       "<table border=\"1\" class=\"dataframe\">\n",
       "  <thead>\n",
       "    <tr style=\"text-align: right;\">\n",
       "      <th></th>\n",
       "      <th>bathrooms</th>\n",
       "      <th>bedrooms</th>\n",
       "      <th>beds</th>\n",
       "      <th>latitude</th>\n",
       "      <th>longitude</th>\n",
       "      <th>reviews_per_month</th>\n",
       "      <th>booking_ratio_30</th>\n",
       "      <th>accommodates</th>\n",
       "      <th>guests_included</th>\n",
       "      <th>\"24-Hour Check-in\"</th>\n",
       "      <th>...</th>\n",
       "      <th>room_type_Private room</th>\n",
       "      <th>room_type_Shared room</th>\n",
       "      <th>bed_type_Couch</th>\n",
       "      <th>bed_type_Futon</th>\n",
       "      <th>bed_type_Pull-out Sofa</th>\n",
       "      <th>bed_type_Real Bed</th>\n",
       "      <th>instant_bookable_t</th>\n",
       "      <th>cancellation_policy_moderate</th>\n",
       "      <th>cancellation_policy_strict</th>\n",
       "      <th>cancellation_policy_super_strict_30</th>\n",
       "    </tr>\n",
       "  </thead>\n",
       "  <tbody>\n",
       "    <tr>\n",
       "      <td>0</td>\n",
       "      <td>1.5</td>\n",
       "      <td>2.0</td>\n",
       "      <td>3.0</td>\n",
       "      <td>42.282619</td>\n",
       "      <td>-71.133068</td>\n",
       "      <td>1.970908</td>\n",
       "      <td>1.000000</td>\n",
       "      <td>4</td>\n",
       "      <td>1</td>\n",
       "      <td>0</td>\n",
       "      <td>...</td>\n",
       "      <td>0</td>\n",
       "      <td>0</td>\n",
       "      <td>0</td>\n",
       "      <td>0</td>\n",
       "      <td>0</td>\n",
       "      <td>1</td>\n",
       "      <td>0</td>\n",
       "      <td>1</td>\n",
       "      <td>0</td>\n",
       "      <td>0</td>\n",
       "    </tr>\n",
       "    <tr>\n",
       "      <td>1</td>\n",
       "      <td>1.0</td>\n",
       "      <td>1.0</td>\n",
       "      <td>1.0</td>\n",
       "      <td>42.286241</td>\n",
       "      <td>-71.134374</td>\n",
       "      <td>1.300000</td>\n",
       "      <td>0.133333</td>\n",
       "      <td>2</td>\n",
       "      <td>0</td>\n",
       "      <td>0</td>\n",
       "      <td>...</td>\n",
       "      <td>1</td>\n",
       "      <td>0</td>\n",
       "      <td>0</td>\n",
       "      <td>0</td>\n",
       "      <td>0</td>\n",
       "      <td>1</td>\n",
       "      <td>1</td>\n",
       "      <td>1</td>\n",
       "      <td>0</td>\n",
       "      <td>0</td>\n",
       "    </tr>\n",
       "    <tr>\n",
       "      <td>2</td>\n",
       "      <td>1.0</td>\n",
       "      <td>1.0</td>\n",
       "      <td>1.0</td>\n",
       "      <td>42.292438</td>\n",
       "      <td>-71.135765</td>\n",
       "      <td>0.470000</td>\n",
       "      <td>0.366667</td>\n",
       "      <td>2</td>\n",
       "      <td>1</td>\n",
       "      <td>0</td>\n",
       "      <td>...</td>\n",
       "      <td>1</td>\n",
       "      <td>0</td>\n",
       "      <td>0</td>\n",
       "      <td>0</td>\n",
       "      <td>0</td>\n",
       "      <td>1</td>\n",
       "      <td>0</td>\n",
       "      <td>1</td>\n",
       "      <td>0</td>\n",
       "      <td>0</td>\n",
       "    </tr>\n",
       "    <tr>\n",
       "      <td>3</td>\n",
       "      <td>1.0</td>\n",
       "      <td>1.0</td>\n",
       "      <td>2.0</td>\n",
       "      <td>42.281106</td>\n",
       "      <td>-71.121021</td>\n",
       "      <td>1.000000</td>\n",
       "      <td>0.800000</td>\n",
       "      <td>4</td>\n",
       "      <td>2</td>\n",
       "      <td>0</td>\n",
       "      <td>...</td>\n",
       "      <td>1</td>\n",
       "      <td>0</td>\n",
       "      <td>0</td>\n",
       "      <td>0</td>\n",
       "      <td>0</td>\n",
       "      <td>1</td>\n",
       "      <td>0</td>\n",
       "      <td>1</td>\n",
       "      <td>0</td>\n",
       "      <td>0</td>\n",
       "    </tr>\n",
       "    <tr>\n",
       "      <td>4</td>\n",
       "      <td>1.5</td>\n",
       "      <td>1.0</td>\n",
       "      <td>2.0</td>\n",
       "      <td>42.284512</td>\n",
       "      <td>-71.136258</td>\n",
       "      <td>2.250000</td>\n",
       "      <td>0.566667</td>\n",
       "      <td>2</td>\n",
       "      <td>1</td>\n",
       "      <td>0</td>\n",
       "      <td>...</td>\n",
       "      <td>1</td>\n",
       "      <td>0</td>\n",
       "      <td>0</td>\n",
       "      <td>0</td>\n",
       "      <td>0</td>\n",
       "      <td>1</td>\n",
       "      <td>0</td>\n",
       "      <td>0</td>\n",
       "      <td>0</td>\n",
       "      <td>0</td>\n",
       "    </tr>\n",
       "  </tbody>\n",
       "</table>\n",
       "<p>5 rows × 77 columns</p>\n",
       "</div>"
      ],
      "text/plain": [
       "   bathrooms  bedrooms  beds   latitude  longitude  reviews_per_month  \\\n",
       "0        1.5       2.0   3.0  42.282619 -71.133068           1.970908   \n",
       "1        1.0       1.0   1.0  42.286241 -71.134374           1.300000   \n",
       "2        1.0       1.0   1.0  42.292438 -71.135765           0.470000   \n",
       "3        1.0       1.0   2.0  42.281106 -71.121021           1.000000   \n",
       "4        1.5       1.0   2.0  42.284512 -71.136258           2.250000   \n",
       "\n",
       "   booking_ratio_30  accommodates  guests_included  \"24-Hour Check-in\"  ...  \\\n",
       "0          1.000000             4                1                   0  ...   \n",
       "1          0.133333             2                0                   0  ...   \n",
       "2          0.366667             2                1                   0  ...   \n",
       "3          0.800000             4                2                   0  ...   \n",
       "4          0.566667             2                1                   0  ...   \n",
       "\n",
       "   room_type_Private room  room_type_Shared room  bed_type_Couch  \\\n",
       "0                       0                      0               0   \n",
       "1                       1                      0               0   \n",
       "2                       1                      0               0   \n",
       "3                       1                      0               0   \n",
       "4                       1                      0               0   \n",
       "\n",
       "   bed_type_Futon  bed_type_Pull-out Sofa  bed_type_Real Bed  \\\n",
       "0               0                       0                  1   \n",
       "1               0                       0                  1   \n",
       "2               0                       0                  1   \n",
       "3               0                       0                  1   \n",
       "4               0                       0                  1   \n",
       "\n",
       "   instant_bookable_t  cancellation_policy_moderate  \\\n",
       "0                   0                             1   \n",
       "1                   1                             1   \n",
       "2                   0                             1   \n",
       "3                   0                             1   \n",
       "4                   0                             0   \n",
       "\n",
       "   cancellation_policy_strict  cancellation_policy_super_strict_30  \n",
       "0                           0                                    0  \n",
       "1                           0                                    0  \n",
       "2                           0                                    0  \n",
       "3                           0                                    0  \n",
       "4                           0                                    0  \n",
       "\n",
       "[5 rows x 77 columns]"
      ]
     },
     "execution_count": 83,
     "metadata": {},
     "output_type": "execute_result"
    }
   ],
   "source": [
    "df_boston_ml.head()"
   ]
  },
  {
   "cell_type": "code",
   "execution_count": 84,
   "metadata": {},
   "outputs": [],
   "source": [
    "#Splitting the new dataframes into train and test dataframes\n",
    "X_train, X_test, y_train, y_test = train_test_split(X, y, test_size = 0.2, random_state=42)"
   ]
  },
  {
   "cell_type": "code",
   "execution_count": 85,
   "metadata": {
    "scrolled": true
   },
   "outputs": [
    {
     "name": "stdout",
     "output_type": "stream",
     "text": [
      "0.22596990093420355\n"
     ]
    }
   ],
   "source": [
    "#Applying the linear regression, fitting the model, making predictions with the test set and scoring the success of the model\n",
    "lm_model = LinearRegression(normalize=True)\n",
    "lm_model.fit(X_train, y_train)\n",
    "y_test_preds = lm_model.predict(X_test)\n",
    "test_score = r2_score(y_test, y_test_preds)\n",
    "print(test_score)"
   ]
  },
  {
   "cell_type": "markdown",
   "metadata": {},
   "source": [
    "The r-squared value of my model is 0.225 which is very small"
   ]
  },
  {
   "cell_type": "markdown",
   "metadata": {},
   "source": [
    "I want to investigate about the coefficients of my model. Below function is taken from one of the Udacity jupyter notebook examples. I used this code to see coefficients of my model."
   ]
  },
  {
   "cell_type": "code",
   "execution_count": 86,
   "metadata": {},
   "outputs": [],
   "source": [
    "#Below function is taken from one of the Udacity jupyter notebook examples. I used this code to see coefficients of my model. \n",
    "def coef_weights(coefficients, X_train):\n",
    "    '''\n",
    "    INPUT:\n",
    "    coefficients - the coefficients of the linear model \n",
    "    X_train - the training data, so the column names can be used\n",
    "    OUTPUT:\n",
    "    coefs_df - a dataframe holding the coefficient, estimate, and abs(estimate)\n",
    "    \n",
    "    Provides a dataframe that can be used to understand the most influential coefficients\n",
    "    in a linear model by providing the coefficient estimates along with the name of the \n",
    "    variable attached to the coefficient.\n",
    "    '''\n",
    "    coefs_df = pd.DataFrame()\n",
    "    coefs_df['est_int'] = X_train.columns\n",
    "    coefs_df['coefs'] = lm_model.coef_\n",
    "    coefs_df['abs_coefs'] = np.abs(lm_model.coef_)\n",
    "    coefs_df = coefs_df.sort_values('abs_coefs', ascending=False)\n",
    "    return coefs_df\n",
    "\n",
    "#Use the function\n",
    "coef_df = coef_weights(lm_model.coef_, X_train)"
   ]
  },
  {
   "cell_type": "markdown",
   "metadata": {},
   "source": [
    "Below is the list features that are the most influential coefficients. "
   ]
  },
  {
   "cell_type": "code",
   "execution_count": 87,
   "metadata": {},
   "outputs": [
    {
     "data": {
      "text/html": [
       "<div>\n",
       "<style scoped>\n",
       "    .dataframe tbody tr th:only-of-type {\n",
       "        vertical-align: middle;\n",
       "    }\n",
       "\n",
       "    .dataframe tbody tr th {\n",
       "        vertical-align: top;\n",
       "    }\n",
       "\n",
       "    .dataframe thead th {\n",
       "        text-align: right;\n",
       "    }\n",
       "</style>\n",
       "<table border=\"1\" class=\"dataframe\">\n",
       "  <thead>\n",
       "    <tr style=\"text-align: right;\">\n",
       "      <th></th>\n",
       "      <th>est_int</th>\n",
       "      <th>coefs</th>\n",
       "      <th>abs_coefs</th>\n",
       "    </tr>\n",
       "  </thead>\n",
       "  <tbody>\n",
       "    <tr>\n",
       "      <td>3</td>\n",
       "      <td>latitude</td>\n",
       "      <td>52487.787761</td>\n",
       "      <td>52487.787761</td>\n",
       "    </tr>\n",
       "    <tr>\n",
       "      <td>4</td>\n",
       "      <td>longitude</td>\n",
       "      <td>24338.730960</td>\n",
       "      <td>24338.730960</td>\n",
       "    </tr>\n",
       "    <tr>\n",
       "      <td>30</td>\n",
       "      <td>\"Washer / Dryer\"</td>\n",
       "      <td>13833.960092</td>\n",
       "      <td>13833.960092</td>\n",
       "    </tr>\n",
       "    <tr>\n",
       "      <td>56</td>\n",
       "      <td>property_type_Camper/RV</td>\n",
       "      <td>-11508.790687</td>\n",
       "      <td>11508.790687</td>\n",
       "    </tr>\n",
       "    <tr>\n",
       "      <td>75</td>\n",
       "      <td>cancellation_policy_super_strict_30</td>\n",
       "      <td>8739.121292</td>\n",
       "      <td>8739.121292</td>\n",
       "    </tr>\n",
       "    <tr>\n",
       "      <td>67</td>\n",
       "      <td>room_type_Shared room</td>\n",
       "      <td>-6417.418594</td>\n",
       "      <td>6417.418594</td>\n",
       "    </tr>\n",
       "    <tr>\n",
       "      <td>66</td>\n",
       "      <td>room_type_Private room</td>\n",
       "      <td>-6233.330044</td>\n",
       "      <td>6233.330044</td>\n",
       "    </tr>\n",
       "    <tr>\n",
       "      <td>21</td>\n",
       "      <td>Doorman</td>\n",
       "      <td>5306.691131</td>\n",
       "      <td>5306.691131</td>\n",
       "    </tr>\n",
       "    <tr>\n",
       "      <td>14</td>\n",
       "      <td>\"Other pet(s)\"</td>\n",
       "      <td>-4664.477952</td>\n",
       "      <td>4664.477952</td>\n",
       "    </tr>\n",
       "    <tr>\n",
       "      <td>59</td>\n",
       "      <td>property_type_Entire Floor</td>\n",
       "      <td>-4085.902095</td>\n",
       "      <td>4085.902095</td>\n",
       "    </tr>\n",
       "    <tr>\n",
       "      <td>65</td>\n",
       "      <td>property_type_Villa</td>\n",
       "      <td>3037.310081</td>\n",
       "      <td>3037.310081</td>\n",
       "    </tr>\n",
       "    <tr>\n",
       "      <td>1</td>\n",
       "      <td>bedrooms</td>\n",
       "      <td>3009.953144</td>\n",
       "      <td>3009.953144</td>\n",
       "    </tr>\n",
       "    <tr>\n",
       "      <td>26</td>\n",
       "      <td>Pool</td>\n",
       "      <td>-2989.852549</td>\n",
       "      <td>2989.852549</td>\n",
       "    </tr>\n",
       "    <tr>\n",
       "      <td>12</td>\n",
       "      <td>Dog(s)</td>\n",
       "      <td>2760.606868</td>\n",
       "      <td>2760.606868</td>\n",
       "    </tr>\n",
       "    <tr>\n",
       "      <td>0</td>\n",
       "      <td>bathrooms</td>\n",
       "      <td>2624.217350</td>\n",
       "      <td>2624.217350</td>\n",
       "    </tr>\n",
       "  </tbody>\n",
       "</table>\n",
       "</div>"
      ],
      "text/plain": [
       "                                est_int         coefs     abs_coefs\n",
       "3                              latitude  52487.787761  52487.787761\n",
       "4                             longitude  24338.730960  24338.730960\n",
       "30                     \"Washer / Dryer\"  13833.960092  13833.960092\n",
       "56              property_type_Camper/RV -11508.790687  11508.790687\n",
       "75  cancellation_policy_super_strict_30   8739.121292   8739.121292\n",
       "67                room_type_Shared room  -6417.418594   6417.418594\n",
       "66               room_type_Private room  -6233.330044   6233.330044\n",
       "21                              Doorman   5306.691131   5306.691131\n",
       "14                       \"Other pet(s)\"  -4664.477952   4664.477952\n",
       "59           property_type_Entire Floor  -4085.902095   4085.902095\n",
       "65                  property_type_Villa   3037.310081   3037.310081\n",
       "1                              bedrooms   3009.953144   3009.953144\n",
       "26                                 Pool  -2989.852549   2989.852549\n",
       "12                               Dog(s)   2760.606868   2760.606868\n",
       "0                             bathrooms   2624.217350   2624.217350"
      ]
     },
     "execution_count": 87,
     "metadata": {},
     "output_type": "execute_result"
    }
   ],
   "source": [
    "coef_df.head(15)"
   ]
  },
  {
   "cell_type": "markdown",
   "metadata": {},
   "source": [
    "In order to increase r-squared value I will use SelectKBest.\n",
    "Below I write a function that tests different \"k\" numbers and compare r-squared for each k value."
   ]
  },
  {
   "cell_type": "code",
   "execution_count": 88,
   "metadata": {},
   "outputs": [],
   "source": [
    "def find_optimal_number_of_selectors(X, y, k_samples, plot=True):\n",
    "    '''\n",
    "    INPUT:\n",
    "    X dataframe that contains the features.\n",
    "    y dataframe that contains the variable to be predicted.\n",
    "    k_samples is a list of k values that will be tested.\n",
    "    \n",
    "    OUTPUT:\n",
    "    A dictionary that contains values of tested k-values as keys and r-squared values for each key.\n",
    "    The k-value that has the highest r-squared.\n",
    "\n",
    "    '''   \n",
    "    result_r_squareds = []\n",
    "    results = {}\n",
    "    for kes in k_samples:\n",
    "        selector = SelectKBest(score_func=f_regression, k=kes)\n",
    "        selector.fit_transform(X, y)\n",
    "        selected_cols = selector.get_support(indices=True)\n",
    "        features_new_X = X.iloc[:,selected_cols]\n",
    "        \n",
    "        X_train, X_test, y_train, y_test = train_test_split(features_new_X, y, test_size = 0.2, random_state=42)\n",
    "        lm_model = LinearRegression(normalize=True)\n",
    "        lm_model.fit(X_train, y_train)\n",
    "        y_test_preds = lm_model.predict(X_test)\n",
    "        result_r_squareds.append(r2_score(y_test, y_test_preds))\n",
    "        results[str(kes)] = r2_score(y_test, y_test_preds)\n",
    "    \n",
    "    if plot:\n",
    "        plt.plot(k_samples, result_r_squareds, label=\"r-squared\", alpha=0.5)\n",
    "        plt.xlabel(\"Different k_values\")\n",
    "        plt.ylabel(\"R_Squared_Values\")\n",
    "        plt.legend(loc=1)\n",
    "        plt.show()\n",
    "    \n",
    "    best_k = max(results, key=results.get)\n",
    "    \n",
    "    return results, best_k"
   ]
  },
  {
   "cell_type": "code",
   "execution_count": 89,
   "metadata": {},
   "outputs": [
    {
     "data": {
      "image/png": "[encoded data removed]",
      "text/plain": [
       "<Figure size 432x288 with 1 Axes>"
      ]
     },
     "metadata": {
      "needs_background": "light"
     },
     "output_type": "display_data"
    },
    {
     "name": "stdout",
     "output_type": "stream",
     "text": [
      "{'10': 0.20078429093784045, '11': 0.20471453157159714, '12': 0.20518427542431672, '13': 0.21366486429287546, '14': 0.21340872238171238, '15': 0.20968726361180157, '16': 0.20936302327296274, '17': 0.21161464694861842, '18': 0.2154652261871678, '19': 0.21715988695640875, '20': 0.21551730192488183, '21': 0.21638763732717192, '22': 0.21689378798619918, '23': 0.21817217099050357, '24': 0.2176108667639225, '25': 0.22115791151925068, '26': 0.22482082135428771, '27': 0.22487137832326987, '28': 0.2252222489773439, '29': 0.22523576087193464, '30': 0.22718544136309715, '31': 0.22824403620704325, '32': 0.2245901375635243, '33': 0.22408660799445457, '34': 0.22662531458882706, '35': 0.22599300393521637, '36': 0.22600706331242637, '37': 0.22426830992629654, '38': 0.22430446148958483, '39': 0.2238365225028619, '40': 0.22397897499772157, '41': 0.22385506426332824, '42': 0.22349919167221688, '43': 0.22413696234124292, '44': 0.2249120334345346, '45': 0.2247783309393505, '46': 0.224576982076774, '47': 0.224584878973915, '48': 0.22509937940998614, '49': 0.22497590219969477, '50': 0.22443687957062008, '51': 0.22445799993921145, '52': 0.22446310874619346, '53': 0.22403578297548377, '54': 0.22397464875365747, '55': 0.22406610304651642, '56': 0.22490843406319827, '57': 0.22400329113121753, '58': 0.22397302950125275, '59': 0.22356812675553284, '60': 0.2235976871045372, '61': 0.22403594595382192, '62': 0.22411609428068358, '63': 0.22411429950579342, '64': 0.22421034021803576, '65': 0.22427304578691143, '66': 0.22446290857902063, '67': 0.22446290857901996, '68': 0.22438367246964652, '69': 0.22446712097614496, '70': 0.2245474936466656, '71': 0.22530606320905167, '72': 0.22488803082293474, '73': 0.2248525331963378, '74': 0.22598049578545953, '75': 0.22595346443531017}\n",
      "31\n",
      "0.22824403620704325\n"
     ]
    }
   ],
   "source": [
    "#I test a range of k values from 10 to 94 (which is the number of all features)\n",
    "#and find the number of features that generate the highest r-squared value.\n",
    "k_samples = range(10, len(X.columns))\n",
    "emre_results, emre_best_k = find_optimal_number_of_selectors(X, y, k_samples)\n",
    "print(emre_results)\n",
    "print(emre_best_k)\n",
    "print(emre_results[emre_best_k])\n"
   ]
  },
  {
   "cell_type": "markdown",
   "metadata": {},
   "source": [
    "The highest r-squared value is achieved with 31 features and the r-squared value is 0.22"
   ]
  }
 ],
 "metadata": {
  "kernelspec": {
   "display_name": "Python 3",
   "language": "python",
   "name": "python3"
  },
  "language_info": {
   "codemirror_mode": {
    "name": "ipython",
    "version": 3
   },
   "file_extension": ".py",
   "mimetype": "text/x-python",
   "name": "python",
   "nbconvert_exporter": "python",
   "pygments_lexer": "ipython3",
   "version": "3.7.4"
  }
 },
 "nbformat": 4,
 "nbformat_minor": 2
}
