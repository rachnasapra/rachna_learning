{
 "cells": [
  {
   "cell_type": "code",
   "execution_count": 98,
   "metadata": {},
   "outputs": [
    {
     "data": {
      "text/html": [
       "<div>\n",
       "<style scoped>\n",
       "    .dataframe tbody tr th:only-of-type {\n",
       "        vertical-align: middle;\n",
       "    }\n",
       "\n",
       "    .dataframe tbody tr th {\n",
       "        vertical-align: top;\n",
       "    }\n",
       "\n",
       "    .dataframe thead th {\n",
       "        text-align: right;\n",
       "    }\n",
       "</style>\n",
       "<table border=\"1\" class=\"dataframe\">\n",
       "  <thead>\n",
       "    <tr style=\"text-align: right;\">\n",
       "      <th></th>\n",
       "      <th>id</th>\n",
       "      <th>listing_url</th>\n",
       "      <th>scrape_id</th>\n",
       "      <th>last_scraped</th>\n",
       "      <th>name</th>\n",
       "      <th>summary</th>\n",
       "      <th>space</th>\n",
       "      <th>description</th>\n",
       "      <th>experiences_offered</th>\n",
       "      <th>neighborhood_overview</th>\n",
       "      <th>...</th>\n",
       "      <th>review_scores_value</th>\n",
       "      <th>requires_license</th>\n",
       "      <th>license</th>\n",
       "      <th>jurisdiction_names</th>\n",
       "      <th>instant_bookable</th>\n",
       "      <th>cancellation_policy</th>\n",
       "      <th>require_guest_profile_picture</th>\n",
       "      <th>require_guest_phone_verification</th>\n",
       "      <th>calculated_host_listings_count</th>\n",
       "      <th>reviews_per_month</th>\n",
       "    </tr>\n",
       "  </thead>\n",
       "  <tbody>\n",
       "    <tr>\n",
       "      <td>0</td>\n",
       "      <td>241032</td>\n",
       "      <td>https://www.airbnb.com/rooms/241032</td>\n",
       "      <td>20160104002432</td>\n",
       "      <td>2016-01-04</td>\n",
       "      <td>Stylish Queen Anne Apartment</td>\n",
       "      <td>NaN</td>\n",
       "      <td>Make your self at home in this charming one-be...</td>\n",
       "      <td>Make your self at home in this charming one-be...</td>\n",
       "      <td>none</td>\n",
       "      <td>NaN</td>\n",
       "      <td>...</td>\n",
       "      <td>10.0</td>\n",
       "      <td>f</td>\n",
       "      <td>NaN</td>\n",
       "      <td>WASHINGTON</td>\n",
       "      <td>f</td>\n",
       "      <td>moderate</td>\n",
       "      <td>f</td>\n",
       "      <td>f</td>\n",
       "      <td>2</td>\n",
       "      <td>4.07</td>\n",
       "    </tr>\n",
       "    <tr>\n",
       "      <td>1</td>\n",
       "      <td>953595</td>\n",
       "      <td>https://www.airbnb.com/rooms/953595</td>\n",
       "      <td>20160104002432</td>\n",
       "      <td>2016-01-04</td>\n",
       "      <td>Bright &amp; Airy Queen Anne Apartment</td>\n",
       "      <td>Chemically sensitive? We've removed the irrita...</td>\n",
       "      <td>Beautiful, hypoallergenic apartment in an extr...</td>\n",
       "      <td>Chemically sensitive? We've removed the irrita...</td>\n",
       "      <td>none</td>\n",
       "      <td>Queen Anne is a wonderful, truly functional vi...</td>\n",
       "      <td>...</td>\n",
       "      <td>10.0</td>\n",
       "      <td>f</td>\n",
       "      <td>NaN</td>\n",
       "      <td>WASHINGTON</td>\n",
       "      <td>f</td>\n",
       "      <td>strict</td>\n",
       "      <td>t</td>\n",
       "      <td>t</td>\n",
       "      <td>6</td>\n",
       "      <td>1.48</td>\n",
       "    </tr>\n",
       "    <tr>\n",
       "      <td>2</td>\n",
       "      <td>3308979</td>\n",
       "      <td>https://www.airbnb.com/rooms/3308979</td>\n",
       "      <td>20160104002432</td>\n",
       "      <td>2016-01-04</td>\n",
       "      <td>New Modern House-Amazing water view</td>\n",
       "      <td>New modern house built in 2013.  Spectacular s...</td>\n",
       "      <td>Our house is modern, light and fresh with a wa...</td>\n",
       "      <td>New modern house built in 2013.  Spectacular s...</td>\n",
       "      <td>none</td>\n",
       "      <td>Upper Queen Anne is a charming neighborhood fu...</td>\n",
       "      <td>...</td>\n",
       "      <td>10.0</td>\n",
       "      <td>f</td>\n",
       "      <td>NaN</td>\n",
       "      <td>WASHINGTON</td>\n",
       "      <td>f</td>\n",
       "      <td>strict</td>\n",
       "      <td>f</td>\n",
       "      <td>f</td>\n",
       "      <td>2</td>\n",
       "      <td>1.15</td>\n",
       "    </tr>\n",
       "    <tr>\n",
       "      <td>3</td>\n",
       "      <td>7421966</td>\n",
       "      <td>https://www.airbnb.com/rooms/7421966</td>\n",
       "      <td>20160104002432</td>\n",
       "      <td>2016-01-04</td>\n",
       "      <td>Queen Anne Chateau</td>\n",
       "      <td>A charming apartment that sits atop Queen Anne...</td>\n",
       "      <td>NaN</td>\n",
       "      <td>A charming apartment that sits atop Queen Anne...</td>\n",
       "      <td>none</td>\n",
       "      <td>NaN</td>\n",
       "      <td>...</td>\n",
       "      <td>NaN</td>\n",
       "      <td>f</td>\n",
       "      <td>NaN</td>\n",
       "      <td>WASHINGTON</td>\n",
       "      <td>f</td>\n",
       "      <td>flexible</td>\n",
       "      <td>f</td>\n",
       "      <td>f</td>\n",
       "      <td>1</td>\n",
       "      <td>NaN</td>\n",
       "    </tr>\n",
       "    <tr>\n",
       "      <td>4</td>\n",
       "      <td>278830</td>\n",
       "      <td>https://www.airbnb.com/rooms/278830</td>\n",
       "      <td>20160104002432</td>\n",
       "      <td>2016-01-04</td>\n",
       "      <td>Charming craftsman 3 bdm house</td>\n",
       "      <td>Cozy family craftman house in beautiful neighb...</td>\n",
       "      <td>Cozy family craftman house in beautiful neighb...</td>\n",
       "      <td>Cozy family craftman house in beautiful neighb...</td>\n",
       "      <td>none</td>\n",
       "      <td>We are in the beautiful neighborhood of Queen ...</td>\n",
       "      <td>...</td>\n",
       "      <td>9.0</td>\n",
       "      <td>f</td>\n",
       "      <td>NaN</td>\n",
       "      <td>WASHINGTON</td>\n",
       "      <td>f</td>\n",
       "      <td>strict</td>\n",
       "      <td>f</td>\n",
       "      <td>f</td>\n",
       "      <td>1</td>\n",
       "      <td>0.89</td>\n",
       "    </tr>\n",
       "  </tbody>\n",
       "</table>\n",
       "<p>5 rows × 92 columns</p>\n",
       "</div>"
      ],
      "text/plain": [
       "        id                           listing_url       scrape_id last_scraped  \\\n",
       "0   241032   https://www.airbnb.com/rooms/241032  20160104002432   2016-01-04   \n",
       "1   953595   https://www.airbnb.com/rooms/953595  20160104002432   2016-01-04   \n",
       "2  3308979  https://www.airbnb.com/rooms/3308979  20160104002432   2016-01-04   \n",
       "3  7421966  https://www.airbnb.com/rooms/7421966  20160104002432   2016-01-04   \n",
       "4   278830   https://www.airbnb.com/rooms/278830  20160104002432   2016-01-04   \n",
       "\n",
       "                                  name  \\\n",
       "0         Stylish Queen Anne Apartment   \n",
       "1   Bright & Airy Queen Anne Apartment   \n",
       "2  New Modern House-Amazing water view   \n",
       "3                   Queen Anne Chateau   \n",
       "4       Charming craftsman 3 bdm house   \n",
       "\n",
       "                                             summary  \\\n",
       "0                                                NaN   \n",
       "1  Chemically sensitive? We've removed the irrita...   \n",
       "2  New modern house built in 2013.  Spectacular s...   \n",
       "3  A charming apartment that sits atop Queen Anne...   \n",
       "4  Cozy family craftman house in beautiful neighb...   \n",
       "\n",
       "                                               space  \\\n",
       "0  Make your self at home in this charming one-be...   \n",
       "1  Beautiful, hypoallergenic apartment in an extr...   \n",
       "2  Our house is modern, light and fresh with a wa...   \n",
       "3                                                NaN   \n",
       "4  Cozy family craftman house in beautiful neighb...   \n",
       "\n",
       "                                         description experiences_offered  \\\n",
       "0  Make your self at home in this charming one-be...                none   \n",
       "1  Chemically sensitive? We've removed the irrita...                none   \n",
       "2  New modern house built in 2013.  Spectacular s...                none   \n",
       "3  A charming apartment that sits atop Queen Anne...                none   \n",
       "4  Cozy family craftman house in beautiful neighb...                none   \n",
       "\n",
       "                               neighborhood_overview  ... review_scores_value  \\\n",
       "0                                                NaN  ...                10.0   \n",
       "1  Queen Anne is a wonderful, truly functional vi...  ...                10.0   \n",
       "2  Upper Queen Anne is a charming neighborhood fu...  ...                10.0   \n",
       "3                                                NaN  ...                 NaN   \n",
       "4  We are in the beautiful neighborhood of Queen ...  ...                 9.0   \n",
       "\n",
       "  requires_license license jurisdiction_names instant_bookable  \\\n",
       "0                f     NaN         WASHINGTON                f   \n",
       "1                f     NaN         WASHINGTON                f   \n",
       "2                f     NaN         WASHINGTON                f   \n",
       "3                f     NaN         WASHINGTON                f   \n",
       "4                f     NaN         WASHINGTON                f   \n",
       "\n",
       "  cancellation_policy  require_guest_profile_picture  \\\n",
       "0            moderate                              f   \n",
       "1              strict                              t   \n",
       "2              strict                              f   \n",
       "3            flexible                              f   \n",
       "4              strict                              f   \n",
       "\n",
       "  require_guest_phone_verification calculated_host_listings_count  \\\n",
       "0                                f                              2   \n",
       "1                                t                              6   \n",
       "2                                f                              2   \n",
       "3                                f                              1   \n",
       "4                                f                              1   \n",
       "\n",
       "  reviews_per_month  \n",
       "0              4.07  \n",
       "1              1.48  \n",
       "2              1.15  \n",
       "3               NaN  \n",
       "4              0.89  \n",
       "\n",
       "[5 rows x 92 columns]"
      ]
     },
     "execution_count": 98,
     "metadata": {},
     "output_type": "execute_result"
    }
   ],
   "source": [
    "            #Business Understanding\n",
    "#understanding the business model and came up with below questions to answer.\n",
    "#Q1:What are the most common amenities and most popular and least popular among them?\n",
    "#Q2: What attracts the guests most for renting a property in 30, 60, 90 booking days buckets?\n",
    "#Q3: What are the most influential features of the dataset to estimate the price of a listing  \n",
    "\n",
    "import numpy as np\n",
    "import pandas as pd\n",
    "import matplotlib.pyplot as plt\n",
    "from sklearn.linear_model import LinearRegression\n",
    "from sklearn.model_selection import train_test_split\n",
    "from sklearn.metrics import r2_score, mean_squared_error\n",
    "import seaborn as sns\n",
    "from collections import defaultdict\n",
    "from sklearn.feature_selection import SelectKBest\n",
    "from sklearn.feature_selection import f_regression\n",
    "import math\n",
    "\n",
    "%matplotlib inline\n",
    "\n",
    "# Data Understanding\n",
    "df_seattle = pd.read_csv('listings.csv')\n",
    "df_seattle.head()"
   ]
  },
  {
   "cell_type": "markdown",
   "metadata": {},
   "source": [
    "First I would like to know about the dimentions of each dataset."
   ]
  },
  {
   "cell_type": "code",
   "execution_count": 29,
   "metadata": {
    "scrolled": true
   },
   "outputs": [
    {
     "name": "stdout",
     "output_type": "stream",
     "text": [
      "(3818, 92)\n"
     ]
    }
   ],
   "source": [
    "#Below code gives information about the number of columns and number of rows.\n",
    "print(df_seattle.shape)"
   ]
  },
  {
   "cell_type": "markdown",
   "metadata": {},
   "source": [
    "The listings show each house's informations so I would like to know more about this dataset, starting with the column names and data types of each house."
   ]
  },
  {
   "cell_type": "code",
   "execution_count": 32,
   "metadata": {},
   "outputs": [
    {
     "data": {
      "text/plain": [
       "object     62\n",
       "float64    17\n",
       "int64      13\n",
       "dtype: int64"
      ]
     },
     "execution_count": 32,
     "metadata": {},
     "output_type": "execute_result"
    }
   ],
   "source": [
    "#Below code show the data types and the number of these data types in the dataset\n",
    "df_seattle.dtypes.value_counts()"
   ]
  },
  {
   "cell_type": "code",
   "execution_count": 33,
   "metadata": {
    "scrolled": true
   },
   "outputs": [
    {
     "data": {
      "text/html": [
       "<div>\n",
       "<style scoped>\n",
       "    .dataframe tbody tr th:only-of-type {\n",
       "        vertical-align: middle;\n",
       "    }\n",
       "\n",
       "    .dataframe tbody tr th {\n",
       "        vertical-align: top;\n",
       "    }\n",
       "\n",
       "    .dataframe thead th {\n",
       "        text-align: right;\n",
       "    }\n",
       "</style>\n",
       "<table border=\"1\" class=\"dataframe\">\n",
       "  <thead>\n",
       "    <tr style=\"text-align: right;\">\n",
       "      <th></th>\n",
       "      <th>id</th>\n",
       "      <th>scrape_id</th>\n",
       "      <th>host_id</th>\n",
       "      <th>host_listings_count</th>\n",
       "      <th>host_total_listings_count</th>\n",
       "      <th>latitude</th>\n",
       "      <th>longitude</th>\n",
       "      <th>accommodates</th>\n",
       "      <th>bathrooms</th>\n",
       "      <th>bedrooms</th>\n",
       "      <th>...</th>\n",
       "      <th>review_scores_rating</th>\n",
       "      <th>review_scores_accuracy</th>\n",
       "      <th>review_scores_cleanliness</th>\n",
       "      <th>review_scores_checkin</th>\n",
       "      <th>review_scores_communication</th>\n",
       "      <th>review_scores_location</th>\n",
       "      <th>review_scores_value</th>\n",
       "      <th>license</th>\n",
       "      <th>calculated_host_listings_count</th>\n",
       "      <th>reviews_per_month</th>\n",
       "    </tr>\n",
       "  </thead>\n",
       "  <tbody>\n",
       "    <tr>\n",
       "      <td>count</td>\n",
       "      <td>3.818000e+03</td>\n",
       "      <td>3.818000e+03</td>\n",
       "      <td>3.818000e+03</td>\n",
       "      <td>3816.000000</td>\n",
       "      <td>3816.000000</td>\n",
       "      <td>3818.000000</td>\n",
       "      <td>3818.000000</td>\n",
       "      <td>3818.000000</td>\n",
       "      <td>3802.000000</td>\n",
       "      <td>3812.000000</td>\n",
       "      <td>...</td>\n",
       "      <td>3171.000000</td>\n",
       "      <td>3160.000000</td>\n",
       "      <td>3165.000000</td>\n",
       "      <td>3160.000000</td>\n",
       "      <td>3167.000000</td>\n",
       "      <td>3163.000000</td>\n",
       "      <td>3162.000000</td>\n",
       "      <td>0.0</td>\n",
       "      <td>3818.000000</td>\n",
       "      <td>3191.000000</td>\n",
       "    </tr>\n",
       "    <tr>\n",
       "      <td>mean</td>\n",
       "      <td>5.550111e+06</td>\n",
       "      <td>2.016010e+13</td>\n",
       "      <td>1.578556e+07</td>\n",
       "      <td>7.157757</td>\n",
       "      <td>7.157757</td>\n",
       "      <td>47.628961</td>\n",
       "      <td>-122.333103</td>\n",
       "      <td>3.349398</td>\n",
       "      <td>1.259469</td>\n",
       "      <td>1.307712</td>\n",
       "      <td>...</td>\n",
       "      <td>94.539262</td>\n",
       "      <td>9.636392</td>\n",
       "      <td>9.556398</td>\n",
       "      <td>9.786709</td>\n",
       "      <td>9.809599</td>\n",
       "      <td>9.608916</td>\n",
       "      <td>9.452245</td>\n",
       "      <td>NaN</td>\n",
       "      <td>2.946307</td>\n",
       "      <td>2.078919</td>\n",
       "    </tr>\n",
       "    <tr>\n",
       "      <td>std</td>\n",
       "      <td>2.962660e+06</td>\n",
       "      <td>0.000000e+00</td>\n",
       "      <td>1.458382e+07</td>\n",
       "      <td>28.628149</td>\n",
       "      <td>28.628149</td>\n",
       "      <td>0.043052</td>\n",
       "      <td>0.031745</td>\n",
       "      <td>1.977599</td>\n",
       "      <td>0.590369</td>\n",
       "      <td>0.883395</td>\n",
       "      <td>...</td>\n",
       "      <td>6.606083</td>\n",
       "      <td>0.698031</td>\n",
       "      <td>0.797274</td>\n",
       "      <td>0.595499</td>\n",
       "      <td>0.568211</td>\n",
       "      <td>0.629053</td>\n",
       "      <td>0.750259</td>\n",
       "      <td>NaN</td>\n",
       "      <td>5.893029</td>\n",
       "      <td>1.822348</td>\n",
       "    </tr>\n",
       "    <tr>\n",
       "      <td>min</td>\n",
       "      <td>3.335000e+03</td>\n",
       "      <td>2.016010e+13</td>\n",
       "      <td>4.193000e+03</td>\n",
       "      <td>1.000000</td>\n",
       "      <td>1.000000</td>\n",
       "      <td>47.505088</td>\n",
       "      <td>-122.417219</td>\n",
       "      <td>1.000000</td>\n",
       "      <td>0.000000</td>\n",
       "      <td>0.000000</td>\n",
       "      <td>...</td>\n",
       "      <td>20.000000</td>\n",
       "      <td>2.000000</td>\n",
       "      <td>3.000000</td>\n",
       "      <td>2.000000</td>\n",
       "      <td>2.000000</td>\n",
       "      <td>4.000000</td>\n",
       "      <td>2.000000</td>\n",
       "      <td>NaN</td>\n",
       "      <td>1.000000</td>\n",
       "      <td>0.020000</td>\n",
       "    </tr>\n",
       "    <tr>\n",
       "      <td>25%</td>\n",
       "      <td>3.258256e+06</td>\n",
       "      <td>2.016010e+13</td>\n",
       "      <td>3.275204e+06</td>\n",
       "      <td>1.000000</td>\n",
       "      <td>1.000000</td>\n",
       "      <td>47.609418</td>\n",
       "      <td>-122.354320</td>\n",
       "      <td>2.000000</td>\n",
       "      <td>1.000000</td>\n",
       "      <td>1.000000</td>\n",
       "      <td>...</td>\n",
       "      <td>93.000000</td>\n",
       "      <td>9.000000</td>\n",
       "      <td>9.000000</td>\n",
       "      <td>10.000000</td>\n",
       "      <td>10.000000</td>\n",
       "      <td>9.000000</td>\n",
       "      <td>9.000000</td>\n",
       "      <td>NaN</td>\n",
       "      <td>1.000000</td>\n",
       "      <td>0.695000</td>\n",
       "    </tr>\n",
       "    <tr>\n",
       "      <td>50%</td>\n",
       "      <td>6.118244e+06</td>\n",
       "      <td>2.016010e+13</td>\n",
       "      <td>1.055814e+07</td>\n",
       "      <td>1.000000</td>\n",
       "      <td>1.000000</td>\n",
       "      <td>47.623601</td>\n",
       "      <td>-122.328874</td>\n",
       "      <td>3.000000</td>\n",
       "      <td>1.000000</td>\n",
       "      <td>1.000000</td>\n",
       "      <td>...</td>\n",
       "      <td>96.000000</td>\n",
       "      <td>10.000000</td>\n",
       "      <td>10.000000</td>\n",
       "      <td>10.000000</td>\n",
       "      <td>10.000000</td>\n",
       "      <td>10.000000</td>\n",
       "      <td>10.000000</td>\n",
       "      <td>NaN</td>\n",
       "      <td>1.000000</td>\n",
       "      <td>1.540000</td>\n",
       "    </tr>\n",
       "    <tr>\n",
       "      <td>75%</td>\n",
       "      <td>8.035127e+06</td>\n",
       "      <td>2.016010e+13</td>\n",
       "      <td>2.590309e+07</td>\n",
       "      <td>3.000000</td>\n",
       "      <td>3.000000</td>\n",
       "      <td>47.662694</td>\n",
       "      <td>-122.310800</td>\n",
       "      <td>4.000000</td>\n",
       "      <td>1.000000</td>\n",
       "      <td>2.000000</td>\n",
       "      <td>...</td>\n",
       "      <td>99.000000</td>\n",
       "      <td>10.000000</td>\n",
       "      <td>10.000000</td>\n",
       "      <td>10.000000</td>\n",
       "      <td>10.000000</td>\n",
       "      <td>10.000000</td>\n",
       "      <td>10.000000</td>\n",
       "      <td>NaN</td>\n",
       "      <td>2.000000</td>\n",
       "      <td>3.000000</td>\n",
       "    </tr>\n",
       "    <tr>\n",
       "      <td>max</td>\n",
       "      <td>1.034016e+07</td>\n",
       "      <td>2.016010e+13</td>\n",
       "      <td>5.320861e+07</td>\n",
       "      <td>502.000000</td>\n",
       "      <td>502.000000</td>\n",
       "      <td>47.733358</td>\n",
       "      <td>-122.240607</td>\n",
       "      <td>16.000000</td>\n",
       "      <td>8.000000</td>\n",
       "      <td>7.000000</td>\n",
       "      <td>...</td>\n",
       "      <td>100.000000</td>\n",
       "      <td>10.000000</td>\n",
       "      <td>10.000000</td>\n",
       "      <td>10.000000</td>\n",
       "      <td>10.000000</td>\n",
       "      <td>10.000000</td>\n",
       "      <td>10.000000</td>\n",
       "      <td>NaN</td>\n",
       "      <td>37.000000</td>\n",
       "      <td>12.150000</td>\n",
       "    </tr>\n",
       "  </tbody>\n",
       "</table>\n",
       "<p>8 rows × 30 columns</p>\n",
       "</div>"
      ],
      "text/plain": [
       "                 id     scrape_id       host_id  host_listings_count  \\\n",
       "count  3.818000e+03  3.818000e+03  3.818000e+03          3816.000000   \n",
       "mean   5.550111e+06  2.016010e+13  1.578556e+07             7.157757   \n",
       "std    2.962660e+06  0.000000e+00  1.458382e+07            28.628149   \n",
       "min    3.335000e+03  2.016010e+13  4.193000e+03             1.000000   \n",
       "25%    3.258256e+06  2.016010e+13  3.275204e+06             1.000000   \n",
       "50%    6.118244e+06  2.016010e+13  1.055814e+07             1.000000   \n",
       "75%    8.035127e+06  2.016010e+13  2.590309e+07             3.000000   \n",
       "max    1.034016e+07  2.016010e+13  5.320861e+07           502.000000   \n",
       "\n",
       "       host_total_listings_count     latitude    longitude  accommodates  \\\n",
       "count                3816.000000  3818.000000  3818.000000   3818.000000   \n",
       "mean                    7.157757    47.628961  -122.333103      3.349398   \n",
       "std                    28.628149     0.043052     0.031745      1.977599   \n",
       "min                     1.000000    47.505088  -122.417219      1.000000   \n",
       "25%                     1.000000    47.609418  -122.354320      2.000000   \n",
       "50%                     1.000000    47.623601  -122.328874      3.000000   \n",
       "75%                     3.000000    47.662694  -122.310800      4.000000   \n",
       "max                   502.000000    47.733358  -122.240607     16.000000   \n",
       "\n",
       "         bathrooms     bedrooms  ...  review_scores_rating  \\\n",
       "count  3802.000000  3812.000000  ...           3171.000000   \n",
       "mean      1.259469     1.307712  ...             94.539262   \n",
       "std       0.590369     0.883395  ...              6.606083   \n",
       "min       0.000000     0.000000  ...             20.000000   \n",
       "25%       1.000000     1.000000  ...             93.000000   \n",
       "50%       1.000000     1.000000  ...             96.000000   \n",
       "75%       1.000000     2.000000  ...             99.000000   \n",
       "max       8.000000     7.000000  ...            100.000000   \n",
       "\n",
       "       review_scores_accuracy  review_scores_cleanliness  \\\n",
       "count             3160.000000                3165.000000   \n",
       "mean                 9.636392                   9.556398   \n",
       "std                  0.698031                   0.797274   \n",
       "min                  2.000000                   3.000000   \n",
       "25%                  9.000000                   9.000000   \n",
       "50%                 10.000000                  10.000000   \n",
       "75%                 10.000000                  10.000000   \n",
       "max                 10.000000                  10.000000   \n",
       "\n",
       "       review_scores_checkin  review_scores_communication  \\\n",
       "count            3160.000000                  3167.000000   \n",
       "mean                9.786709                     9.809599   \n",
       "std                 0.595499                     0.568211   \n",
       "min                 2.000000                     2.000000   \n",
       "25%                10.000000                    10.000000   \n",
       "50%                10.000000                    10.000000   \n",
       "75%                10.000000                    10.000000   \n",
       "max                10.000000                    10.000000   \n",
       "\n",
       "       review_scores_location  review_scores_value  license  \\\n",
       "count             3163.000000          3162.000000      0.0   \n",
       "mean                 9.608916             9.452245      NaN   \n",
       "std                  0.629053             0.750259      NaN   \n",
       "min                  4.000000             2.000000      NaN   \n",
       "25%                  9.000000             9.000000      NaN   \n",
       "50%                 10.000000            10.000000      NaN   \n",
       "75%                 10.000000            10.000000      NaN   \n",
       "max                 10.000000            10.000000      NaN   \n",
       "\n",
       "       calculated_host_listings_count  reviews_per_month  \n",
       "count                     3818.000000        3191.000000  \n",
       "mean                         2.946307           2.078919  \n",
       "std                          5.893029           1.822348  \n",
       "min                          1.000000           0.020000  \n",
       "25%                          1.000000           0.695000  \n",
       "50%                          1.000000           1.540000  \n",
       "75%                          2.000000           3.000000  \n",
       "max                         37.000000          12.150000  \n",
       "\n",
       "[8 rows x 30 columns]"
      ]
     },
     "execution_count": 33,
     "metadata": {},
     "output_type": "execute_result"
    }
   ],
   "source": [
    "#Below code describe the data like what being missing ot not\n",
    "df_seattle.describe()"
   ]
  },
  {
   "cell_type": "code",
   "execution_count": 34,
   "metadata": {},
   "outputs": [
    {
     "data": {
      "text/plain": [
       "license             3818\n",
       "square_feet         3721\n",
       "monthly_price       2301\n",
       "security_deposit    1952\n",
       "weekly_price        1809\n",
       "                    ... \n",
       "accommodates           0\n",
       "bed_type               0\n",
       "amenities              0\n",
       "price                  0\n",
       "id                     0\n",
       "Length: 92, dtype: int64"
      ]
     },
     "execution_count": 34,
     "metadata": {},
     "output_type": "execute_result"
    }
   ],
   "source": [
    "#Below code shows the number of missing values in each column in descending order\n",
    "df_seattle.isnull().sum().sort_values(ascending=False)"
   ]
  },
  {
   "cell_type": "code",
   "execution_count": 35,
   "metadata": {},
   "outputs": [
    {
     "data": {
      "text/plain": [
       "id             3818\n",
       "listing_url    3818\n",
       "picture_url    3818\n",
       "latitude       3818\n",
       "longitude      3818\n",
       "dtype: int64"
      ]
     },
     "execution_count": 35,
     "metadata": {},
     "output_type": "execute_result"
    }
   ],
   "source": [
    "#Below code shows the columns names that do not have any missing values and all values are unique (different from each other) \n",
    "df_seattle.nunique()[df_seattle.nunique()==len(df_seattle)]"
   ]
  },
  {
   "cell_type": "code",
   "execution_count": 36,
   "metadata": {},
   "outputs": [
    {
     "data": {
      "text/plain": [
       "name              3792\n",
       "description       3742\n",
       "medium_url        3498\n",
       "thumbnail_url     3498\n",
       "xl_picture_url    3498\n",
       "                  ... \n",
       "country_code         1\n",
       "market               1\n",
       "last_scraped         1\n",
       "scrape_id            1\n",
       "license              0\n",
       "Length: 87, dtype: int64"
      ]
     },
     "execution_count": 36,
     "metadata": {},
     "output_type": "execute_result"
    }
   ],
   "source": [
    "#Below code shows the columns names that have some missing values and number of unique values in that column\n",
    "df_seattle.nunique()[df_seattle.nunique() != len(df_seattle)].sort_values(ascending=False)"
   ]
  },
  {
   "cell_type": "markdown",
   "metadata": {},
   "source": [
    "EValuation and Visulaization is complete in below step with detaliled understanding of problem.\n",
    "Q1\n",
    " What are the most common amenities and most popular and least popular among them?"
   ]
  },
  {
   "cell_type": "markdown",
   "metadata": {},
   "source": [
    "The code in the below cell creates the list of amenties available."
   ]
  },
  {
   "cell_type": "code",
   "execution_count": 37,
   "metadata": {},
   "outputs": [],
   "source": [
    "#I first create an empty list to fill with amenities available.\n",
    "list_of_amenities = []\n",
    "\n",
    "#I create a for loop to append all amenities values from the dataset into the list.\n",
    "for i in range(len(df_seattle)):\n",
    "    list_of_amenities.append(df_seattle['amenities'][i])\n",
    "\n",
    "    \n",
    "#In the dataset, every listing has a list of amenities, so in order to take unique amenities from the whole dataset\n",
    "#I use the below code. I use the \"set\" function to make the amenities unique and than convert the set into a list\n",
    "#to remain consistency of data type.\n",
    "list_of_amenities = list((s.strip('\\'\\{\\}') for s in list_of_amenities))\n",
    "list_of_amenities_string = \",\".join(list_of_amenities)\n",
    "list_of_amenities = list(set(list_of_amenities_string.split(\",\")))\n",
    "\n",
    "#After execution the above lines in this cell, we have an empty string in the list of amenties.\n",
    "#We have to remove that one from the list.\n",
    "without_empty_list_of_amenities = []\n",
    "for string in list_of_amenities:\n",
    "    if (string != \"\"):\n",
    "        without_empty_list_of_amenities.append(string)\n",
    "list_of_amenities = without_empty_list_of_amenities"
   ]
  },
  {
   "cell_type": "markdown",
   "metadata": {},
   "source": [
    "The code in the below cell is taken from one of the Udacity lecture notes (named: HowToBreakIntoTheField.py).\n",
    "This function is used to count the number of listings that contains each amenity in the amenities list."
   ]
  },
  {
   "cell_type": "code",
   "execution_count": 38,
   "metadata": {},
   "outputs": [],
   "source": [
    "def total_count(df, col1, col2, look_for):\n",
    "    '''\n",
    "    INPUT:\n",
    "    df - the pandas dataframe you want to search\n",
    "    col1 - the column name you want to look through\n",
    "    col2 - the column you want to count values from\n",
    "    look_for - a list of strings you want to search for in each row of df[col]\n",
    "\n",
    "    OUTPUT:\n",
    "    new_df - a dataframe of each look_for with the count of how often it shows up\n",
    "    '''\n",
    "    new_df = defaultdict(int)\n",
    "    #loop through list of amenities\n",
    "    for val in look_for:\n",
    "        #loop through rows\n",
    "        for idx in range(df.shape[0]):\n",
    "            #if the amenity is in the row add 1\n",
    "            if val in df[col1][idx]:\n",
    "                new_df[val] += int(df[col2][idx])\n",
    "    new_df = pd.DataFrame(pd.Series(new_df)).reset_index()\n",
    "    new_df.columns = [col1, col2]\n",
    "    new_df.sort_values('count', ascending=False, inplace=True)\n",
    "    return new_df"
   ]
  },
  {
   "cell_type": "code",
   "execution_count": 10,
   "metadata": {
    "scrolled": true
   },
   "outputs": [
    {
     "data": {
      "image/png": "[encoded data removed]",
      "text/plain": [
       "<Figure size 432x288 with 1 Axes>"
      ]
     },
     "metadata": {
      "needs_background": "light"
     },
     "output_type": "display_data"
    },
    {
     "data": {
      "image/png": "[encoded data removed]",
      "text/plain": [
       "<Figure size 432x288 with 1 Axes>"
      ]
     },
     "metadata": {
      "needs_background": "light"
     },
     "output_type": "display_data"
    }
   ],
   "source": [
    "#I create a dataframe named study, which has lists of amenities as one column and the count of these amenities lists\n",
    "#in our main (df_lis)\n",
    "study = df_seattle['amenities'].value_counts().reset_index()\n",
    "study.rename(columns={'index': 'amenities', 'amenities': 'count'}, inplace=True)\n",
    "\n",
    "#Here with the total_count function, I count the number of listings that contains each amenity in the amenities list.\n",
    "study_df = total_count(study, 'amenities', 'count', list_of_amenities)\n",
    "study_df.set_index('amenities', inplace=True)\n",
    "\n",
    "#Here I create a bar chart to show the percentage of each amenity from the most common to the least common.\n",
    "(study_df/len(df_seattle))[:20].plot(kind='bar', legend=None);\n",
    "plt.title('Top 20 Most Common Amenities in The Dataset');\n",
    "plt.ylabel('How many percent of listings has the amenity')\n",
    "plt.show()\n",
    "\n",
    "(study_df/len(df_seattle))[:-20].plot(kind='bar', legend=None);\n",
    "plt.title('Bottom 20 Most Common Amenities in The Dataset');\n",
    "plt.ylabel('How many percent of listings has the amenity')\n",
    "plt.show()\n"
   ]
  },
  {
   "cell_type": "markdown",
   "metadata": {},
   "source": [
    "EValuation and Visulaization is complete in below step with detaliled understanding of problem.\n",
    "Q2\n",
    "\n",
    "When I deepdive into the dataset different columns, I see some important features of listigs. Some of these features have separate columns (for example property_type or room_type) and some of these features are in **amenities** column. What I would like to know about this dataset is, \"What attracts the guests most for renting a property?\". I will try to answer this question below.\n",
    "\n",
    "In order to understand the popularity of a listing I will use the following mentioned column :\n",
    "**Availability_30**, \n",
    "**Availability_60** \n",
    "**Availability_90** \n",
    "\n",
    "It will give 2 Aspects:\n",
    "\n",
    "1.It helps us to differentiate: Which Availibility performed better?\n",
    "2.It gives an idea about:  What is the booking ratio (or popularity) of the property?"
   ]
  },
  {
   "cell_type": "code",
   "execution_count": 39,
   "metadata": {},
   "outputs": [
    {
     "data": {
      "text/plain": [
       "0"
      ]
     },
     "execution_count": 39,
     "metadata": {},
     "output_type": "execute_result"
    }
   ],
   "source": [
    "#Check if availability_30 column has an missing values. I will use this columns for booking_ratio_30.\n",
    "df_seattle['availability_30'].isnull().sum()\n"
   ]
  },
  {
   "cell_type": "code",
   "execution_count": 40,
   "metadata": {},
   "outputs": [
    {
     "data": {
      "text/plain": [
       "0"
      ]
     },
     "execution_count": 40,
     "metadata": {},
     "output_type": "execute_result"
    }
   ],
   "source": [
    "#Check if availability_60 column has an missing values. I will use this columns for booking_ratio_30.\n",
    "df_seattle['availability_60'].isnull().sum()\n"
   ]
  },
  {
   "cell_type": "code",
   "execution_count": 41,
   "metadata": {},
   "outputs": [
    {
     "data": {
      "text/plain": [
       "0"
      ]
     },
     "execution_count": 41,
     "metadata": {},
     "output_type": "execute_result"
    }
   ],
   "source": [
    "#Check if availability_90 column has an missing values. I will use this columns for booking_ratio_30.\n",
    "\n",
    "df_seattle['availability_90'].isnull().sum()"
   ]
  },
  {
   "cell_type": "code",
   "execution_count": 42,
   "metadata": {},
   "outputs": [],
   "source": [
    "#Below code, creates the column 'booking_ratio_30' which gives info about the booking percentage in the next 30 days\n",
    "df_seattle['booking_ratio_30'] = 1 - (df_seattle['availability_30']/30)"
   ]
  },
  {
   "cell_type": "code",
   "execution_count": 43,
   "metadata": {},
   "outputs": [],
   "source": [
    "df_seattle['booking_ratio_60'] = 1 - (df_seattle['availability_60']/60)\n"
   ]
  },
  {
   "cell_type": "code",
   "execution_count": 44,
   "metadata": {},
   "outputs": [],
   "source": [
    "df_seattle['booking_ratio_90'] = 1 - (df_seattle['availability_90']/90)"
   ]
  },
  {
   "cell_type": "code",
   "execution_count": 45,
   "metadata": {},
   "outputs": [
    {
     "data": {
      "text/plain": [
       "0    0.533333\n",
       "1    0.566667\n",
       "2    0.966667\n",
       "3    1.000000\n",
       "4    0.000000\n",
       "Name: booking_ratio_30, dtype: float64"
      ]
     },
     "execution_count": 45,
     "metadata": {},
     "output_type": "execute_result"
    }
   ],
   "source": [
    "#Show the first five rows of the new column\n",
    "df_seattle['booking_ratio_30'].head()"
   ]
  },
  {
   "cell_type": "code",
   "execution_count": 46,
   "metadata": {},
   "outputs": [
    {
     "data": {
      "text/plain": [
       "0    0.316667\n",
       "1    0.783333\n",
       "2    0.900000\n",
       "3    1.000000\n",
       "4    0.000000\n",
       "Name: booking_ratio_60, dtype: float64"
      ]
     },
     "execution_count": 46,
     "metadata": {},
     "output_type": "execute_result"
    }
   ],
   "source": [
    "df_seattle['booking_ratio_60'].head()"
   ]
  },
  {
   "cell_type": "code",
   "execution_count": 47,
   "metadata": {},
   "outputs": [
    {
     "data": {
      "text/plain": [
       "0    0.211111\n",
       "1    0.822222\n",
       "2    0.811111\n",
       "3    1.000000\n",
       "4    0.000000\n",
       "Name: booking_ratio_90, dtype: float64"
      ]
     },
     "execution_count": 47,
     "metadata": {},
     "output_type": "execute_result"
    }
   ],
   "source": [
    "df_seattle['booking_ratio_90'].head()"
   ]
  },
  {
   "cell_type": "markdown",
   "metadata": {},
   "source": [
    "Above, I found a percantage on booking ratio of each listing. Now I will have to make seperate columns for each of the features that I will investige whether they attract the guests for choosing the listing to rent.\n",
    "\n",
    "First feature I would like to investigate is **room_type**."
   ]
  },
  {
   "cell_type": "code",
   "execution_count": 48,
   "metadata": {},
   "outputs": [
    {
     "data": {
      "text/plain": [
       "0"
      ]
     },
     "execution_count": 48,
     "metadata": {},
     "output_type": "execute_result"
    }
   ],
   "source": [
    "#Below code checks if the 'room_type' column has any missing values.\n",
    "#Since the result of the code is zero, the column does not have any missing values. \n",
    "df_seattle['room_type'].isnull().sum()"
   ]
  },
  {
   "cell_type": "code",
   "execution_count": 50,
   "metadata": {},
   "outputs": [
    {
     "data": {
      "text/plain": [
       "Entire home/apt    2541\n",
       "Private room       1160\n",
       "Shared room         117\n",
       "Name: room_type, dtype: int64"
      ]
     },
     "execution_count": 50,
     "metadata": {},
     "output_type": "execute_result"
    }
   ],
   "source": [
    "#Below code shows the number of each unique values in the 'room_type' column.\n",
    "df_seattle['room_type'].value_counts().sort_values(ascending=False)"
   ]
  },
  {
   "cell_type": "markdown",
   "metadata": {},
   "source": [
    "Above, I found that there is not any missing values in the room_type column and also there are three different types of rooms. How about these different rooms booking ratios?"
   ]
  },
  {
   "cell_type": "code",
   "execution_count": 51,
   "metadata": {},
   "outputs": [
    {
     "data": {
      "text/plain": [
       "room_type\n",
       "Entire home/apt    0.483353\n",
       "Private room       0.362759\n",
       "Shared room        0.279202\n",
       "Name: booking_ratio_30, dtype: float64"
      ]
     },
     "execution_count": 51,
     "metadata": {},
     "output_type": "execute_result"
    }
   ],
   "source": [
    "#Below code shows information about booking ratios of different room types for next 30 days\n",
    "booking_30=df_seattle.groupby(['room_type'])['booking_ratio_30'].mean().sort_values(ascending=False)\n",
    "booking_30.head()"
   ]
  },
  {
   "cell_type": "code",
   "execution_count": 53,
   "metadata": {},
   "outputs": [
    {
     "data": {
      "text/plain": [
       "room_type\n",
       "Entire home/apt    0.430336\n",
       "Private room       0.307284\n",
       "Shared room        0.217236\n",
       "Name: booking_ratio_60, dtype: float64"
      ]
     },
     "execution_count": 53,
     "metadata": {},
     "output_type": "execute_result"
    }
   ],
   "source": [
    "#Below code shows information about booking ratios of different room types for next 60 days\n",
    "booking_60=df_seattle.groupby(['room_type'])['booking_ratio_60'].mean().sort_values(ascending=False)\n",
    "booking_60.head()"
   ]
  },
  {
   "cell_type": "code",
   "execution_count": 54,
   "metadata": {},
   "outputs": [
    {
     "data": {
      "text/plain": [
       "room_type\n",
       "Entire home/apt    0.398553\n",
       "Private room       0.274540\n",
       "Shared room        0.195062\n",
       "Name: booking_ratio_90, dtype: float64"
      ]
     },
     "execution_count": 54,
     "metadata": {},
     "output_type": "execute_result"
    }
   ],
   "source": [
    "#Below code shows information about booking ratios of different room types for next 90 days\n",
    "booking_90= df_seattle.groupby(['room_type'])['booking_ratio_90'].mean().sort_values(ascending=False)\n",
    "booking_90.head()"
   ]
  },
  {
   "cell_type": "code",
   "execution_count": 25,
   "metadata": {},
   "outputs": [
    {
     "data": {
      "image/png": "[encoded data removed]",
      "text/plain": [
       "<Figure size 432x288 with 1 Axes>"
      ]
     },
     "metadata": {
      "needs_background": "light"
     },
     "output_type": "display_data"
    }
   ],
   "source": [
    "#Below code plots a Trend Line chart to visualize booking ratios of different room types for next 30, 60, 90 days\n",
    "\n",
    "plt.plot(booking_30, Label='Booking 30 days')\n",
    "plt.plot(booking_60, Label= \"Booking 60 days\")\n",
    "plt.plot(booking_90, label= \"Booking 90 days\" )\n",
    "plt.title('Booking Ratio Analysis for different Days bucket on basis of  room_type')\n",
    "plt.legend()\n",
    "plt.show()"
   ]
  },
  {
   "cell_type": "code",
   "execution_count": 57,
   "metadata": {},
   "outputs": [],
   "source": [
    "#The above trend line answers both the question that we were looking answer above:\n",
    "\n",
    "#1.It helps us to differentiate: Which Availibility performed better? Answer to this question is 30 day bucket\n",
    "#2. in seconf question we looked only room feature and still to dig on further features for coming into conclusion."
   ]
  },
  {
   "cell_type": "code",
   "execution_count": 58,
   "metadata": {},
   "outputs": [
    {
     "data": {
      "text/plain": [
       "House              1733\n",
       "Apartment          1708\n",
       "Townhouse           118\n",
       "Condominium          91\n",
       "Loft                 40\n",
       "Bed & Breakfast      37\n",
       "Other                22\n",
       "Cabin                21\n",
       "Camper/RV            13\n",
       "Bungalow             13\n",
       "Boat                  8\n",
       "Tent                  5\n",
       "Treehouse             3\n",
       "Chalet                2\n",
       "Dorm                  2\n",
       "Yurt                  1\n",
       "Name: property_type, dtype: int64"
      ]
     },
     "execution_count": 58,
     "metadata": {},
     "output_type": "execute_result"
    }
   ],
   "source": [
    "#Below code shows the unique property types and count of each one\n",
    "df_seattle['property_type'].value_counts().sort_values(ascending=False)"
   ]
  },
  {
   "cell_type": "code",
   "execution_count": 59,
   "metadata": {},
   "outputs": [
    {
     "data": {
      "text/plain": [
       "property_type\n",
       "Tent               0.800000\n",
       "Dorm               0.666667\n",
       "Treehouse          0.666667\n",
       "Chalet             0.500000\n",
       "Cabin              0.469841\n",
       "Apartment          0.456011\n",
       "Condominium        0.454579\n",
       "Loft               0.435000\n",
       "House              0.432583\n",
       "Townhouse          0.413559\n",
       "Camper/RV          0.410256\n",
       "Other              0.301515\n",
       "Bed & Breakfast    0.257658\n",
       "Boat               0.250000\n",
       "Bungalow           0.215385\n",
       "Yurt               0.066667\n",
       "Name: booking_ratio_30, dtype: float64"
      ]
     },
     "execution_count": 59,
     "metadata": {},
     "output_type": "execute_result"
    }
   ],
   "source": [
    "#Below code shows information about booking ratios of different property types for next 30 days\n",
    "df_seattle.groupby(['property_type'])['booking_ratio_30'].mean().sort_values(ascending=False)"
   ]
  },
  {
   "cell_type": "code",
   "execution_count": 60,
   "metadata": {},
   "outputs": [
    {
     "data": {
      "text/plain": [
       "property_type\n",
       "Tent               0.800000\n",
       "Treehouse          0.666667\n",
       "Dorm               0.583333\n",
       "Chalet             0.500000\n",
       "Condominium        0.418498\n",
       "Cabin              0.401587\n",
       "Apartment          0.401405\n",
       "House              0.376015\n",
       "Camper/RV          0.366667\n",
       "Townhouse          0.362853\n",
       "Loft               0.352083\n",
       "Other              0.303788\n",
       "Bed & Breakfast    0.270721\n",
       "Boat               0.195833\n",
       "Bungalow           0.194872\n",
       "Yurt               0.033333\n",
       "Name: booking_ratio_60, dtype: float64"
      ]
     },
     "execution_count": 60,
     "metadata": {},
     "output_type": "execute_result"
    }
   ],
   "source": [
    "#Below code shows information about booking ratios of different property types for next 60 days\n",
    "df_seattle.groupby(['property_type'])['booking_ratio_60'].mean().sort_values(ascending=False)"
   ]
  },
  {
   "cell_type": "code",
   "execution_count": 61,
   "metadata": {},
   "outputs": [
    {
     "data": {
      "text/plain": [
       "property_type\n",
       "Tent               0.800000\n",
       "Treehouse          0.666667\n",
       "Dorm               0.583333\n",
       "Condominium        0.399512\n",
       "Cabin              0.371958\n",
       "Apartment          0.369516\n",
       "Camper/RV          0.368376\n",
       "Chalet             0.355556\n",
       "House              0.343092\n",
       "Townhouse          0.340301\n",
       "Loft               0.306389\n",
       "Bed & Breakfast    0.258258\n",
       "Other              0.235354\n",
       "Bungalow           0.176068\n",
       "Boat               0.173611\n",
       "Yurt               0.022222\n",
       "Name: booking_ratio_90, dtype: float64"
      ]
     },
     "execution_count": 61,
     "metadata": {},
     "output_type": "execute_result"
    }
   ],
   "source": [
    "#Below code shows information about booking ratios of different property types for next 90 days\n",
    "df_seattle.groupby(['property_type'])['booking_ratio_90'].mean().sort_values(ascending=False)"
   ]
  },
  {
   "cell_type": "code",
   "execution_count": 62,
   "metadata": {},
   "outputs": [
    {
     "data": {
      "image/png": "[encoded data removed]",
      "text/plain": [
       "<Figure size 432x288 with 1 Axes>"
      ]
     },
     "metadata": {
      "needs_background": "light"
     },
     "output_type": "display_data"
    }
   ],
   "source": [
    "#Below code plots the booking ratios of different property types for next 30 days\n",
    "(df_seattle.groupby(['property_type'])['booking_ratio_30'].mean().sort_values(ascending=False)).plot(kind='bar', legend=None)\n",
    "plt.title('Booking Ratio for Next 30 Days Depending On property_type');\n",
    "plt.show()"
   ]
  },
  {
   "cell_type": "markdown",
   "metadata": {},
   "source": [
    "How about the **amenities** and their effect for attracting the guest? In order to answer the first question I had created the list of amenities which will be useful here to answer the second question."
   ]
  },
  {
   "cell_type": "code",
   "execution_count": 63,
   "metadata": {
    "scrolled": true
   },
   "outputs": [
    {
     "data": {
      "text/plain": [
       "0"
      ]
     },
     "execution_count": 63,
     "metadata": {},
     "output_type": "execute_result"
    }
   ],
   "source": [
    "#Check if amenities column has an missing values.\n",
    "df_seattle['amenities'].isnull().sum()"
   ]
  },
  {
   "cell_type": "code",
   "execution_count": 64,
   "metadata": {},
   "outputs": [],
   "source": [
    "#Here I create new columns for each of the amenities and fill them all with zeros.\n",
    "for i in range(len(list_of_amenities)):\n",
    "    df_seattle[list_of_amenities[i]] = 0"
   ]
  },
  {
   "cell_type": "markdown",
   "metadata": {},
   "source": [
    "*\"Below cell, takes about **3 minutes** to work on my machine.\"*"
   ]
  },
  {
   "cell_type": "code",
   "execution_count": 65,
   "metadata": {},
   "outputs": [],
   "source": [
    "#Here I fill the new amenities columns, by first checking if the listing has that amenity.\n",
    "#If the listing has that amenity I fill it with 1 and if it does not have it, I fill it with zero.\n",
    "for i in range(len(list_of_amenities)):\n",
    "    for t in range(len(df_seattle)):\n",
    "        if list_of_amenities[i] in df_seattle['amenities'][t]:\n",
    "            df_seattle.loc[t , list_of_amenities[i]] = 1\n",
    "        else:\n",
    "            df_seattle.loc[t , list_of_amenities[i]] = 0"
   ]
  },
  {
   "cell_type": "code",
   "execution_count": 66,
   "metadata": {},
   "outputs": [],
   "source": [
    "#Here I create a dataframe that will contain information about booking ratio of listings that contain the amenity.\n",
    "amenities_importance = pd.DataFrame(index=range(0,len(list_of_amenities)), columns = [\"Amenity_Name\", \"Booking Ratio for HAVING the Amenity\", \"Booking Ratio for NOT HAVING the Amenity\", \"Booking Difference\"])\n",
    "\n",
    "\n",
    "#In the below for loop, I write the name of the amenity, calculate the booking ratio of listings that contain the amenitiy\n",
    "#and calculate the booking ratio of listings that do not contain the amenitiy\n",
    "#and calculate the difference between booking ratios for each amenity. \n",
    "for i in range(len(list_of_amenities)):\n",
    "    amenities_importance['Amenity_Name'][i] = list_of_amenities[i]\n",
    "    amenities_importance['Booking Ratio for HAVING the Amenity'][i] = df_seattle.groupby([list_of_amenities[i]])['booking_ratio_30'].mean()[1]\n",
    "    amenities_importance['Booking Ratio for NOT HAVING the Amenity'][i] = df_seattle.groupby([list_of_amenities[i]])['booking_ratio_30'].mean()[0]\n",
    "    amenities_importance['Booking Difference'][i] = amenities_importance['Booking Ratio for HAVING the Amenity'][i] - amenities_importance['Booking Ratio for NOT HAVING the Amenity'][i]\n",
    "\n",
    "amenities_importance.set_index('Amenity_Name', inplace=True)"
   ]
  },
  {
   "cell_type": "code",
   "execution_count": 67,
   "metadata": {},
   "outputs": [
    {
     "data": {
      "text/html": [
       "<div>\n",
       "<style scoped>\n",
       "    .dataframe tbody tr th:only-of-type {\n",
       "        vertical-align: middle;\n",
       "    }\n",
       "\n",
       "    .dataframe tbody tr th {\n",
       "        vertical-align: top;\n",
       "    }\n",
       "\n",
       "    .dataframe thead th {\n",
       "        text-align: right;\n",
       "    }\n",
       "</style>\n",
       "<table border=\"1\" class=\"dataframe\">\n",
       "  <thead>\n",
       "    <tr style=\"text-align: right;\">\n",
       "      <th></th>\n",
       "      <th>Booking Ratio for HAVING the Amenity</th>\n",
       "      <th>Booking Ratio for NOT HAVING the Amenity</th>\n",
       "      <th>Booking Difference</th>\n",
       "    </tr>\n",
       "    <tr>\n",
       "      <th>Amenity_Name</th>\n",
       "      <th></th>\n",
       "      <th></th>\n",
       "      <th></th>\n",
       "    </tr>\n",
       "  </thead>\n",
       "  <tbody>\n",
       "    <tr>\n",
       "      <td>\"Washer / Dryer\"</td>\n",
       "      <td>0.616667</td>\n",
       "      <td>0.440365</td>\n",
       "      <td>0.176302</td>\n",
       "    </tr>\n",
       "    <tr>\n",
       "      <td>Kitchen</td>\n",
       "      <td>0.451154</td>\n",
       "      <td>0.347764</td>\n",
       "      <td>0.10339</td>\n",
       "    </tr>\n",
       "    <tr>\n",
       "      <td>Cat(s)</td>\n",
       "      <td>0.486649</td>\n",
       "      <td>0.435322</td>\n",
       "      <td>0.0513271</td>\n",
       "    </tr>\n",
       "    <tr>\n",
       "      <td>\"Pets Allowed\"</td>\n",
       "      <td>0.47959</td>\n",
       "      <td>0.434937</td>\n",
       "      <td>0.0446532</td>\n",
       "    </tr>\n",
       "    <tr>\n",
       "      <td>\"Other pet(s)\"</td>\n",
       "      <td>0.48366</td>\n",
       "      <td>0.439873</td>\n",
       "      <td>0.0437876</td>\n",
       "    </tr>\n",
       "    <tr>\n",
       "      <td>Dryer</td>\n",
       "      <td>0.448523</td>\n",
       "      <td>0.404782</td>\n",
       "      <td>0.0437406</td>\n",
       "    </tr>\n",
       "    <tr>\n",
       "      <td>Washer</td>\n",
       "      <td>0.449543</td>\n",
       "      <td>0.407546</td>\n",
       "      <td>0.0419968</td>\n",
       "    </tr>\n",
       "    <tr>\n",
       "      <td>\"Smoke Detector\"</td>\n",
       "      <td>0.445992</td>\n",
       "      <td>0.406642</td>\n",
       "      <td>0.0393502</td>\n",
       "    </tr>\n",
       "    <tr>\n",
       "      <td>\"Pets live on this property\"</td>\n",
       "      <td>0.464477</td>\n",
       "      <td>0.433231</td>\n",
       "      <td>0.031246</td>\n",
       "    </tr>\n",
       "    <tr>\n",
       "      <td>TV</td>\n",
       "      <td>0.448377</td>\n",
       "      <td>0.420303</td>\n",
       "      <td>0.0280732</td>\n",
       "    </tr>\n",
       "  </tbody>\n",
       "</table>\n",
       "</div>"
      ],
      "text/plain": [
       "                             Booking Ratio for HAVING the Amenity  \\\n",
       "Amenity_Name                                                        \n",
       "\"Washer / Dryer\"                                         0.616667   \n",
       "Kitchen                                                  0.451154   \n",
       "Cat(s)                                                   0.486649   \n",
       "\"Pets Allowed\"                                            0.47959   \n",
       "\"Other pet(s)\"                                            0.48366   \n",
       "Dryer                                                    0.448523   \n",
       "Washer                                                   0.449543   \n",
       "\"Smoke Detector\"                                         0.445992   \n",
       "\"Pets live on this property\"                             0.464477   \n",
       "TV                                                       0.448377   \n",
       "\n",
       "                             Booking Ratio for NOT HAVING the Amenity  \\\n",
       "Amenity_Name                                                            \n",
       "\"Washer / Dryer\"                                             0.440365   \n",
       "Kitchen                                                      0.347764   \n",
       "Cat(s)                                                       0.435322   \n",
       "\"Pets Allowed\"                                               0.434937   \n",
       "\"Other pet(s)\"                                               0.439873   \n",
       "Dryer                                                        0.404782   \n",
       "Washer                                                       0.407546   \n",
       "\"Smoke Detector\"                                             0.406642   \n",
       "\"Pets live on this property\"                                 0.433231   \n",
       "TV                                                           0.420303   \n",
       "\n",
       "                             Booking Difference  \n",
       "Amenity_Name                                     \n",
       "\"Washer / Dryer\"                       0.176302  \n",
       "Kitchen                                 0.10339  \n",
       "Cat(s)                                0.0513271  \n",
       "\"Pets Allowed\"                        0.0446532  \n",
       "\"Other pet(s)\"                        0.0437876  \n",
       "Dryer                                 0.0437406  \n",
       "Washer                                0.0419968  \n",
       "\"Smoke Detector\"                      0.0393502  \n",
       "\"Pets live on this property\"           0.031246  \n",
       "TV                                    0.0280732  "
      ]
     },
     "execution_count": 67,
     "metadata": {},
     "output_type": "execute_result"
    }
   ],
   "source": [
    "#Here I list the Top 10 booking difference to see which amenities are most prefered by guests.\n",
    "amenities_importance.sort_values(by='Booking Difference', ascending = False)[:10]"
   ]
  },
  {
   "cell_type": "code",
   "execution_count": 68,
   "metadata": {
    "scrolled": true
   },
   "outputs": [
    {
     "data": {
      "image/png": "[encoded data removed]",
      "text/plain": [
       "<Figure size 432x288 with 1 Axes>"
      ]
     },
     "metadata": {
      "needs_background": "light"
     },
     "output_type": "display_data"
    }
   ],
   "source": [
    "#Here I draw a bar chart to visualize which amenities are most prefered by guests.\n",
    "amenities_importance['Booking Difference'].sort_values(ascending = False)[:10].plot(kind='bar', legend=None)\n",
    "plt.title('Most Popular Amenities');\n",
    "plt.ylabel('Booking Ratio Difference for Next 30 Days')\n",
    "plt.show()"
   ]
  },
  {
   "cell_type": "code",
   "execution_count": 69,
   "metadata": {},
   "outputs": [
    {
     "data": {
      "image/png": "[encoded data removed]",
      "text/plain": [
       "<Figure size 432x288 with 1 Axes>"
      ]
     },
     "metadata": {
      "needs_background": "light"
     },
     "output_type": "display_data"
    }
   ],
   "source": [
    "#Here I draw a bar chart to visualize which amenities are least prefered by guests.\n",
    "amenities_importance['Booking Difference'].sort_values(ascending = True)[:10].plot(kind='bar', legend=None)\n",
    "plt.title('Least Popular Amenities');\n",
    "plt.ylabel('Booking Ratio Difference for Next 30 Days')\n",
    "plt.show()"
   ]
  },
  {
   "cell_type": "markdown",
   "metadata": {},
   "source": [
    "So for the answer of Question-2 (\"What attracts the guests most for renting a property?\") we can say that having a Washer/Dryer increases the booking rate for next 30 days more than 15%. Also having a kitchen and allowing pets are good ideas for increasing the popularity for a listing.\n",
    "\n",
    "Also when comparing different room_types, an \"Entire home/apt\" is more than 10% more popular than a private room or a shared room.\n",
    "It looks like having a pool or serving breakfast does not help a listing to be preferred, probably because of the increased price with these amenities."
   ]
  },
  {
   "cell_type": "markdown",
   "metadata": {},
   "source": [
    "EValuation and Visulaization is complete in below step with detaliled understanding of problem.\n",
    "Q3\n",
    "\n",
    "There are so many features in the dataset, that has effect on the price of the listing. In the third question I would like to train a model to estimate the price of a listing. So the question I would like to answer is: How can we estimate the price of a listing, what are the most influencial features of the dataset to estimate the price of a listing."
   ]
  },
  {
   "cell_type": "markdown",
   "metadata": {},
   "source": [
    "First I would like to know about the number of missing values in the features that are related to price."
   ]
  },
  {
   "cell_type": "code",
   "execution_count": 70,
   "metadata": {},
   "outputs": [
    {
     "name": "stdout",
     "output_type": "stream",
     "text": [
      "0\n",
      "1809\n",
      "2301\n",
      "1952\n",
      "1030\n"
     ]
    }
   ],
   "source": [
    "print(df_seattle['price'].isnull().sum())\n",
    "print(df_seattle['weekly_price'].isnull().sum())\n",
    "print(df_seattle['monthly_price'].isnull().sum())\n",
    "print(df_seattle['security_deposit'].isnull().sum())\n",
    "print(df_seattle['cleaning_fee'].isnull().sum())"
   ]
  },
  {
   "cell_type": "markdown",
   "metadata": {},
   "source": [
    "There are five different prices in the dataset, which are listed below.\n",
    "- price\n",
    "- weekly_price\n",
    "- monthly_price\n",
    "- security_deposit\n",
    "- cleaning_fee\n",
    "\n",
    "In the code cell above, I find the number of null values in each column. As can be seen, some of the listings do not have weekly or monthly price. So it is a better idea to model the \"price\" because of larger sample size.\n",
    "I will not take into account the security deposit and cleaning fee."
   ]
  },
  {
   "cell_type": "code",
   "execution_count": 71,
   "metadata": {},
   "outputs": [],
   "source": [
    "#Below, I made a list of important features in my opinion for estimating the price of a listing and created\n",
    "#a sub-dataframe of listings dataframe.\n",
    "\n",
    "#In order to answer the first question, I made columns for amenities categorical value, I will use all amenities columns\n",
    "#I created there.\n",
    "\n",
    "features_of_interest = ['bathrooms', 'bedrooms', 'beds', 'latitude', 'longitude', 'square_feet', 'reviews_per_month',\n",
    "        'booking_ratio_30', 'accommodates', 'guests_included', '\"24-Hour Check-in\"', '\"Suitable for Events\"',\n",
    "       '\"Pets live on this property\"', 'Dog(s)', '\"Smoking Allowed\"',\n",
    "       '\"Other pet(s)\"', 'Essentials', '\"Wireless Internet\"',\n",
    "       '\"Buzzer/Wireless Intercom\"', 'TV', 'Gym', 'Washer', 'Doorman', 'Dryer',\n",
    "       '\"Hot Tub\"', '\"Air Conditioning\"', '\"Pets Allowed\"', 'Pool',\n",
    "       '\"Hair Dryer\"', '\"Fire Extinguisher\"', 'Breakfast', '\"Washer / Dryer\"',\n",
    "       '\"Laptop Friendly Workspace\"', '\"Free Parking on Premises\"',\n",
    "       '\"Lock on Bedroom Door\"', 'Cat(s)', 'Hangers', '\"Family/Kid Friendly\"',\n",
    "       '\"Carbon Monoxide Detector\"', '\"Safety Card\"', 'Kitchen',\n",
    "       '\"Elevator in Building\"', 'Internet', 'Shampoo', '\"Smoke Detector\"',\n",
    "       '\"Wheelchair Accessible\"', 'Iron', '\"First Aid Kit\"',\n",
    "       '\"Indoor Fireplace\"', '\"Cable TV\"', 'Heating', 'host_is_superhost', 'neighbourhood_group_cleansed',\n",
    "        'property_type','room_type','bed_type','price','security_deposit',\n",
    "        'cleaning_fee', 'extra_people', 'instant_bookable', 'cancellation_policy']\n",
    "\n",
    "df_seattle_ml = df_seattle[features_of_interest]"
   ]
  },
  {
   "cell_type": "code",
   "execution_count": null,
   "metadata": {},
   "outputs": [],
   "source": [
    "#Now lets check the missing values in each columns and find a way to fill them.\n",
    "\n",
    "df_seattle_ml.isnull().sum()[df_seattle_ml.isnull().sum()>0]"
   ]
  },
  {
   "cell_type": "markdown",
   "metadata": {},
   "source": [
    "Now i will do MIssing treatment as linear Regression will not accept NAN or missing values."
   ]
  },
  {
   "cell_type": "code",
   "execution_count": 72,
   "metadata": {},
   "outputs": [],
   "source": [
    "#Here I drop the 'square_feet' column since there are many missing values and\n",
    "\n",
    "\n",
    "df_seattle_ml = df_seattle_ml.drop(columns='square_feet')"
   ]
  },
  {
   "cell_type": "code",
   "execution_count": 73,
   "metadata": {},
   "outputs": [],
   "source": [
    "#Below, I replace the missing values of 4 features (bathrooms, bedrooms, beds and reviews_per_month) with\n",
    "#mean values of each feature in the dataset.\n",
    "\n",
    "df_seattle_ml['bathrooms'].fillna(df_seattle_ml['bathrooms'].mean(), inplace=True)\n",
    "df_seattle_ml['bedrooms'].fillna(df_seattle_ml['bedrooms'].mean(), inplace=True)\n",
    "df_seattle_ml['beds'].fillna(df_seattle_ml['beds'].mean(), inplace=True)\n",
    "df_seattle_ml['reviews_per_month'].fillna(df_seattle_ml['reviews_per_month'].mean(), inplace=True)"
   ]
  },
  {
   "cell_type": "code",
   "execution_count": 74,
   "metadata": {},
   "outputs": [],
   "source": [
    "#Below, I replace the missing values of 2 features (host_is_superhost and property_type) with\n",
    "#mode values (most common) of each feature in the dataset.\n",
    "\n",
    "df_seattle_ml['host_is_superhost'].fillna(df_seattle_ml['host_is_superhost'].mode()[0], inplace=True)\n",
    "df_seattle_ml['property_type'].fillna(df_seattle_ml['property_type'].mode()[0], inplace=True)"
   ]
  },
  {
   "cell_type": "code",
   "execution_count": 75,
   "metadata": {},
   "outputs": [],
   "source": [
    "#Below, I replace the missing values of 2 features (security_deposit and cleaning_fee) with zeros.\n",
    "#The missing values in these features most probably mean they are equal to zero\n",
    "\n",
    "df_seattle_ml['security_deposit'].fillna(0, inplace=True)\n",
    "df_seattle_ml['cleaning_fee'].fillna(0, inplace=True)"
   ]
  },
  {
   "cell_type": "markdown",
   "metadata": {},
   "source": [
    "Now I will check the datatypes, make necessary changes for the datatypes. Also I will have to make new columns for categorical columns."
   ]
  },
  {
   "cell_type": "code",
   "execution_count": 76,
   "metadata": {},
   "outputs": [
    {
     "data": {
      "text/plain": [
       "bathrooms              float64\n",
       "bedrooms               float64\n",
       "beds                   float64\n",
       "latitude               float64\n",
       "longitude              float64\n",
       "                        ...   \n",
       "security_deposit        object\n",
       "cleaning_fee            object\n",
       "extra_people            object\n",
       "instant_bookable        object\n",
       "cancellation_policy     object\n",
       "Length: 61, dtype: object"
      ]
     },
     "execution_count": 76,
     "metadata": {},
     "output_type": "execute_result"
    }
   ],
   "source": [
    "df_seattle_ml.dtypes"
   ]
  },
  {
   "cell_type": "markdown",
   "metadata": {},
   "source": [
    "The following columns have to change from object to float:\n",
    "- price\n",
    "- security_deposit\n",
    "- cleaning_fee"
   ]
  },
  {
   "cell_type": "code",
   "execution_count": 77,
   "metadata": {},
   "outputs": [],
   "source": [
    "#In the columns that have information about price, the $ signs and (comma) signs has to be removed. \n",
    "\n",
    "df_seattle_ml['price'] = df_seattle_ml['price'].str.replace('$', '')\n",
    "df_seattle_ml['security_deposit'] = df_seattle_ml['security_deposit'].str.replace('$', '')\n",
    "df_seattle_ml['cleaning_fee'] = df_seattle_ml['cleaning_fee'].str.replace('$', '')\n",
    "df_seattle_ml['extra_people'] = df_seattle_ml['extra_people'].str.replace('$', '')\n",
    "\n",
    "df_seattle_ml['price'] = df_seattle_ml['price'].str.replace(',', '')\n",
    "df_seattle_ml['security_deposit'] = df_seattle_ml['security_deposit'].str.replace(',', '')\n",
    "df_seattle_ml['cleaning_fee'] = df_seattle_ml['cleaning_fee'].str.replace(',', '')\n",
    "df_seattle_ml['extra_people'] = df_seattle_ml['extra_people'].str.replace(',', '')\n",
    "\n",
    "#Removing $ and , signs made 0 (zero) values NaN again. So I have to fillna with 0 again. \n",
    "df_seattle_ml['security_deposit'].fillna(0, inplace=True)\n",
    "df_seattle_ml['cleaning_fee'].fillna(0, inplace=True)"
   ]
  },
  {
   "cell_type": "code",
   "execution_count": 78,
   "metadata": {},
   "outputs": [],
   "source": [
    "#Changing data type from string to float.\n",
    "df_seattle_ml['price'] = df_seattle_ml['price'].astype(float)\n",
    "df_seattle_ml['security_deposit'] = df_seattle_ml['security_deposit'].astype(float)\n",
    "df_seattle_ml['cleaning_fee'] = df_seattle_ml['cleaning_fee'].astype(float)\n",
    "df_seattle_ml['extra_people'] = df_seattle_ml['extra_people'].astype(float)"
   ]
  },
  {
   "cell_type": "code",
   "execution_count": 79,
   "metadata": {
    "scrolled": true
   },
   "outputs": [],
   "source": [
    "#creating a new dataframe which is a subset of categorical columns of out df_lis_ml dataframe\n",
    "cat_cols = df_seattle_ml.select_dtypes(include=['object'])"
   ]
  },
  {
   "cell_type": "code",
   "execution_count": 80,
   "metadata": {},
   "outputs": [
    {
     "data": {
      "text/html": [
       "<div>\n",
       "<style scoped>\n",
       "    .dataframe tbody tr th:only-of-type {\n",
       "        vertical-align: middle;\n",
       "    }\n",
       "\n",
       "    .dataframe tbody tr th {\n",
       "        vertical-align: top;\n",
       "    }\n",
       "\n",
       "    .dataframe thead th {\n",
       "        text-align: right;\n",
       "    }\n",
       "</style>\n",
       "<table border=\"1\" class=\"dataframe\">\n",
       "  <thead>\n",
       "    <tr style=\"text-align: right;\">\n",
       "      <th></th>\n",
       "      <th>host_is_superhost</th>\n",
       "      <th>neighbourhood_group_cleansed</th>\n",
       "      <th>property_type</th>\n",
       "      <th>room_type</th>\n",
       "      <th>bed_type</th>\n",
       "      <th>instant_bookable</th>\n",
       "      <th>cancellation_policy</th>\n",
       "    </tr>\n",
       "  </thead>\n",
       "  <tbody>\n",
       "    <tr>\n",
       "      <td>0</td>\n",
       "      <td>f</td>\n",
       "      <td>Queen Anne</td>\n",
       "      <td>Apartment</td>\n",
       "      <td>Entire home/apt</td>\n",
       "      <td>Real Bed</td>\n",
       "      <td>f</td>\n",
       "      <td>moderate</td>\n",
       "    </tr>\n",
       "    <tr>\n",
       "      <td>1</td>\n",
       "      <td>t</td>\n",
       "      <td>Queen Anne</td>\n",
       "      <td>Apartment</td>\n",
       "      <td>Entire home/apt</td>\n",
       "      <td>Real Bed</td>\n",
       "      <td>f</td>\n",
       "      <td>strict</td>\n",
       "    </tr>\n",
       "    <tr>\n",
       "      <td>2</td>\n",
       "      <td>f</td>\n",
       "      <td>Queen Anne</td>\n",
       "      <td>House</td>\n",
       "      <td>Entire home/apt</td>\n",
       "      <td>Real Bed</td>\n",
       "      <td>f</td>\n",
       "      <td>strict</td>\n",
       "    </tr>\n",
       "    <tr>\n",
       "      <td>3</td>\n",
       "      <td>f</td>\n",
       "      <td>Queen Anne</td>\n",
       "      <td>Apartment</td>\n",
       "      <td>Entire home/apt</td>\n",
       "      <td>Real Bed</td>\n",
       "      <td>f</td>\n",
       "      <td>flexible</td>\n",
       "    </tr>\n",
       "    <tr>\n",
       "      <td>4</td>\n",
       "      <td>f</td>\n",
       "      <td>Queen Anne</td>\n",
       "      <td>House</td>\n",
       "      <td>Entire home/apt</td>\n",
       "      <td>Real Bed</td>\n",
       "      <td>f</td>\n",
       "      <td>strict</td>\n",
       "    </tr>\n",
       "  </tbody>\n",
       "</table>\n",
       "</div>"
      ],
      "text/plain": [
       "  host_is_superhost neighbourhood_group_cleansed property_type  \\\n",
       "0                 f                   Queen Anne     Apartment   \n",
       "1                 t                   Queen Anne     Apartment   \n",
       "2                 f                   Queen Anne         House   \n",
       "3                 f                   Queen Anne     Apartment   \n",
       "4                 f                   Queen Anne         House   \n",
       "\n",
       "         room_type  bed_type instant_bookable cancellation_policy  \n",
       "0  Entire home/apt  Real Bed                f            moderate  \n",
       "1  Entire home/apt  Real Bed                f              strict  \n",
       "2  Entire home/apt  Real Bed                f              strict  \n",
       "3  Entire home/apt  Real Bed                f            flexible  \n",
       "4  Entire home/apt  Real Bed                f              strict  "
      ]
     },
     "execution_count": 80,
     "metadata": {},
     "output_type": "execute_result"
    }
   ],
   "source": [
    "cat_cols.head()"
   ]
  },
  {
   "cell_type": "code",
   "execution_count": 81,
   "metadata": {},
   "outputs": [],
   "source": [
    "# Making new columns from categorical variables in order to use these features in ML regression algoritm.\n",
    "for col in cat_cols:\n",
    "    try:\n",
    "        df_seattle_ml = pd.concat([df_seattle_ml.drop(col, axis=1), pd.get_dummies(df_seattle_ml[col], prefix=col, prefix_sep='_', drop_first=True)], axis=1)\n",
    "    except:\n",
    "        continue"
   ]
  },
  {
   "cell_type": "markdown",
   "metadata": {},
   "source": [
    "Since I made the data ready, I will try Linear Regression to estimate price depending on features I selected."
   ]
  },
  {
   "cell_type": "code",
   "execution_count": 82,
   "metadata": {},
   "outputs": [],
   "source": [
    "#Creating the X (feautures) and y (the variable to be modelled) dataframes\n",
    "y = df_seattle_ml['price']\n",
    "X = df_seattle_ml.drop(columns='price')"
   ]
  },
  {
   "cell_type": "code",
   "execution_count": 83,
   "metadata": {},
   "outputs": [],
   "source": [
    "#Splitting the new dataframes into train and test dataframes\n",
    "X_train, X_test, y_train, y_test = train_test_split(X, y, test_size = 0.2, random_state=42)\n"
   ]
  },
  {
   "cell_type": "code",
   "execution_count": 84,
   "metadata": {
    "scrolled": true
   },
   "outputs": [
    {
     "name": "stdout",
     "output_type": "stream",
     "text": [
      "0.6193258748837265\n"
     ]
    }
   ],
   "source": [
    "#Applying the linear regression, fitting the model, making predictions with the test set and scoring the success of the model\n",
    "lm_model = LinearRegression(normalize=True)\n",
    "lm_model.fit(X_train, y_train)\n",
    "y_test_preds = lm_model.predict(X_test)\n",
    "test_score = r2_score(y_test, y_test_preds)\n",
    "print(test_score)"
   ]
  },
  {
   "cell_type": "markdown",
   "metadata": {},
   "source": [
    "The r-squared value of my model is 0.619 which is not too high."
   ]
  },
  {
   "cell_type": "markdown",
   "metadata": {},
   "source": [
    "I want to investigate about the coefficients of my model. Below function is taken from one of the Udacity jupyter notebook examples. I used this code to see coefficients of my model."
   ]
  },
  {
   "cell_type": "code",
   "execution_count": 117,
   "metadata": {},
   "outputs": [],
   "source": [
    "#Below function is taken from one of the Udacity jupyter notebook examples. I used this code to see coefficients of my model. \n",
    "def coef_weights(coefficients, X_train):\n",
    "    '''\n",
    "    INPUT:\n",
    "    coefficients - the coefficients of the linear model \n",
    "    X_train - the training data, so the column names can be used\n",
    "    OUTPUT:\n",
    "    coefs_df - a dataframe holding the coefficient, estimate, and abs(estimate)\n",
    "    \n",
    "    Provides a dataframe that can be used to understand the most influential coefficients\n",
    "    in a linear model by providing the coefficient estimates along with the name of the \n",
    "    variable attached to the coefficient.\n",
    "    '''\n",
    "    coefs_df = pd.DataFrame()\n",
    "    coefs_df['est_int'] = X_train.columns\n",
    "    coefs_df['coefs'] = lm_model.coef_\n",
    "    coefs_df['abs_coefs'] = np.abs(lm_model.coef_)\n",
    "    coefs_df = coefs_df.sort_values('abs_coefs', ascending=False)\n",
    "    return coefs_df\n",
    "\n",
    "#Use the function\n",
    "coef_df = coef_weights(lm_model.coef_, X_train)"
   ]
  },
  {
   "cell_type": "markdown",
   "metadata": {},
   "source": [
    "Below is the list features that are the most influential coefficients. "
   ]
  },
  {
   "cell_type": "code",
   "execution_count": 140,
   "metadata": {},
   "outputs": [
    {
     "data": {
      "text/html": [
       "<div>\n",
       "<style scoped>\n",
       "    .dataframe tbody tr th:only-of-type {\n",
       "        vertical-align: middle;\n",
       "    }\n",
       "\n",
       "    .dataframe tbody tr th {\n",
       "        vertical-align: top;\n",
       "    }\n",
       "\n",
       "    .dataframe thead th {\n",
       "        text-align: right;\n",
       "    }\n",
       "</style>\n",
       "<table border=\"1\" class=\"dataframe\">\n",
       "  <thead>\n",
       "    <tr style=\"text-align: right;\">\n",
       "      <th></th>\n",
       "      <th>est_int</th>\n",
       "      <th>coefs</th>\n",
       "      <th>abs_coefs</th>\n",
       "    </tr>\n",
       "  </thead>\n",
       "  <tbody>\n",
       "    <tr>\n",
       "      <td>71</td>\n",
       "      <td>property_type_Boat</td>\n",
       "      <td>173.995502</td>\n",
       "      <td>173.995502</td>\n",
       "    </tr>\n",
       "    <tr>\n",
       "      <td>3</td>\n",
       "      <td>latitude</td>\n",
       "      <td>-76.983483</td>\n",
       "      <td>76.983483</td>\n",
       "    </tr>\n",
       "    <tr>\n",
       "      <td>86</td>\n",
       "      <td>room_type_Shared room</td>\n",
       "      <td>-70.314136</td>\n",
       "      <td>70.314136</td>\n",
       "    </tr>\n",
       "    <tr>\n",
       "      <td>74</td>\n",
       "      <td>property_type_Camper/RV</td>\n",
       "      <td>65.863014</td>\n",
       "      <td>65.863014</td>\n",
       "    </tr>\n",
       "    <tr>\n",
       "      <td>41</td>\n",
       "      <td>Internet</td>\n",
       "      <td>-39.714560</td>\n",
       "      <td>39.714560</td>\n",
       "    </tr>\n",
       "    <tr>\n",
       "      <td>77</td>\n",
       "      <td>property_type_Dorm</td>\n",
       "      <td>-36.312534</td>\n",
       "      <td>36.312534</td>\n",
       "    </tr>\n",
       "    <tr>\n",
       "      <td>85</td>\n",
       "      <td>room_type_Private room</td>\n",
       "      <td>-36.260990</td>\n",
       "      <td>36.260990</td>\n",
       "    </tr>\n",
       "    <tr>\n",
       "      <td>16</td>\n",
       "      <td>\"Wireless Internet\"</td>\n",
       "      <td>35.356470</td>\n",
       "      <td>35.356470</td>\n",
       "    </tr>\n",
       "    <tr>\n",
       "      <td>79</td>\n",
       "      <td>property_type_Loft</td>\n",
       "      <td>34.216056</td>\n",
       "      <td>34.216056</td>\n",
       "    </tr>\n",
       "    <tr>\n",
       "      <td>83</td>\n",
       "      <td>property_type_Treehouse</td>\n",
       "      <td>30.796264</td>\n",
       "      <td>30.796264</td>\n",
       "    </tr>\n",
       "  </tbody>\n",
       "</table>\n",
       "</div>"
      ],
      "text/plain": [
       "                    est_int       coefs   abs_coefs\n",
       "71       property_type_Boat  173.995502  173.995502\n",
       "3                  latitude  -76.983483   76.983483\n",
       "86    room_type_Shared room  -70.314136   70.314136\n",
       "74  property_type_Camper/RV   65.863014   65.863014\n",
       "41                 Internet  -39.714560   39.714560\n",
       "77       property_type_Dorm  -36.312534   36.312534\n",
       "85   room_type_Private room  -36.260990   36.260990\n",
       "16      \"Wireless Internet\"   35.356470   35.356470\n",
       "79       property_type_Loft   34.216056   34.216056\n",
       "83  property_type_Treehouse   30.796264   30.796264"
      ]
     },
     "execution_count": 140,
     "metadata": {},
     "output_type": "execute_result"
    }
   ],
   "source": [
    "coef_df.head(10)\n",
    "\n"
   ]
  },
  {
   "cell_type": "markdown",
   "metadata": {},
   "source": [
    "In order to increase r-squared value I will use SelectKBest.\n",
    "Below I write a function that tests different \"k\" numbers and compare r-squared for each k value."
   ]
  },
  {
   "cell_type": "code",
   "execution_count": 93,
   "metadata": {},
   "outputs": [],
   "source": [
    "def find_optimal_number_of_selectors(X, y, k_samples, plot=True):\n",
    "    '''\n",
    "    INPUT:\n",
    "    X dataframe that contains the features.\n",
    "    y dataframe that contains the variable to be predicted.\n",
    "    k_samples is a list of k values that will be tested.\n",
    "    \n",
    "    OUTPUT:\n",
    "    A dictionary that contains values of tested k-values as keys and r-squared values for each key.\n",
    "    The k-value that has the highest r-squared.\n",
    "\n",
    "    '''   \n",
    "    result_r_squareds = []\n",
    "    results = {}\n",
    "    for kes in k_samples:\n",
    "        selector = SelectKBest(score_func=f_regression, k=kes)\n",
    "        selector.fit_transform(X, y)\n",
    "        selected_cols = selector.get_support(indices=True)\n",
    "        features_new_X = X.iloc[:,selected_cols]\n",
    "        \n",
    "        X_train, X_test, y_train, y_test = train_test_split(features_new_X, y, test_size = 0.2, random_state=42)\n",
    "        lm_model = LinearRegression(normalize=True)\n",
    "        lm_model.fit(X_train, y_train)\n",
    "        y_test_preds = lm_model.predict(X_test)\n",
    "        result_r_squareds.append(r2_score(y_test, y_test_preds))\n",
    "        results[str(kes)] = r2_score(y_test, y_test_preds)\n",
    "    \n",
    "    if plot:\n",
    "        plt.plot(k_samples, result_r_squareds, label=\"r-squared\", alpha=0.5)\n",
    "        plt.xlabel(\"Different k_values\")\n",
    "        plt.ylabel(\"R_Squared_Values\")\n",
    "        plt.legend(loc=1)\n",
    "        plt.show()\n",
    "    \n",
    "    best_k = max(results, key=results.get)\n",
    "    \n",
    "    return results, best_k"
   ]
  },
  {
   "cell_type": "code",
   "execution_count": 141,
   "metadata": {},
   "outputs": [
    {
     "data": {
      "image/png": "[encoded data removed]",
      "text/plain": [
       "<Figure size 432x288 with 1 Axes>"
      ]
     },
     "metadata": {
      "needs_background": "light"
     },
     "output_type": "display_data"
    },
    {
     "name": "stdout",
     "output_type": "stream",
     "text": [
      "{'10': 0.5610719934185298, '11': 0.5613631161773545, '12': 0.5618706404225704, '13': 0.5627192753466563, '14': 0.5798179780206143, '15': 0.5798260185879054, '16': 0.5859423320366868, '17': 0.5851382220911276, '18': 0.5830889041071929, '19': 0.5831087206719212, '20': 0.5830826716960481, '21': 0.5831107940544076, '22': 0.5963593970815535, '23': 0.5972542455699521, '24': 0.5968826231621436, '25': 0.5968069326103846, '26': 0.5968841784629724, '27': 0.5968631459356524, '28': 0.6003294350498085, '29': 0.6017226468717207, '30': 0.6023189756307836, '31': 0.6024150140594338, '32': 0.606977936231148, '33': 0.6107747907289518, '34': 0.6103742896077491, '35': 0.6114487579913678, '36': 0.6114166183813408, '37': 0.613722973080196, '38': 0.6135929076595791, '39': 0.6124991835786586, '40': 0.61040628209557, '41': 0.6130624963208635, '42': 0.6141644667037673, '43': 0.6140255891359943, '44': 0.6134345497904745, '45': 0.6149222913789423, '46': 0.6148767047130215, '47': 0.6151736281808575, '48': 0.6153163866263704, '49': 0.6149379577967953, '50': 0.6138949505224265, '51': 0.6155491221759617, '52': 0.6154571834357416, '53': 0.6159728939480706, '54': 0.6162167124910245, '55': 0.6163153998458402, '56': 0.6160676433755885, '57': 0.6158794008610563, '58': 0.6150161149980227, '59': 0.6167866342904917, '60': 0.6166853753981931, '61': 0.6174941624578577, '62': 0.617568871692302, '63': 0.6173031048305015, '64': 0.6173036491243034, '65': 0.6171068862901214, '66': 0.6170290688953419, '67': 0.6168560089604351, '68': 0.6175537618580706, '69': 0.6185535961661521, '70': 0.6213694653367434, '71': 0.6214630816700208, '72': 0.6212938632921585, '73': 0.6219760859625727, '74': 0.622261112547841, '75': 0.62281178099673, '76': 0.6217649095148532, '77': 0.6225653379657371, '78': 0.622944697559055, '79': 0.6244004059671672, '80': 0.6234164762947241, '81': 0.622590831722298, '82': 0.6223661232035163, '83': 0.6224016110404306, '84': 0.6217392890663462, '85': 0.6218608658012563, '86': 0.621986831415038, '87': 0.6218275094382482, '88': 0.6218303611577609, '89': 0.6218152530928247, '90': 0.6187747737990731, '91': 0.6184631696089102, '92': 0.6183022571695844, '93': 0.6183293979771576}\n",
      "79\n",
      "0.6244004059671672\n"
     ]
    }
   ],
   "source": [
    "#I test a range of k values from 10 to 94 (which is the number of all features)\n",
    "#and find the number of features that generate the highest r-squared value.\n",
    "k_samples = range(10, len(X.columns))\n",
    "emre_results, emre_best_k = find_optimal_number_of_selectors(X, y, k_samples)\n",
    "print(emre_results)\n",
    "print(emre_best_k)\n",
    "print(emre_results[emre_best_k])\n",
    "\n",
    "plt.show()"
   ]
  },
  {
   "cell_type": "markdown",
   "metadata": {},
   "source": [
    "The highest r-squared value is achieved with 79 features and the r-squared value is 0,6244"
   ]
  }
 ],
 "metadata": {
  "kernelspec": {
   "display_name": "Python 3",
   "language": "python",
   "name": "python3"
  },
  "language_info": {
   "codemirror_mode": {
    "name": "ipython",
    "version": 3
   },
   "file_extension": ".py",
   "mimetype": "text/x-python",
   "name": "python",
   "nbconvert_exporter": "python",
   "pygments_lexer": "ipython3",
   "version": "3.7.4"
  }
 },
 "nbformat": 4,
 "nbformat_minor": 2
}
